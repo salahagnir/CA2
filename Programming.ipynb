{
  "nbformat": 4,
  "nbformat_minor": 0,
  "metadata": {
    "colab": {
      "provenance": [],
      "authorship_tag": "ABX9TyNrrCxxkD/e9F+uAx9o1eN9",
      "include_colab_link": true
    },
    "kernelspec": {
      "name": "python3",
      "display_name": "Python 3"
    },
    "language_info": {
      "name": "python"
    }
  },
  "cells": [
    {
      "cell_type": "markdown",
      "metadata": {
        "id": "view-in-github",
        "colab_type": "text"
      },
      "source": [
        "<a href=\"https://colab.research.google.com/github/salahagnir/CA2/blob/main/Programming.ipynb\" target=\"_parent\"><img src=\"https://colab.research.google.com/assets/colab-badge.svg\" alt=\"Open In Colab\"/></a>"
      ]
    },
    {
      "cell_type": "code",
      "source": [
        "pip install dash"
      ],
      "metadata": {
        "colab": {
          "base_uri": "https://localhost:8080/"
        },
        "id": "l7uxebkGuTVS",
        "outputId": "69945db0-f79d-47bb-b7bb-9c7b2741e2dc"
      },
      "execution_count": 1,
      "outputs": [
        {
          "output_type": "stream",
          "name": "stdout",
          "text": [
            "Collecting dash\n",
            "  Downloading dash-2.14.2-py3-none-any.whl (10.2 MB)\n",
            "\u001b[2K     \u001b[90m━━━━━━━━━━━━━━━━━━━━━━━━━━━━━━━━━━━━━━━━\u001b[0m \u001b[32m10.2/10.2 MB\u001b[0m \u001b[31m22.1 MB/s\u001b[0m eta \u001b[36m0:00:00\u001b[0m\n",
            "\u001b[?25hRequirement already satisfied: Flask<3.1,>=1.0.4 in /usr/local/lib/python3.10/dist-packages (from dash) (2.2.5)\n",
            "Requirement already satisfied: Werkzeug<3.1 in /usr/local/lib/python3.10/dist-packages (from dash) (3.0.1)\n",
            "Requirement already satisfied: plotly>=5.0.0 in /usr/local/lib/python3.10/dist-packages (from dash) (5.15.0)\n",
            "Collecting dash-html-components==2.0.0 (from dash)\n",
            "  Downloading dash_html_components-2.0.0-py3-none-any.whl (4.1 kB)\n",
            "Collecting dash-core-components==2.0.0 (from dash)\n",
            "  Downloading dash_core_components-2.0.0-py3-none-any.whl (3.8 kB)\n",
            "Collecting dash-table==5.0.0 (from dash)\n",
            "  Downloading dash_table-5.0.0-py3-none-any.whl (3.9 kB)\n",
            "Requirement already satisfied: typing-extensions>=4.1.1 in /usr/local/lib/python3.10/dist-packages (from dash) (4.5.0)\n",
            "Requirement already satisfied: requests in /usr/local/lib/python3.10/dist-packages (from dash) (2.31.0)\n",
            "Collecting retrying (from dash)\n",
            "  Downloading retrying-1.3.4-py3-none-any.whl (11 kB)\n",
            "Collecting ansi2html (from dash)\n",
            "  Downloading ansi2html-1.9.1-py3-none-any.whl (17 kB)\n",
            "Requirement already satisfied: nest-asyncio in /usr/local/lib/python3.10/dist-packages (from dash) (1.5.8)\n",
            "Requirement already satisfied: setuptools in /usr/local/lib/python3.10/dist-packages (from dash) (67.7.2)\n",
            "Requirement already satisfied: importlib-metadata in /usr/local/lib/python3.10/dist-packages (from dash) (7.0.0)\n",
            "Requirement already satisfied: Jinja2>=3.0 in /usr/local/lib/python3.10/dist-packages (from Flask<3.1,>=1.0.4->dash) (3.1.2)\n",
            "Requirement already satisfied: itsdangerous>=2.0 in /usr/local/lib/python3.10/dist-packages (from Flask<3.1,>=1.0.4->dash) (2.1.2)\n",
            "Requirement already satisfied: click>=8.0 in /usr/local/lib/python3.10/dist-packages (from Flask<3.1,>=1.0.4->dash) (8.1.7)\n",
            "Requirement already satisfied: tenacity>=6.2.0 in /usr/local/lib/python3.10/dist-packages (from plotly>=5.0.0->dash) (8.2.3)\n",
            "Requirement already satisfied: packaging in /usr/local/lib/python3.10/dist-packages (from plotly>=5.0.0->dash) (23.2)\n",
            "Requirement already satisfied: MarkupSafe>=2.1.1 in /usr/local/lib/python3.10/dist-packages (from Werkzeug<3.1->dash) (2.1.3)\n",
            "Requirement already satisfied: zipp>=0.5 in /usr/local/lib/python3.10/dist-packages (from importlib-metadata->dash) (3.17.0)\n",
            "Requirement already satisfied: charset-normalizer<4,>=2 in /usr/local/lib/python3.10/dist-packages (from requests->dash) (3.3.2)\n",
            "Requirement already satisfied: idna<4,>=2.5 in /usr/local/lib/python3.10/dist-packages (from requests->dash) (3.6)\n",
            "Requirement already satisfied: urllib3<3,>=1.21.1 in /usr/local/lib/python3.10/dist-packages (from requests->dash) (2.0.7)\n",
            "Requirement already satisfied: certifi>=2017.4.17 in /usr/local/lib/python3.10/dist-packages (from requests->dash) (2023.11.17)\n",
            "Requirement already satisfied: six>=1.7.0 in /usr/local/lib/python3.10/dist-packages (from retrying->dash) (1.16.0)\n",
            "Installing collected packages: dash-table, dash-html-components, dash-core-components, retrying, ansi2html, dash\n",
            "Successfully installed ansi2html-1.9.1 dash-2.14.2 dash-core-components-2.0.0 dash-html-components-2.0.0 dash-table-5.0.0 retrying-1.3.4\n"
          ]
        }
      ]
    },
    {
      "cell_type": "code",
      "execution_count": 2,
      "metadata": {
        "colab": {
          "base_uri": "https://localhost:8080/"
        },
        "id": "hAnVYB1RRvG9",
        "outputId": "121eac6c-c007-4067-d634-313b1195765f"
      },
      "outputs": [
        {
          "output_type": "stream",
          "name": "stdout",
          "text": [
            "{'info': {'count': 826, 'pages': 42, 'next': 'https://rickandmortyapi.com/api/character?page=2', 'prev': None}, 'results': [{'id': 1, 'name': 'Rick Sanchez', 'status': 'Alive', 'species': 'Human', 'type': '', 'gender': 'Male', 'origin': {'name': 'Earth (C-137)', 'url': 'https://rickandmortyapi.com/api/location/1'}, 'location': {'name': 'Citadel of Ricks', 'url': 'https://rickandmortyapi.com/api/location/3'}, 'image': 'https://rickandmortyapi.com/api/character/avatar/1.jpeg', 'episode': ['https://rickandmortyapi.com/api/episode/1', 'https://rickandmortyapi.com/api/episode/2', 'https://rickandmortyapi.com/api/episode/3', 'https://rickandmortyapi.com/api/episode/4', 'https://rickandmortyapi.com/api/episode/5', 'https://rickandmortyapi.com/api/episode/6', 'https://rickandmortyapi.com/api/episode/7', 'https://rickandmortyapi.com/api/episode/8', 'https://rickandmortyapi.com/api/episode/9', 'https://rickandmortyapi.com/api/episode/10', 'https://rickandmortyapi.com/api/episode/11', 'https://rickandmortyapi.com/api/episode/12', 'https://rickandmortyapi.com/api/episode/13', 'https://rickandmortyapi.com/api/episode/14', 'https://rickandmortyapi.com/api/episode/15', 'https://rickandmortyapi.com/api/episode/16', 'https://rickandmortyapi.com/api/episode/17', 'https://rickandmortyapi.com/api/episode/18', 'https://rickandmortyapi.com/api/episode/19', 'https://rickandmortyapi.com/api/episode/20', 'https://rickandmortyapi.com/api/episode/21', 'https://rickandmortyapi.com/api/episode/22', 'https://rickandmortyapi.com/api/episode/23', 'https://rickandmortyapi.com/api/episode/24', 'https://rickandmortyapi.com/api/episode/25', 'https://rickandmortyapi.com/api/episode/26', 'https://rickandmortyapi.com/api/episode/27', 'https://rickandmortyapi.com/api/episode/28', 'https://rickandmortyapi.com/api/episode/29', 'https://rickandmortyapi.com/api/episode/30', 'https://rickandmortyapi.com/api/episode/31', 'https://rickandmortyapi.com/api/episode/32', 'https://rickandmortyapi.com/api/episode/33', 'https://rickandmortyapi.com/api/episode/34', 'https://rickandmortyapi.com/api/episode/35', 'https://rickandmortyapi.com/api/episode/36', 'https://rickandmortyapi.com/api/episode/37', 'https://rickandmortyapi.com/api/episode/38', 'https://rickandmortyapi.com/api/episode/39', 'https://rickandmortyapi.com/api/episode/40', 'https://rickandmortyapi.com/api/episode/41', 'https://rickandmortyapi.com/api/episode/42', 'https://rickandmortyapi.com/api/episode/43', 'https://rickandmortyapi.com/api/episode/44', 'https://rickandmortyapi.com/api/episode/45', 'https://rickandmortyapi.com/api/episode/46', 'https://rickandmortyapi.com/api/episode/47', 'https://rickandmortyapi.com/api/episode/48', 'https://rickandmortyapi.com/api/episode/49', 'https://rickandmortyapi.com/api/episode/50', 'https://rickandmortyapi.com/api/episode/51'], 'url': 'https://rickandmortyapi.com/api/character/1', 'created': '2017-11-04T18:48:46.250Z'}, {'id': 2, 'name': 'Morty Smith', 'status': 'Alive', 'species': 'Human', 'type': '', 'gender': 'Male', 'origin': {'name': 'unknown', 'url': ''}, 'location': {'name': 'Citadel of Ricks', 'url': 'https://rickandmortyapi.com/api/location/3'}, 'image': 'https://rickandmortyapi.com/api/character/avatar/2.jpeg', 'episode': ['https://rickandmortyapi.com/api/episode/1', 'https://rickandmortyapi.com/api/episode/2', 'https://rickandmortyapi.com/api/episode/3', 'https://rickandmortyapi.com/api/episode/4', 'https://rickandmortyapi.com/api/episode/5', 'https://rickandmortyapi.com/api/episode/6', 'https://rickandmortyapi.com/api/episode/7', 'https://rickandmortyapi.com/api/episode/8', 'https://rickandmortyapi.com/api/episode/9', 'https://rickandmortyapi.com/api/episode/10', 'https://rickandmortyapi.com/api/episode/11', 'https://rickandmortyapi.com/api/episode/12', 'https://rickandmortyapi.com/api/episode/13', 'https://rickandmortyapi.com/api/episode/14', 'https://rickandmortyapi.com/api/episode/15', 'https://rickandmortyapi.com/api/episode/16', 'https://rickandmortyapi.com/api/episode/17', 'https://rickandmortyapi.com/api/episode/18', 'https://rickandmortyapi.com/api/episode/19', 'https://rickandmortyapi.com/api/episode/20', 'https://rickandmortyapi.com/api/episode/21', 'https://rickandmortyapi.com/api/episode/22', 'https://rickandmortyapi.com/api/episode/23', 'https://rickandmortyapi.com/api/episode/24', 'https://rickandmortyapi.com/api/episode/25', 'https://rickandmortyapi.com/api/episode/26', 'https://rickandmortyapi.com/api/episode/27', 'https://rickandmortyapi.com/api/episode/28', 'https://rickandmortyapi.com/api/episode/29', 'https://rickandmortyapi.com/api/episode/30', 'https://rickandmortyapi.com/api/episode/31', 'https://rickandmortyapi.com/api/episode/32', 'https://rickandmortyapi.com/api/episode/33', 'https://rickandmortyapi.com/api/episode/34', 'https://rickandmortyapi.com/api/episode/35', 'https://rickandmortyapi.com/api/episode/36', 'https://rickandmortyapi.com/api/episode/37', 'https://rickandmortyapi.com/api/episode/38', 'https://rickandmortyapi.com/api/episode/39', 'https://rickandmortyapi.com/api/episode/40', 'https://rickandmortyapi.com/api/episode/41', 'https://rickandmortyapi.com/api/episode/42', 'https://rickandmortyapi.com/api/episode/43', 'https://rickandmortyapi.com/api/episode/44', 'https://rickandmortyapi.com/api/episode/45', 'https://rickandmortyapi.com/api/episode/46', 'https://rickandmortyapi.com/api/episode/47', 'https://rickandmortyapi.com/api/episode/48', 'https://rickandmortyapi.com/api/episode/49', 'https://rickandmortyapi.com/api/episode/50', 'https://rickandmortyapi.com/api/episode/51'], 'url': 'https://rickandmortyapi.com/api/character/2', 'created': '2017-11-04T18:50:21.651Z'}, {'id': 3, 'name': 'Summer Smith', 'status': 'Alive', 'species': 'Human', 'type': '', 'gender': 'Female', 'origin': {'name': 'Earth (Replacement Dimension)', 'url': 'https://rickandmortyapi.com/api/location/20'}, 'location': {'name': 'Earth (Replacement Dimension)', 'url': 'https://rickandmortyapi.com/api/location/20'}, 'image': 'https://rickandmortyapi.com/api/character/avatar/3.jpeg', 'episode': ['https://rickandmortyapi.com/api/episode/6', 'https://rickandmortyapi.com/api/episode/7', 'https://rickandmortyapi.com/api/episode/8', 'https://rickandmortyapi.com/api/episode/9', 'https://rickandmortyapi.com/api/episode/10', 'https://rickandmortyapi.com/api/episode/11', 'https://rickandmortyapi.com/api/episode/12', 'https://rickandmortyapi.com/api/episode/14', 'https://rickandmortyapi.com/api/episode/15', 'https://rickandmortyapi.com/api/episode/16', 'https://rickandmortyapi.com/api/episode/17', 'https://rickandmortyapi.com/api/episode/18', 'https://rickandmortyapi.com/api/episode/19', 'https://rickandmortyapi.com/api/episode/20', 'https://rickandmortyapi.com/api/episode/21', 'https://rickandmortyapi.com/api/episode/22', 'https://rickandmortyapi.com/api/episode/23', 'https://rickandmortyapi.com/api/episode/24', 'https://rickandmortyapi.com/api/episode/25', 'https://rickandmortyapi.com/api/episode/26', 'https://rickandmortyapi.com/api/episode/27', 'https://rickandmortyapi.com/api/episode/29', 'https://rickandmortyapi.com/api/episode/30', 'https://rickandmortyapi.com/api/episode/31', 'https://rickandmortyapi.com/api/episode/32', 'https://rickandmortyapi.com/api/episode/33', 'https://rickandmortyapi.com/api/episode/34', 'https://rickandmortyapi.com/api/episode/35', 'https://rickandmortyapi.com/api/episode/36', 'https://rickandmortyapi.com/api/episode/38', 'https://rickandmortyapi.com/api/episode/39', 'https://rickandmortyapi.com/api/episode/40', 'https://rickandmortyapi.com/api/episode/41', 'https://rickandmortyapi.com/api/episode/42', 'https://rickandmortyapi.com/api/episode/43', 'https://rickandmortyapi.com/api/episode/44', 'https://rickandmortyapi.com/api/episode/45', 'https://rickandmortyapi.com/api/episode/46', 'https://rickandmortyapi.com/api/episode/47', 'https://rickandmortyapi.com/api/episode/48', 'https://rickandmortyapi.com/api/episode/49', 'https://rickandmortyapi.com/api/episode/51'], 'url': 'https://rickandmortyapi.com/api/character/3', 'created': '2017-11-04T19:09:56.428Z'}, {'id': 4, 'name': 'Beth Smith', 'status': 'Alive', 'species': 'Human', 'type': '', 'gender': 'Female', 'origin': {'name': 'Earth (Replacement Dimension)', 'url': 'https://rickandmortyapi.com/api/location/20'}, 'location': {'name': 'Earth (Replacement Dimension)', 'url': 'https://rickandmortyapi.com/api/location/20'}, 'image': 'https://rickandmortyapi.com/api/character/avatar/4.jpeg', 'episode': ['https://rickandmortyapi.com/api/episode/6', 'https://rickandmortyapi.com/api/episode/7', 'https://rickandmortyapi.com/api/episode/8', 'https://rickandmortyapi.com/api/episode/9', 'https://rickandmortyapi.com/api/episode/10', 'https://rickandmortyapi.com/api/episode/11', 'https://rickandmortyapi.com/api/episode/12', 'https://rickandmortyapi.com/api/episode/14', 'https://rickandmortyapi.com/api/episode/15', 'https://rickandmortyapi.com/api/episode/16', 'https://rickandmortyapi.com/api/episode/18', 'https://rickandmortyapi.com/api/episode/19', 'https://rickandmortyapi.com/api/episode/20', 'https://rickandmortyapi.com/api/episode/21', 'https://rickandmortyapi.com/api/episode/22', 'https://rickandmortyapi.com/api/episode/23', 'https://rickandmortyapi.com/api/episode/24', 'https://rickandmortyapi.com/api/episode/25', 'https://rickandmortyapi.com/api/episode/26', 'https://rickandmortyapi.com/api/episode/27', 'https://rickandmortyapi.com/api/episode/28', 'https://rickandmortyapi.com/api/episode/29', 'https://rickandmortyapi.com/api/episode/30', 'https://rickandmortyapi.com/api/episode/31', 'https://rickandmortyapi.com/api/episode/32', 'https://rickandmortyapi.com/api/episode/33', 'https://rickandmortyapi.com/api/episode/34', 'https://rickandmortyapi.com/api/episode/35', 'https://rickandmortyapi.com/api/episode/36', 'https://rickandmortyapi.com/api/episode/38', 'https://rickandmortyapi.com/api/episode/39', 'https://rickandmortyapi.com/api/episode/40', 'https://rickandmortyapi.com/api/episode/41', 'https://rickandmortyapi.com/api/episode/42', 'https://rickandmortyapi.com/api/episode/43', 'https://rickandmortyapi.com/api/episode/44', 'https://rickandmortyapi.com/api/episode/45', 'https://rickandmortyapi.com/api/episode/46', 'https://rickandmortyapi.com/api/episode/47', 'https://rickandmortyapi.com/api/episode/48', 'https://rickandmortyapi.com/api/episode/49', 'https://rickandmortyapi.com/api/episode/51'], 'url': 'https://rickandmortyapi.com/api/character/4', 'created': '2017-11-04T19:22:43.665Z'}, {'id': 5, 'name': 'Jerry Smith', 'status': 'Alive', 'species': 'Human', 'type': '', 'gender': 'Male', 'origin': {'name': 'Earth (Replacement Dimension)', 'url': 'https://rickandmortyapi.com/api/location/20'}, 'location': {'name': 'Earth (Replacement Dimension)', 'url': 'https://rickandmortyapi.com/api/location/20'}, 'image': 'https://rickandmortyapi.com/api/character/avatar/5.jpeg', 'episode': ['https://rickandmortyapi.com/api/episode/6', 'https://rickandmortyapi.com/api/episode/7', 'https://rickandmortyapi.com/api/episode/8', 'https://rickandmortyapi.com/api/episode/9', 'https://rickandmortyapi.com/api/episode/10', 'https://rickandmortyapi.com/api/episode/11', 'https://rickandmortyapi.com/api/episode/12', 'https://rickandmortyapi.com/api/episode/13', 'https://rickandmortyapi.com/api/episode/14', 'https://rickandmortyapi.com/api/episode/15', 'https://rickandmortyapi.com/api/episode/16', 'https://rickandmortyapi.com/api/episode/18', 'https://rickandmortyapi.com/api/episode/19', 'https://rickandmortyapi.com/api/episode/20', 'https://rickandmortyapi.com/api/episode/21', 'https://rickandmortyapi.com/api/episode/22', 'https://rickandmortyapi.com/api/episode/23', 'https://rickandmortyapi.com/api/episode/26', 'https://rickandmortyapi.com/api/episode/29', 'https://rickandmortyapi.com/api/episode/30', 'https://rickandmortyapi.com/api/episode/31', 'https://rickandmortyapi.com/api/episode/32', 'https://rickandmortyapi.com/api/episode/33', 'https://rickandmortyapi.com/api/episode/35', 'https://rickandmortyapi.com/api/episode/36', 'https://rickandmortyapi.com/api/episode/38', 'https://rickandmortyapi.com/api/episode/39', 'https://rickandmortyapi.com/api/episode/40', 'https://rickandmortyapi.com/api/episode/41', 'https://rickandmortyapi.com/api/episode/42', 'https://rickandmortyapi.com/api/episode/43', 'https://rickandmortyapi.com/api/episode/44', 'https://rickandmortyapi.com/api/episode/45', 'https://rickandmortyapi.com/api/episode/46', 'https://rickandmortyapi.com/api/episode/47', 'https://rickandmortyapi.com/api/episode/48', 'https://rickandmortyapi.com/api/episode/49', 'https://rickandmortyapi.com/api/episode/50', 'https://rickandmortyapi.com/api/episode/51'], 'url': 'https://rickandmortyapi.com/api/character/5', 'created': '2017-11-04T19:26:56.301Z'}, {'id': 6, 'name': 'Abadango Cluster Princess', 'status': 'Alive', 'species': 'Alien', 'type': '', 'gender': 'Female', 'origin': {'name': 'Abadango', 'url': 'https://rickandmortyapi.com/api/location/2'}, 'location': {'name': 'Abadango', 'url': 'https://rickandmortyapi.com/api/location/2'}, 'image': 'https://rickandmortyapi.com/api/character/avatar/6.jpeg', 'episode': ['https://rickandmortyapi.com/api/episode/27'], 'url': 'https://rickandmortyapi.com/api/character/6', 'created': '2017-11-04T19:50:28.250Z'}, {'id': 7, 'name': 'Abradolf Lincler', 'status': 'unknown', 'species': 'Human', 'type': 'Genetic experiment', 'gender': 'Male', 'origin': {'name': 'Earth (Replacement Dimension)', 'url': 'https://rickandmortyapi.com/api/location/20'}, 'location': {'name': 'Testicle Monster Dimension', 'url': 'https://rickandmortyapi.com/api/location/21'}, 'image': 'https://rickandmortyapi.com/api/character/avatar/7.jpeg', 'episode': ['https://rickandmortyapi.com/api/episode/10', 'https://rickandmortyapi.com/api/episode/11'], 'url': 'https://rickandmortyapi.com/api/character/7', 'created': '2017-11-04T19:59:20.523Z'}, {'id': 8, 'name': 'Adjudicator Rick', 'status': 'Dead', 'species': 'Human', 'type': '', 'gender': 'Male', 'origin': {'name': 'unknown', 'url': ''}, 'location': {'name': 'Citadel of Ricks', 'url': 'https://rickandmortyapi.com/api/location/3'}, 'image': 'https://rickandmortyapi.com/api/character/avatar/8.jpeg', 'episode': ['https://rickandmortyapi.com/api/episode/28'], 'url': 'https://rickandmortyapi.com/api/character/8', 'created': '2017-11-04T20:03:34.737Z'}, {'id': 9, 'name': 'Agency Director', 'status': 'Dead', 'species': 'Human', 'type': '', 'gender': 'Male', 'origin': {'name': 'Earth (Replacement Dimension)', 'url': 'https://rickandmortyapi.com/api/location/20'}, 'location': {'name': 'Earth (Replacement Dimension)', 'url': 'https://rickandmortyapi.com/api/location/20'}, 'image': 'https://rickandmortyapi.com/api/character/avatar/9.jpeg', 'episode': ['https://rickandmortyapi.com/api/episode/24'], 'url': 'https://rickandmortyapi.com/api/character/9', 'created': '2017-11-04T20:06:54.976Z'}, {'id': 10, 'name': 'Alan Rails', 'status': 'Dead', 'species': 'Human', 'type': 'Superhuman (Ghost trains summoner)', 'gender': 'Male', 'origin': {'name': 'unknown', 'url': ''}, 'location': {'name': \"Worldender's lair\", 'url': 'https://rickandmortyapi.com/api/location/4'}, 'image': 'https://rickandmortyapi.com/api/character/avatar/10.jpeg', 'episode': ['https://rickandmortyapi.com/api/episode/25'], 'url': 'https://rickandmortyapi.com/api/character/10', 'created': '2017-11-04T20:19:09.017Z'}, {'id': 11, 'name': 'Albert Einstein', 'status': 'Dead', 'species': 'Human', 'type': '', 'gender': 'Male', 'origin': {'name': 'Earth (C-137)', 'url': 'https://rickandmortyapi.com/api/location/1'}, 'location': {'name': 'Earth (Replacement Dimension)', 'url': 'https://rickandmortyapi.com/api/location/20'}, 'image': 'https://rickandmortyapi.com/api/character/avatar/11.jpeg', 'episode': ['https://rickandmortyapi.com/api/episode/12'], 'url': 'https://rickandmortyapi.com/api/character/11', 'created': '2017-11-04T20:20:20.965Z'}, {'id': 12, 'name': 'Alexander', 'status': 'Dead', 'species': 'Human', 'type': '', 'gender': 'Male', 'origin': {'name': 'Earth (C-137)', 'url': 'https://rickandmortyapi.com/api/location/1'}, 'location': {'name': 'Anatomy Park', 'url': 'https://rickandmortyapi.com/api/location/5'}, 'image': 'https://rickandmortyapi.com/api/character/avatar/12.jpeg', 'episode': ['https://rickandmortyapi.com/api/episode/3'], 'url': 'https://rickandmortyapi.com/api/character/12', 'created': '2017-11-04T20:32:33.144Z'}, {'id': 13, 'name': 'Alien Googah', 'status': 'unknown', 'species': 'Alien', 'type': '', 'gender': 'unknown', 'origin': {'name': 'unknown', 'url': ''}, 'location': {'name': 'Earth (Replacement Dimension)', 'url': 'https://rickandmortyapi.com/api/location/20'}, 'image': 'https://rickandmortyapi.com/api/character/avatar/13.jpeg', 'episode': ['https://rickandmortyapi.com/api/episode/31'], 'url': 'https://rickandmortyapi.com/api/character/13', 'created': '2017-11-04T20:33:30.779Z'}, {'id': 14, 'name': 'Alien Morty', 'status': 'unknown', 'species': 'Alien', 'type': '', 'gender': 'Male', 'origin': {'name': 'unknown', 'url': ''}, 'location': {'name': 'Citadel of Ricks', 'url': 'https://rickandmortyapi.com/api/location/3'}, 'image': 'https://rickandmortyapi.com/api/character/avatar/14.jpeg', 'episode': ['https://rickandmortyapi.com/api/episode/10'], 'url': 'https://rickandmortyapi.com/api/character/14', 'created': '2017-11-04T20:51:31.373Z'}, {'id': 15, 'name': 'Alien Rick', 'status': 'unknown', 'species': 'Alien', 'type': '', 'gender': 'Male', 'origin': {'name': 'unknown', 'url': ''}, 'location': {'name': 'Citadel of Ricks', 'url': 'https://rickandmortyapi.com/api/location/3'}, 'image': 'https://rickandmortyapi.com/api/character/avatar/15.jpeg', 'episode': ['https://rickandmortyapi.com/api/episode/10'], 'url': 'https://rickandmortyapi.com/api/character/15', 'created': '2017-11-04T20:56:13.215Z'}, {'id': 16, 'name': 'Amish Cyborg', 'status': 'Dead', 'species': 'Alien', 'type': 'Parasite', 'gender': 'Male', 'origin': {'name': 'unknown', 'url': ''}, 'location': {'name': 'Earth (Replacement Dimension)', 'url': 'https://rickandmortyapi.com/api/location/20'}, 'image': 'https://rickandmortyapi.com/api/character/avatar/16.jpeg', 'episode': ['https://rickandmortyapi.com/api/episode/15'], 'url': 'https://rickandmortyapi.com/api/character/16', 'created': '2017-11-04T21:12:45.235Z'}, {'id': 17, 'name': 'Annie', 'status': 'Alive', 'species': 'Human', 'type': '', 'gender': 'Female', 'origin': {'name': 'Earth (C-137)', 'url': 'https://rickandmortyapi.com/api/location/1'}, 'location': {'name': 'Anatomy Park', 'url': 'https://rickandmortyapi.com/api/location/5'}, 'image': 'https://rickandmortyapi.com/api/character/avatar/17.jpeg', 'episode': ['https://rickandmortyapi.com/api/episode/3'], 'url': 'https://rickandmortyapi.com/api/character/17', 'created': '2017-11-04T22:21:24.481Z'}, {'id': 18, 'name': 'Antenna Morty', 'status': 'Alive', 'species': 'Human', 'type': 'Human with antennae', 'gender': 'Male', 'origin': {'name': 'unknown', 'url': ''}, 'location': {'name': 'Citadel of Ricks', 'url': 'https://rickandmortyapi.com/api/location/3'}, 'image': 'https://rickandmortyapi.com/api/character/avatar/18.jpeg', 'episode': ['https://rickandmortyapi.com/api/episode/10', 'https://rickandmortyapi.com/api/episode/28'], 'url': 'https://rickandmortyapi.com/api/character/18', 'created': '2017-11-04T22:25:29.008Z'}, {'id': 19, 'name': 'Antenna Rick', 'status': 'unknown', 'species': 'Human', 'type': 'Human with antennae', 'gender': 'Male', 'origin': {'name': 'unknown', 'url': ''}, 'location': {'name': 'unknown', 'url': ''}, 'image': 'https://rickandmortyapi.com/api/character/avatar/19.jpeg', 'episode': ['https://rickandmortyapi.com/api/episode/10'], 'url': 'https://rickandmortyapi.com/api/character/19', 'created': '2017-11-04T22:28:13.756Z'}, {'id': 20, 'name': 'Ants in my Eyes Johnson', 'status': 'unknown', 'species': 'Human', 'type': 'Human with ants in his eyes', 'gender': 'Male', 'origin': {'name': 'unknown', 'url': ''}, 'location': {'name': 'Interdimensional Cable', 'url': 'https://rickandmortyapi.com/api/location/6'}, 'image': 'https://rickandmortyapi.com/api/character/avatar/20.jpeg', 'episode': ['https://rickandmortyapi.com/api/episode/8'], 'url': 'https://rickandmortyapi.com/api/character/20', 'created': '2017-11-04T22:34:53.659Z'}]}\n"
          ]
        }
      ],
      "source": [
        "import requests  # Importing the requests library\n",
        "\n",
        "baseurl = 'https://rickandmortyapi.com/api/'  # Defining the base URL for the API\n",
        "endpoint = 'character'  # Defining the specific endpoint for character data\n",
        "\n",
        "# Function to make an HTTP GET request to the specified endpoint and return the JSON response\n",
        "def main_requests(baseurl, endpoint):\n",
        "    r = requests.get(baseurl + endpoint)\n",
        "    return r.json()\n",
        "\n",
        "# Making the main request to get data for the 'character' endpoint\n",
        "data = main_requests(baseurl, endpoint)\n",
        "\n",
        "# Printing the retrieved data from the API in JSON format\n",
        "print(data)"
      ]
    },
    {
      "cell_type": "code",
      "source": [
        "import pandas as pd  # Importing pandas for data manipulation\n",
        "\n",
        "# Function to make an HTTP GET request to the specified endpoint and return the JSON response\n",
        "def main_requests(baseurl, endpoint):\n",
        "    r = requests.get(baseurl + endpoint)\n",
        "    return r.json()\n",
        "\n",
        "# Function to extract the total number of pages from the API response\n",
        "def get_pages(response):\n",
        "    return response['info']['pages']\n",
        "\n",
        "# Function to parse the JSON response and create a list of dictionaries containing character data (ID, name, and number of episodes)\n",
        "def parse_json(response):\n",
        "    charlist = []  # Initializing an empty list to store character data\n",
        "    for item in response['results']:\n",
        "        char = {\n",
        "            'id': item['id'],  # Extracting character ID from the response\n",
        "            'name': item['name'],  # Extracting character name from the response\n",
        "            'no_ep': len(item['episode'])  # Determining the number of episodes the character appears in\n",
        "        }\n",
        "        charlist.append(char)  # Adding the character's data to the list\n",
        "    return charlist  # Returning the list of character data\n",
        "\n",
        "# Replace 'baseurl' and 'endpoint' with your API base URL and endpoint\n",
        "baseurl = 'https://rickandmortyapi.com/api/'\n",
        "endpoint = 'character'\n",
        "\n",
        "data = main_requests(baseurl, endpoint)  # Making the main request to get data for the 'character' endpoint\n",
        "\n",
        "mainlist = []  # Initializing an empty list to store all character data\n",
        "\n",
        "# Parsing and adding character data from subsequent pages (if any) to the mainlist\n",
        "mainlist.extend(parse_json(data))  # Adding character data from the first page to the mainlist\n",
        "\n",
        "pages = get_pages(data)  # Getting the total number of pages\n",
        "for x in range(2, pages + 1):  # Looping through subsequent pages starting from page 2\n",
        "    next_data = main_requests(baseurl, endpoint + f'?page={x}')  # Requesting data for the next page\n",
        "    mainlist.extend(parse_json(next_data))  # Adding character data from the next page to the mainlist\n",
        "\n",
        "# Creating a DataFrame from the collected character data and saving it to a CSV file named 'charlist.csv'\n",
        "df = pd.DataFrame(mainlist)\n",
        "df.to_csv('charlist.csv', index=False)"
      ],
      "metadata": {
        "id": "M0uCaBKgR2If"
      },
      "execution_count": 3,
      "outputs": []
    },
    {
      "cell_type": "markdown",
      "source": [
        "This Python code fetches character data from the Rick and Morty API, organizes it into a Pandas DataFrame, and saves it as a CSV file. It's useful for automating data retrieval from APIs, converting JSON responses into structured data, and storing it for analysis or further use in a CSV format."
      ],
      "metadata": {
        "id": "znYT0xNzmGJ2"
      }
    },
    {
      "cell_type": "code",
      "source": [
        "df"
      ],
      "metadata": {
        "colab": {
          "base_uri": "https://localhost:8080/",
          "height": 424
        },
        "id": "0uVwS3o-SdQm",
        "outputId": "bf1daccf-8cbd-4952-97ac-1f2232a5a7e7"
      },
      "execution_count": 4,
      "outputs": [
        {
          "output_type": "execute_result",
          "data": {
            "text/plain": [
              "      id          name  no_ep\n",
              "0      1  Rick Sanchez     51\n",
              "1      2   Morty Smith     51\n",
              "2      3  Summer Smith     42\n",
              "3      4    Beth Smith     42\n",
              "4      5   Jerry Smith     39\n",
              "..   ...           ...    ...\n",
              "821  822   Young Jerry      1\n",
              "822  823    Young Beth      1\n",
              "823  824    Young Beth      1\n",
              "824  825   Young Jerry      1\n",
              "825  826  Butter Robot      1\n",
              "\n",
              "[826 rows x 3 columns]"
            ],
            "text/html": [
              "\n",
              "  <div id=\"df-6cf00548-1daa-4757-98f1-ab8017d7fc92\" class=\"colab-df-container\">\n",
              "    <div>\n",
              "<style scoped>\n",
              "    .dataframe tbody tr th:only-of-type {\n",
              "        vertical-align: middle;\n",
              "    }\n",
              "\n",
              "    .dataframe tbody tr th {\n",
              "        vertical-align: top;\n",
              "    }\n",
              "\n",
              "    .dataframe thead th {\n",
              "        text-align: right;\n",
              "    }\n",
              "</style>\n",
              "<table border=\"1\" class=\"dataframe\">\n",
              "  <thead>\n",
              "    <tr style=\"text-align: right;\">\n",
              "      <th></th>\n",
              "      <th>id</th>\n",
              "      <th>name</th>\n",
              "      <th>no_ep</th>\n",
              "    </tr>\n",
              "  </thead>\n",
              "  <tbody>\n",
              "    <tr>\n",
              "      <th>0</th>\n",
              "      <td>1</td>\n",
              "      <td>Rick Sanchez</td>\n",
              "      <td>51</td>\n",
              "    </tr>\n",
              "    <tr>\n",
              "      <th>1</th>\n",
              "      <td>2</td>\n",
              "      <td>Morty Smith</td>\n",
              "      <td>51</td>\n",
              "    </tr>\n",
              "    <tr>\n",
              "      <th>2</th>\n",
              "      <td>3</td>\n",
              "      <td>Summer Smith</td>\n",
              "      <td>42</td>\n",
              "    </tr>\n",
              "    <tr>\n",
              "      <th>3</th>\n",
              "      <td>4</td>\n",
              "      <td>Beth Smith</td>\n",
              "      <td>42</td>\n",
              "    </tr>\n",
              "    <tr>\n",
              "      <th>4</th>\n",
              "      <td>5</td>\n",
              "      <td>Jerry Smith</td>\n",
              "      <td>39</td>\n",
              "    </tr>\n",
              "    <tr>\n",
              "      <th>...</th>\n",
              "      <td>...</td>\n",
              "      <td>...</td>\n",
              "      <td>...</td>\n",
              "    </tr>\n",
              "    <tr>\n",
              "      <th>821</th>\n",
              "      <td>822</td>\n",
              "      <td>Young Jerry</td>\n",
              "      <td>1</td>\n",
              "    </tr>\n",
              "    <tr>\n",
              "      <th>822</th>\n",
              "      <td>823</td>\n",
              "      <td>Young Beth</td>\n",
              "      <td>1</td>\n",
              "    </tr>\n",
              "    <tr>\n",
              "      <th>823</th>\n",
              "      <td>824</td>\n",
              "      <td>Young Beth</td>\n",
              "      <td>1</td>\n",
              "    </tr>\n",
              "    <tr>\n",
              "      <th>824</th>\n",
              "      <td>825</td>\n",
              "      <td>Young Jerry</td>\n",
              "      <td>1</td>\n",
              "    </tr>\n",
              "    <tr>\n",
              "      <th>825</th>\n",
              "      <td>826</td>\n",
              "      <td>Butter Robot</td>\n",
              "      <td>1</td>\n",
              "    </tr>\n",
              "  </tbody>\n",
              "</table>\n",
              "<p>826 rows × 3 columns</p>\n",
              "</div>\n",
              "    <div class=\"colab-df-buttons\">\n",
              "\n",
              "  <div class=\"colab-df-container\">\n",
              "    <button class=\"colab-df-convert\" onclick=\"convertToInteractive('df-6cf00548-1daa-4757-98f1-ab8017d7fc92')\"\n",
              "            title=\"Convert this dataframe to an interactive table.\"\n",
              "            style=\"display:none;\">\n",
              "\n",
              "  <svg xmlns=\"http://www.w3.org/2000/svg\" height=\"24px\" viewBox=\"0 -960 960 960\">\n",
              "    <path d=\"M120-120v-720h720v720H120Zm60-500h600v-160H180v160Zm220 220h160v-160H400v160Zm0 220h160v-160H400v160ZM180-400h160v-160H180v160Zm440 0h160v-160H620v160ZM180-180h160v-160H180v160Zm440 0h160v-160H620v160Z\"/>\n",
              "  </svg>\n",
              "    </button>\n",
              "\n",
              "  <style>\n",
              "    .colab-df-container {\n",
              "      display:flex;\n",
              "      gap: 12px;\n",
              "    }\n",
              "\n",
              "    .colab-df-convert {\n",
              "      background-color: #E8F0FE;\n",
              "      border: none;\n",
              "      border-radius: 50%;\n",
              "      cursor: pointer;\n",
              "      display: none;\n",
              "      fill: #1967D2;\n",
              "      height: 32px;\n",
              "      padding: 0 0 0 0;\n",
              "      width: 32px;\n",
              "    }\n",
              "\n",
              "    .colab-df-convert:hover {\n",
              "      background-color: #E2EBFA;\n",
              "      box-shadow: 0px 1px 2px rgba(60, 64, 67, 0.3), 0px 1px 3px 1px rgba(60, 64, 67, 0.15);\n",
              "      fill: #174EA6;\n",
              "    }\n",
              "\n",
              "    .colab-df-buttons div {\n",
              "      margin-bottom: 4px;\n",
              "    }\n",
              "\n",
              "    [theme=dark] .colab-df-convert {\n",
              "      background-color: #3B4455;\n",
              "      fill: #D2E3FC;\n",
              "    }\n",
              "\n",
              "    [theme=dark] .colab-df-convert:hover {\n",
              "      background-color: #434B5C;\n",
              "      box-shadow: 0px 1px 3px 1px rgba(0, 0, 0, 0.15);\n",
              "      filter: drop-shadow(0px 1px 2px rgba(0, 0, 0, 0.3));\n",
              "      fill: #FFFFFF;\n",
              "    }\n",
              "  </style>\n",
              "\n",
              "    <script>\n",
              "      const buttonEl =\n",
              "        document.querySelector('#df-6cf00548-1daa-4757-98f1-ab8017d7fc92 button.colab-df-convert');\n",
              "      buttonEl.style.display =\n",
              "        google.colab.kernel.accessAllowed ? 'block' : 'none';\n",
              "\n",
              "      async function convertToInteractive(key) {\n",
              "        const element = document.querySelector('#df-6cf00548-1daa-4757-98f1-ab8017d7fc92');\n",
              "        const dataTable =\n",
              "          await google.colab.kernel.invokeFunction('convertToInteractive',\n",
              "                                                    [key], {});\n",
              "        if (!dataTable) return;\n",
              "\n",
              "        const docLinkHtml = 'Like what you see? Visit the ' +\n",
              "          '<a target=\"_blank\" href=https://colab.research.google.com/notebooks/data_table.ipynb>data table notebook</a>'\n",
              "          + ' to learn more about interactive tables.';\n",
              "        element.innerHTML = '';\n",
              "        dataTable['output_type'] = 'display_data';\n",
              "        await google.colab.output.renderOutput(dataTable, element);\n",
              "        const docLink = document.createElement('div');\n",
              "        docLink.innerHTML = docLinkHtml;\n",
              "        element.appendChild(docLink);\n",
              "      }\n",
              "    </script>\n",
              "  </div>\n",
              "\n",
              "\n",
              "<div id=\"df-2a8b90ec-9144-4448-8c15-42fd923569af\">\n",
              "  <button class=\"colab-df-quickchart\" onclick=\"quickchart('df-2a8b90ec-9144-4448-8c15-42fd923569af')\"\n",
              "            title=\"Suggest charts\"\n",
              "            style=\"display:none;\">\n",
              "\n",
              "<svg xmlns=\"http://www.w3.org/2000/svg\" height=\"24px\"viewBox=\"0 0 24 24\"\n",
              "     width=\"24px\">\n",
              "    <g>\n",
              "        <path d=\"M19 3H5c-1.1 0-2 .9-2 2v14c0 1.1.9 2 2 2h14c1.1 0 2-.9 2-2V5c0-1.1-.9-2-2-2zM9 17H7v-7h2v7zm4 0h-2V7h2v10zm4 0h-2v-4h2v4z\"/>\n",
              "    </g>\n",
              "</svg>\n",
              "  </button>\n",
              "\n",
              "<style>\n",
              "  .colab-df-quickchart {\n",
              "      --bg-color: #E8F0FE;\n",
              "      --fill-color: #1967D2;\n",
              "      --hover-bg-color: #E2EBFA;\n",
              "      --hover-fill-color: #174EA6;\n",
              "      --disabled-fill-color: #AAA;\n",
              "      --disabled-bg-color: #DDD;\n",
              "  }\n",
              "\n",
              "  [theme=dark] .colab-df-quickchart {\n",
              "      --bg-color: #3B4455;\n",
              "      --fill-color: #D2E3FC;\n",
              "      --hover-bg-color: #434B5C;\n",
              "      --hover-fill-color: #FFFFFF;\n",
              "      --disabled-bg-color: #3B4455;\n",
              "      --disabled-fill-color: #666;\n",
              "  }\n",
              "\n",
              "  .colab-df-quickchart {\n",
              "    background-color: var(--bg-color);\n",
              "    border: none;\n",
              "    border-radius: 50%;\n",
              "    cursor: pointer;\n",
              "    display: none;\n",
              "    fill: var(--fill-color);\n",
              "    height: 32px;\n",
              "    padding: 0;\n",
              "    width: 32px;\n",
              "  }\n",
              "\n",
              "  .colab-df-quickchart:hover {\n",
              "    background-color: var(--hover-bg-color);\n",
              "    box-shadow: 0 1px 2px rgba(60, 64, 67, 0.3), 0 1px 3px 1px rgba(60, 64, 67, 0.15);\n",
              "    fill: var(--button-hover-fill-color);\n",
              "  }\n",
              "\n",
              "  .colab-df-quickchart-complete:disabled,\n",
              "  .colab-df-quickchart-complete:disabled:hover {\n",
              "    background-color: var(--disabled-bg-color);\n",
              "    fill: var(--disabled-fill-color);\n",
              "    box-shadow: none;\n",
              "  }\n",
              "\n",
              "  .colab-df-spinner {\n",
              "    border: 2px solid var(--fill-color);\n",
              "    border-color: transparent;\n",
              "    border-bottom-color: var(--fill-color);\n",
              "    animation:\n",
              "      spin 1s steps(1) infinite;\n",
              "  }\n",
              "\n",
              "  @keyframes spin {\n",
              "    0% {\n",
              "      border-color: transparent;\n",
              "      border-bottom-color: var(--fill-color);\n",
              "      border-left-color: var(--fill-color);\n",
              "    }\n",
              "    20% {\n",
              "      border-color: transparent;\n",
              "      border-left-color: var(--fill-color);\n",
              "      border-top-color: var(--fill-color);\n",
              "    }\n",
              "    30% {\n",
              "      border-color: transparent;\n",
              "      border-left-color: var(--fill-color);\n",
              "      border-top-color: var(--fill-color);\n",
              "      border-right-color: var(--fill-color);\n",
              "    }\n",
              "    40% {\n",
              "      border-color: transparent;\n",
              "      border-right-color: var(--fill-color);\n",
              "      border-top-color: var(--fill-color);\n",
              "    }\n",
              "    60% {\n",
              "      border-color: transparent;\n",
              "      border-right-color: var(--fill-color);\n",
              "    }\n",
              "    80% {\n",
              "      border-color: transparent;\n",
              "      border-right-color: var(--fill-color);\n",
              "      border-bottom-color: var(--fill-color);\n",
              "    }\n",
              "    90% {\n",
              "      border-color: transparent;\n",
              "      border-bottom-color: var(--fill-color);\n",
              "    }\n",
              "  }\n",
              "</style>\n",
              "\n",
              "  <script>\n",
              "    async function quickchart(key) {\n",
              "      const quickchartButtonEl =\n",
              "        document.querySelector('#' + key + ' button');\n",
              "      quickchartButtonEl.disabled = true;  // To prevent multiple clicks.\n",
              "      quickchartButtonEl.classList.add('colab-df-spinner');\n",
              "      try {\n",
              "        const charts = await google.colab.kernel.invokeFunction(\n",
              "            'suggestCharts', [key], {});\n",
              "      } catch (error) {\n",
              "        console.error('Error during call to suggestCharts:', error);\n",
              "      }\n",
              "      quickchartButtonEl.classList.remove('colab-df-spinner');\n",
              "      quickchartButtonEl.classList.add('colab-df-quickchart-complete');\n",
              "    }\n",
              "    (() => {\n",
              "      let quickchartButtonEl =\n",
              "        document.querySelector('#df-2a8b90ec-9144-4448-8c15-42fd923569af button');\n",
              "      quickchartButtonEl.style.display =\n",
              "        google.colab.kernel.accessAllowed ? 'block' : 'none';\n",
              "    })();\n",
              "  </script>\n",
              "</div>\n",
              "    </div>\n",
              "  </div>\n"
            ]
          },
          "metadata": {},
          "execution_count": 4
        }
      ]
    },
    {
      "cell_type": "markdown",
      "source": [
        "\n",
        "The output presents a structured list of characters from the Rick and Morty series with their respective IDs, names, and the number of episodes each character has appeared in. It's useful for data analysis, reference, database input, or documentation purposes due to its organized tabular format."
      ],
      "metadata": {
        "id": "d_nvcqjCoaLL"
      }
    },
    {
      "cell_type": "code",
      "source": [
        "# Summarizes DataFrame structure.\n",
        "df.info()"
      ],
      "metadata": {
        "colab": {
          "base_uri": "https://localhost:8080/"
        },
        "id": "WrtvDcnSjenv",
        "outputId": "6528fe39-2cee-4aef-e627-fe0b2e6ca8f3"
      },
      "execution_count": 5,
      "outputs": [
        {
          "output_type": "stream",
          "name": "stdout",
          "text": [
            "<class 'pandas.core.frame.DataFrame'>\n",
            "RangeIndex: 826 entries, 0 to 825\n",
            "Data columns (total 3 columns):\n",
            " #   Column  Non-Null Count  Dtype \n",
            "---  ------  --------------  ----- \n",
            " 0   id      826 non-null    int64 \n",
            " 1   name    826 non-null    object\n",
            " 2   no_ep   826 non-null    int64 \n",
            "dtypes: int64(2), object(1)\n",
            "memory usage: 19.5+ KB\n"
          ]
        }
      ]
    },
    {
      "cell_type": "markdown",
      "source": [
        "The output represents a Pandas DataFrame with 826 rows and 3 columns. It shows the column names, data types, and the number of non-null entries in each column. This summary is useful for quickly understanding the DataFrame's structure and memory usage."
      ],
      "metadata": {
        "id": "cdUqJsf-otOx"
      }
    },
    {
      "cell_type": "code",
      "source": [
        "# Provides summary statistics for numerical columns in the DataFrame.\n",
        "df.describe()"
      ],
      "metadata": {
        "colab": {
          "base_uri": "https://localhost:8080/",
          "height": 300
        },
        "id": "xaYxkbbajeyF",
        "outputId": "fad7f33e-f7bd-442f-8e4a-9960145cefcb"
      },
      "execution_count": 6,
      "outputs": [
        {
          "output_type": "execute_result",
          "data": {
            "text/plain": [
              "               id       no_ep\n",
              "count  826.000000  826.000000\n",
              "mean   413.500000    1.533898\n",
              "std    238.589955    3.557587\n",
              "min      1.000000    1.000000\n",
              "25%    207.250000    1.000000\n",
              "50%    413.500000    1.000000\n",
              "75%    619.750000    1.000000\n",
              "max    826.000000   51.000000"
            ],
            "text/html": [
              "\n",
              "  <div id=\"df-39b74d62-0715-4f88-8ab0-1967f6504356\" class=\"colab-df-container\">\n",
              "    <div>\n",
              "<style scoped>\n",
              "    .dataframe tbody tr th:only-of-type {\n",
              "        vertical-align: middle;\n",
              "    }\n",
              "\n",
              "    .dataframe tbody tr th {\n",
              "        vertical-align: top;\n",
              "    }\n",
              "\n",
              "    .dataframe thead th {\n",
              "        text-align: right;\n",
              "    }\n",
              "</style>\n",
              "<table border=\"1\" class=\"dataframe\">\n",
              "  <thead>\n",
              "    <tr style=\"text-align: right;\">\n",
              "      <th></th>\n",
              "      <th>id</th>\n",
              "      <th>no_ep</th>\n",
              "    </tr>\n",
              "  </thead>\n",
              "  <tbody>\n",
              "    <tr>\n",
              "      <th>count</th>\n",
              "      <td>826.000000</td>\n",
              "      <td>826.000000</td>\n",
              "    </tr>\n",
              "    <tr>\n",
              "      <th>mean</th>\n",
              "      <td>413.500000</td>\n",
              "      <td>1.533898</td>\n",
              "    </tr>\n",
              "    <tr>\n",
              "      <th>std</th>\n",
              "      <td>238.589955</td>\n",
              "      <td>3.557587</td>\n",
              "    </tr>\n",
              "    <tr>\n",
              "      <th>min</th>\n",
              "      <td>1.000000</td>\n",
              "      <td>1.000000</td>\n",
              "    </tr>\n",
              "    <tr>\n",
              "      <th>25%</th>\n",
              "      <td>207.250000</td>\n",
              "      <td>1.000000</td>\n",
              "    </tr>\n",
              "    <tr>\n",
              "      <th>50%</th>\n",
              "      <td>413.500000</td>\n",
              "      <td>1.000000</td>\n",
              "    </tr>\n",
              "    <tr>\n",
              "      <th>75%</th>\n",
              "      <td>619.750000</td>\n",
              "      <td>1.000000</td>\n",
              "    </tr>\n",
              "    <tr>\n",
              "      <th>max</th>\n",
              "      <td>826.000000</td>\n",
              "      <td>51.000000</td>\n",
              "    </tr>\n",
              "  </tbody>\n",
              "</table>\n",
              "</div>\n",
              "    <div class=\"colab-df-buttons\">\n",
              "\n",
              "  <div class=\"colab-df-container\">\n",
              "    <button class=\"colab-df-convert\" onclick=\"convertToInteractive('df-39b74d62-0715-4f88-8ab0-1967f6504356')\"\n",
              "            title=\"Convert this dataframe to an interactive table.\"\n",
              "            style=\"display:none;\">\n",
              "\n",
              "  <svg xmlns=\"http://www.w3.org/2000/svg\" height=\"24px\" viewBox=\"0 -960 960 960\">\n",
              "    <path d=\"M120-120v-720h720v720H120Zm60-500h600v-160H180v160Zm220 220h160v-160H400v160Zm0 220h160v-160H400v160ZM180-400h160v-160H180v160Zm440 0h160v-160H620v160ZM180-180h160v-160H180v160Zm440 0h160v-160H620v160Z\"/>\n",
              "  </svg>\n",
              "    </button>\n",
              "\n",
              "  <style>\n",
              "    .colab-df-container {\n",
              "      display:flex;\n",
              "      gap: 12px;\n",
              "    }\n",
              "\n",
              "    .colab-df-convert {\n",
              "      background-color: #E8F0FE;\n",
              "      border: none;\n",
              "      border-radius: 50%;\n",
              "      cursor: pointer;\n",
              "      display: none;\n",
              "      fill: #1967D2;\n",
              "      height: 32px;\n",
              "      padding: 0 0 0 0;\n",
              "      width: 32px;\n",
              "    }\n",
              "\n",
              "    .colab-df-convert:hover {\n",
              "      background-color: #E2EBFA;\n",
              "      box-shadow: 0px 1px 2px rgba(60, 64, 67, 0.3), 0px 1px 3px 1px rgba(60, 64, 67, 0.15);\n",
              "      fill: #174EA6;\n",
              "    }\n",
              "\n",
              "    .colab-df-buttons div {\n",
              "      margin-bottom: 4px;\n",
              "    }\n",
              "\n",
              "    [theme=dark] .colab-df-convert {\n",
              "      background-color: #3B4455;\n",
              "      fill: #D2E3FC;\n",
              "    }\n",
              "\n",
              "    [theme=dark] .colab-df-convert:hover {\n",
              "      background-color: #434B5C;\n",
              "      box-shadow: 0px 1px 3px 1px rgba(0, 0, 0, 0.15);\n",
              "      filter: drop-shadow(0px 1px 2px rgba(0, 0, 0, 0.3));\n",
              "      fill: #FFFFFF;\n",
              "    }\n",
              "  </style>\n",
              "\n",
              "    <script>\n",
              "      const buttonEl =\n",
              "        document.querySelector('#df-39b74d62-0715-4f88-8ab0-1967f6504356 button.colab-df-convert');\n",
              "      buttonEl.style.display =\n",
              "        google.colab.kernel.accessAllowed ? 'block' : 'none';\n",
              "\n",
              "      async function convertToInteractive(key) {\n",
              "        const element = document.querySelector('#df-39b74d62-0715-4f88-8ab0-1967f6504356');\n",
              "        const dataTable =\n",
              "          await google.colab.kernel.invokeFunction('convertToInteractive',\n",
              "                                                    [key], {});\n",
              "        if (!dataTable) return;\n",
              "\n",
              "        const docLinkHtml = 'Like what you see? Visit the ' +\n",
              "          '<a target=\"_blank\" href=https://colab.research.google.com/notebooks/data_table.ipynb>data table notebook</a>'\n",
              "          + ' to learn more about interactive tables.';\n",
              "        element.innerHTML = '';\n",
              "        dataTable['output_type'] = 'display_data';\n",
              "        await google.colab.output.renderOutput(dataTable, element);\n",
              "        const docLink = document.createElement('div');\n",
              "        docLink.innerHTML = docLinkHtml;\n",
              "        element.appendChild(docLink);\n",
              "      }\n",
              "    </script>\n",
              "  </div>\n",
              "\n",
              "\n",
              "<div id=\"df-96651a0b-f615-4c22-82d4-330275c89cf5\">\n",
              "  <button class=\"colab-df-quickchart\" onclick=\"quickchart('df-96651a0b-f615-4c22-82d4-330275c89cf5')\"\n",
              "            title=\"Suggest charts\"\n",
              "            style=\"display:none;\">\n",
              "\n",
              "<svg xmlns=\"http://www.w3.org/2000/svg\" height=\"24px\"viewBox=\"0 0 24 24\"\n",
              "     width=\"24px\">\n",
              "    <g>\n",
              "        <path d=\"M19 3H5c-1.1 0-2 .9-2 2v14c0 1.1.9 2 2 2h14c1.1 0 2-.9 2-2V5c0-1.1-.9-2-2-2zM9 17H7v-7h2v7zm4 0h-2V7h2v10zm4 0h-2v-4h2v4z\"/>\n",
              "    </g>\n",
              "</svg>\n",
              "  </button>\n",
              "\n",
              "<style>\n",
              "  .colab-df-quickchart {\n",
              "      --bg-color: #E8F0FE;\n",
              "      --fill-color: #1967D2;\n",
              "      --hover-bg-color: #E2EBFA;\n",
              "      --hover-fill-color: #174EA6;\n",
              "      --disabled-fill-color: #AAA;\n",
              "      --disabled-bg-color: #DDD;\n",
              "  }\n",
              "\n",
              "  [theme=dark] .colab-df-quickchart {\n",
              "      --bg-color: #3B4455;\n",
              "      --fill-color: #D2E3FC;\n",
              "      --hover-bg-color: #434B5C;\n",
              "      --hover-fill-color: #FFFFFF;\n",
              "      --disabled-bg-color: #3B4455;\n",
              "      --disabled-fill-color: #666;\n",
              "  }\n",
              "\n",
              "  .colab-df-quickchart {\n",
              "    background-color: var(--bg-color);\n",
              "    border: none;\n",
              "    border-radius: 50%;\n",
              "    cursor: pointer;\n",
              "    display: none;\n",
              "    fill: var(--fill-color);\n",
              "    height: 32px;\n",
              "    padding: 0;\n",
              "    width: 32px;\n",
              "  }\n",
              "\n",
              "  .colab-df-quickchart:hover {\n",
              "    background-color: var(--hover-bg-color);\n",
              "    box-shadow: 0 1px 2px rgba(60, 64, 67, 0.3), 0 1px 3px 1px rgba(60, 64, 67, 0.15);\n",
              "    fill: var(--button-hover-fill-color);\n",
              "  }\n",
              "\n",
              "  .colab-df-quickchart-complete:disabled,\n",
              "  .colab-df-quickchart-complete:disabled:hover {\n",
              "    background-color: var(--disabled-bg-color);\n",
              "    fill: var(--disabled-fill-color);\n",
              "    box-shadow: none;\n",
              "  }\n",
              "\n",
              "  .colab-df-spinner {\n",
              "    border: 2px solid var(--fill-color);\n",
              "    border-color: transparent;\n",
              "    border-bottom-color: var(--fill-color);\n",
              "    animation:\n",
              "      spin 1s steps(1) infinite;\n",
              "  }\n",
              "\n",
              "  @keyframes spin {\n",
              "    0% {\n",
              "      border-color: transparent;\n",
              "      border-bottom-color: var(--fill-color);\n",
              "      border-left-color: var(--fill-color);\n",
              "    }\n",
              "    20% {\n",
              "      border-color: transparent;\n",
              "      border-left-color: var(--fill-color);\n",
              "      border-top-color: var(--fill-color);\n",
              "    }\n",
              "    30% {\n",
              "      border-color: transparent;\n",
              "      border-left-color: var(--fill-color);\n",
              "      border-top-color: var(--fill-color);\n",
              "      border-right-color: var(--fill-color);\n",
              "    }\n",
              "    40% {\n",
              "      border-color: transparent;\n",
              "      border-right-color: var(--fill-color);\n",
              "      border-top-color: var(--fill-color);\n",
              "    }\n",
              "    60% {\n",
              "      border-color: transparent;\n",
              "      border-right-color: var(--fill-color);\n",
              "    }\n",
              "    80% {\n",
              "      border-color: transparent;\n",
              "      border-right-color: var(--fill-color);\n",
              "      border-bottom-color: var(--fill-color);\n",
              "    }\n",
              "    90% {\n",
              "      border-color: transparent;\n",
              "      border-bottom-color: var(--fill-color);\n",
              "    }\n",
              "  }\n",
              "</style>\n",
              "\n",
              "  <script>\n",
              "    async function quickchart(key) {\n",
              "      const quickchartButtonEl =\n",
              "        document.querySelector('#' + key + ' button');\n",
              "      quickchartButtonEl.disabled = true;  // To prevent multiple clicks.\n",
              "      quickchartButtonEl.classList.add('colab-df-spinner');\n",
              "      try {\n",
              "        const charts = await google.colab.kernel.invokeFunction(\n",
              "            'suggestCharts', [key], {});\n",
              "      } catch (error) {\n",
              "        console.error('Error during call to suggestCharts:', error);\n",
              "      }\n",
              "      quickchartButtonEl.classList.remove('colab-df-spinner');\n",
              "      quickchartButtonEl.classList.add('colab-df-quickchart-complete');\n",
              "    }\n",
              "    (() => {\n",
              "      let quickchartButtonEl =\n",
              "        document.querySelector('#df-96651a0b-f615-4c22-82d4-330275c89cf5 button');\n",
              "      quickchartButtonEl.style.display =\n",
              "        google.colab.kernel.accessAllowed ? 'block' : 'none';\n",
              "    })();\n",
              "  </script>\n",
              "</div>\n",
              "    </div>\n",
              "  </div>\n"
            ]
          },
          "metadata": {},
          "execution_count": 6
        }
      ]
    },
    {
      "cell_type": "markdown",
      "source": [
        "The statistical summary reveals that character identity numbers ('id') span from 1 to 826, with an average value of approximately 413.5 and a standard deviation of around 238.59. Characters' appearances in episodes ('no_ep') range from 1 to 51, with an average involvement of about 1.53 episodes and a standard deviation of roughly 3.56. The quartiles suggest a diverse distribution of both character IDs and episode appearances among the dataset"
      ],
      "metadata": {
        "id": "Wm4DqY-Tpn9d"
      }
    },
    {
      "cell_type": "code",
      "source": [
        "# Calculate the percentage of missing values in each column\n",
        "missing_percentage = (df.isnull().sum() / len(df)) * 100\n",
        "\n",
        "print(\"Percentage of missing values in each column:\")\n",
        "print(missing_percentage)"
      ],
      "metadata": {
        "colab": {
          "base_uri": "https://localhost:8080/"
        },
        "id": "H6OdeZOVg09o",
        "outputId": "eab2b36e-0434-4a95-9b18-036f8aec3d25"
      },
      "execution_count": 7,
      "outputs": [
        {
          "output_type": "stream",
          "name": "stdout",
          "text": [
            "Percentage of missing values in each column:\n",
            "id       0.0\n",
            "name     0.0\n",
            "no_ep    0.0\n",
            "dtype: float64\n"
          ]
        }
      ]
    },
    {
      "cell_type": "markdown",
      "source": [
        "There are no missing values (0.0%) in any of the columns ('id', 'name', 'no_ep') of the DataFrame."
      ],
      "metadata": {
        "id": "oE3_tRq9p7lv"
      }
    },
    {
      "cell_type": "code",
      "source": [
        "import dash\n",
        "import dash_core_components as dcc\n",
        "import dash_html_components as html\n",
        "import plotly.express as px\n"
      ],
      "metadata": {
        "id": "GZRxahashnub",
        "outputId": "051e9880-7437-4134-b194-04b78618ece9",
        "colab": {
          "base_uri": "https://localhost:8080/",
          "height": 156
        }
      },
      "execution_count": 8,
      "outputs": [
        {
          "output_type": "stream",
          "name": "stderr",
          "text": [
            "<ipython-input-8-35744baab968>:2: UserWarning: \n",
            "The dash_core_components package is deprecated. Please replace\n",
            "`import dash_core_components as dcc` with `from dash import dcc`\n",
            "  import dash_core_components as dcc\n",
            "<ipython-input-8-35744baab968>:3: UserWarning: \n",
            "The dash_html_components package is deprecated. Please replace\n",
            "`import dash_html_components as html` with `from dash import html`\n",
            "  import dash_html_components as html\n"
          ]
        }
      ]
    },
    {
      "cell_type": "code",
      "source": [
        "# Importing Plotly Express library as px for interactive visualization capabilities.\n",
        "import plotly.express as px"
      ],
      "metadata": {
        "id": "5ErSgtGAgh_0"
      },
      "execution_count": 9,
      "outputs": []
    },
    {
      "cell_type": "code",
      "source": [
        "# Creating a treemap to visualize the proportion of episodes for each character\n",
        "fig = px.treemap(df, path=['name'], values='no_ep',\n",
        "                 title='Proportion of Episodes for Each Character')\n",
        "fig.show()"
      ],
      "metadata": {
        "colab": {
          "base_uri": "https://localhost:8080/",
          "height": 542
        },
        "id": "0B7zZAEalRW5",
        "outputId": "c68939e7-7644-457e-9341-4b1ea4f3efac"
      },
      "execution_count": 10,
      "outputs": [
        {
          "output_type": "display_data",
          "data": {
            "text/html": [
              "<html>\n",
              "<head><meta charset=\"utf-8\" /></head>\n",
              "<body>\n",
              "    <div>            <script src=\"https://cdnjs.cloudflare.com/ajax/libs/mathjax/2.7.5/MathJax.js?config=TeX-AMS-MML_SVG\"></script><script type=\"text/javascript\">if (window.MathJax && window.MathJax.Hub && window.MathJax.Hub.Config) {window.MathJax.Hub.Config({SVG: {font: \"STIX-Web\"}});}</script>                <script type=\"text/javascript\">window.PlotlyConfig = {MathJaxConfig: 'local'};</script>\n",
              "        <script charset=\"utf-8\" src=\"https://cdn.plot.ly/plotly-2.24.1.min.js\"></script>                <div id=\"20d0f65a-224f-4b35-9bd4-97056cd55d05\" class=\"plotly-graph-div\" style=\"height:525px; width:100%;\"></div>            <script type=\"text/javascript\">                                    window.PLOTLYENV=window.PLOTLYENV || {};                                    if (document.getElementById(\"20d0f65a-224f-4b35-9bd4-97056cd55d05\")) {                    Plotly.newPlot(                        \"20d0f65a-224f-4b35-9bd4-97056cd55d05\",                        [{\"branchvalues\":\"total\",\"domain\":{\"x\":[0.0,1.0],\"y\":[0.0,1.0]},\"hovertemplate\":\"labels=%{label}\\u003cbr\\u003eno_ep=%{value}\\u003cbr\\u003eparent=%{parent}\\u003cbr\\u003eid=%{id}\\u003cextra\\u003e\\u003c\\u002fextra\\u003e\",\"ids\":[\"26 Years Old Morty\",\"40 Years Old Morty\",\"7+7 Years Old Morty\",\"80's snake\",\"Abadango Cluster Princess\",\"Abradolf Lincler\",\"Accountant dog\",\"Adam\",\"Adam's Mother\",\"Adjudicator Rick\",\"Agency Director\",\"Air Tina-Teer\",\"Alan Rails\",\"Albert Einstein\",\"Alexander\",\"Alien Crow\",\"Alien Googah\",\"Alien Mexican Armada\",\"Alien Morty\",\"Alien Rick\",\"Alien Spa Employee\",\"Alyson Hannigan\",\"Amazing Johnathan\",\"Amish Cyborg\",\"Amy Poopybutthole\",\"Anchor Gear\",\"Anchorman\",\"Anchorwoman\",\"Anchosnake\",\"Andy\",\"Angie Flint\",\"Angry Glorzo\",\"Annie\",\"Antenna Morty\",\"Antenna Rick\",\"Ants in my Eyes Johnson\",\"Aqua Morty\",\"Aqua Rick\",\"Arbolian Mentirososian\",\"Arcade Alien\",\"Armagheadon\",\"Armothy\",\"Arthricia\",\"Artist Morty\",\"Attila Starwar\",\"Baby Legs\",\"Baby Legs Chief\",\"Baby Mouse Skin Morty\",\"Baby Poopybutthole\",\"Baby Rick\",\"Baby Wizard\",\"Bald Rick\",\"Balthromaw\",\"Bar Customer\",\"Bartender\",\"Bartender Morty\",\"Bearded Jerry\",\"Bearded Lady\",\"Bearded Morty\",\"Beebo\",\"Benjamin\",\"Bepisian\",\"Beta-Seven\",\"Beth Sanchez\",\"Beth Smith\",\"Beth's Mytholog\",\"Biblesaurus\",\"Big Boobed Waitress\",\"Big Fat rick\",\"Big Head Morty\",\"Big Morty\",\"Bill\",\"Birdperson\",\"Birdperson & Tammy's Child\",\"Black Rick\",\"Blamph\",\"Blazen\",\"Blim Blam\",\"Blue Diplomat\",\"Blue Footprint Guy\",\"Blue Shirt Morty\",\"Bobby Moynihan\",\"Body Guard Morty\",\"Boglin\",\"Boobloosian\",\"Bootleg Portal Chemist Rick\",\"Borpocian\",\"Bova\",\"Brad\",\"Brad Anderson\",\"Bruce\",\"Bruce Chutback\",\"Bubonic Plague\",\"Bully\",\"Butter Robot\",\"Butthole Ice Cream Guy\",\"CHUD King\",\"Calypso\",\"Campaign Manager Morty\",\"Canklanker Thom\",\"Caterpillar Mr. Goldenfold\",\"Caterpillar Mr. Goldenfold\\u2019s Larvae\",\"Cats Fan\",\"Cavesnake\",\"Celebrity Jerry\",\"Cenobite\",\"Centaur\",\"Chachi\",\"Chair-homeless\",\"Chair-person\",\"Chair-waiter\",\"Chang\",\"Changeformer\",\"Chris\",\"Christmas Storyteller\",\"Cirque du Soleil Zumanity Member\",\"Coach Feratu (Balik Alistane)\",\"Coat Rack Head\",\"Collector\",\"Colonial Rick\",\"Colossus\",\"Commander Rick\",\"Communication's Responsible Rick\",\"Concerto\",\"Conroy\",\"Cookies Guy\",\"Cool Rick\",\"Coop\",\"Cop Morty\",\"Cop Rick\",\"Corn detective\",\"Cornvelious Daniel\",\"Council of Glorzos Member\",\"Courier Flap\",\"Cousin Nicky\",\"Cowboy Morty\",\"Cowboy Rick\",\"Crab Spider\",\"Creepy Little Girl\",\"Crocubot\",\"Cronenberg Morty\",\"Cronenberg Rick\",\"Crossy\",\"Crow Horse\",\"Crow Scare\",\"Crystal Dealer\",\"Crystal Dealers Boss\",\"Crystal Poacher\",\"Cult Leader Morty\",\"Cyclops Morty\",\"Cyclops Rick\",\"Cynthia\",\"Dale\",\"Dancer Cowboy Morty\",\"Dancer Morty\",\"Danny Publitz\",\"Daphne\",\"Daron Jefferson\",\"Darth Poopybutthole\",\"David Letterman\",\"Davin\",\"Debrah\",\"Debrah\\u2019s Partner\",\"Defiance Beth\",\"Defiance Doctor\",\"Defiance Squanchette\",\"Deformed Morty\",\"Deliverance\",\"Diablo Verde\",\"Diane Sanchez\",\"Diesel Weasel\",\"Dipper and Mabel Mortys\",\"Donna Gueterman\",\"Doofus Rick\",\"Doom-Nomitron\",\"Doopidoo\",\"Double Microwawe\",\"Dr. Eleanor Arroway\",\"Dr. Glip-Glop\",\"Dr. Schmidt\",\"Dr. Wong\",\"Dr. Xenon Bloom\",\"Dracula\",\"Duck With Muscles\",\"Dwayne\",\"E. Coli\",\"Eddie\",\"Eli\",\"Eli's Girlfriend\",\"Elon Tusk\",\"Eric McMan\",\"Eric Stoltz Mask Morty\",\"Ethan\",\"Evil Beth Clone\",\"Evil Jerry Clone\",\"Evil Morty\",\"Evil Rick\",\"Evil Summer Clone\",\"Evolved Narnian\",\"Evolved Narnian Disguised as Morty\",\"Eyehole Man\",\"Fart\",\"Fascist Morty\",\"Fascist Mr. President\",\"Fascist Rick\",\"Fascist Rick\\u2019s Clone\",\"Fascist Shrimp Morty\",\"Fascist Shrimp Rick\",\"Fascist Shrimp Rick\\u2019s Clone\",\"Fascist Shrimp SS\",\"Fascist Teddy Bear Rick\",\"Fascist Teddy Bear Rick\\u2019s Clone\",\"Fat Morty\",\"Father Bob\",\"Female Scorpion\",\"Ferkusian\",\"Fido\",\"Flansian\",\"Fleeb\",\"Floaty Bloody Man\",\"Floaty Bloody Man\\u2019s Daughter\",\"Floaty Non-Gasm Brotherhood Member\",\"Floaty Non-Gasm Brotherhood Member Friend\",\"Florflock\",\"Flower Morty\",\"Foal Sanchez\",\"Frank Palicky\",\"Frankenstein's Monster\",\"Franklin D. Roosevelt\",\"Fulgora\",\"Funny Songs Presenter\",\"Gaia\",\"Galactic Federation President\",\"Gar Gloonch\",\"Gar's Mytholog\",\"Garblovian\",\"Garmanarnar\",\"Garment District Rick\",\"Gazorpazorpfield\",\"Gear Cop\",\"Gene\",\"General Nathan\",\"General Store Owner\",\"Genital Washer\",\"Ghost in a Jar\",\"Giant Assassin Hidden in the Statue of Liberty\",\"Giant Cat Monster\",\"Giant Judge\",\"Giant Testicle Monster\",\"Gibble Snake\",\"Glar\",\"Glasses Morty\",\"Glenn\",\"Glexo Slim Slom\",\"Glockenspiel Beth\",\"Glockenspiel Jerry\",\"Glockenspiel Morty\",\"Glockenspiel Rick\",\"Glockenspiel Summer\",\"Glootie\",\"Gobo\",\"Goddess Beth\",\"Gonorrhea\",\"Goomby\",\"Gordon Lunas\",\"Gotron\",\"Gotron Pilot\",\"Gramuflackian Anchorman\",\"Gramuflackian General\",\"Greasy Grandma\",\"Greebybobe\",\"Gun Brain Rick\",\"Guy from The Bachelor\",\"Gwendolyn\",\"Hairdresser Rick\",\"Hairspray Fan\",\"Hammerhead Morty\",\"Hamster In Butt\",\"Hamurai\",\"Harold\",\"Harold (Garbage Goober)\",\"Harold's Wife\",\"Heist-Con Receptionist\",\"Heistotron\",\"Hemorrhage\",\"Hepatitis A\",\"Hepatitis C\",\"Hephaestus\",\"Heroine Keith\",\"High Pilot\",\"Hole in the Wall Where the Men Can See it All\",\"Hologram Rick\",\"Hookah Alien\",\"Hoovy\",\"Hothead Rick\",\"Hunter\",\"Hunter's Father\",\"Hydrogen-F\",\"Ice-T\",\"Ideal Jerry\",\"Impervious to Acid SWAT Officer\",\"Insurance Rick\",\"Investigator Rick\",\"Invisi-trooper\",\"Izzy\",\"Jackey\",\"Jackie\",\"Jacob\",\"Jacqueline\",\"Jaguar\",\"Jamey\",\"Jan-Michael Vincent\",\"Japheth\",\"Japheth's Eldest Son\",\"Japheth's Grandson\",\"Japheth's Middle Son\",\"Japheth's Youngest Son\",\"Jeff\",\"Jerry 5-126\",\"Jerry Smith\",\"Jerry's Mytholog\",\"Jerryboree Keeper\",\"Jerryboree Receptionist\",\"Jessica\",\"Jessica's Friend\",\"Jesus Christ\",\"Jim\",\"Johnny Carson\",\"Johnny Depp\",\"Jon\",\"Joseph Eli Lipkip\",\"Josh\",\"Josh's Sister\",\"Josiah\",\"Journalist Rick\",\"Joyce Smith\",\"Judge\",\"Juggling Rick\",\"Karen Entity\",\"Katarina\",\"Kathy Ireland\",\"Keara\",\"Kevin\",\"Key Catcher\",\"King Flippy Nips\",\"King Jellybean\",\"Kirkland Brand Mr. Meeseeks\",\"Kozbian\",\"Kristen Stewart\",\"Krombopulos Michael\",\"Kyle\",\"Lady Katana\",\"Larva Alien\",\"Lawyer Morty\",\"Leah\",\"Leonard Smith\",\"Lighthouse Keeper\",\"Lil B\",\"Lisa\",\"Little Dipper\",\"Little Voltron\",\"Lizard\",\"Lizard Morty\",\"Loggins\",\"Logic\",\"Long Hair Rick\",\"Long Sleeved Morty\",\"Lucy\",\"MC Haps\",\"Ma-Sha\",\"Maggie\",\"Magma-Q\",\"Magnesium-J\",\"Man Painted Silver Who Makes Robot Noises\",\"Marcus\",\"Mart\\u00ednez\",\"Marvin\",\"Mary-Lou\",\"Maximums Rickimus\",\"Mechanical Morty\",\"Mechanical Rick\",\"Mechanical Summer\",\"Mega Fruit Farmer Rick\",\"Melissa\",\"Memory Geardude\",\"Memory Rick\",\"Memory Squanchy\",\"Memory Tammy\",\"Metal Rick\",\"Metaphor for Capitalism\",\"Michael\",\"Michael Denny and the Denny Singers\",\"Michael Jackson\",\"Michael Jenkins\",\"Michael McLick\",\"Michael Thompson\",\"Michael's Lawyer\",\"Mike Johnson\",\"Miles Knightly\",\"Million Ants\",\"Mitch\",\"Modern Rick\",\"Mohawk Guy\",\"Monitor Lord\",\"Monogatron Leader\",\"Monogatron Queen\",\"Morglutzian\",\"Morphizer-XE Customer Support\",\"Morty Jr's interviewer\",\"Morty Jr.\",\"Morty K-22\",\"Morty Mart Manager Morty\",\"Morty Rick\",\"Morty Smith\",\"Mortytown Loco\",\"Morty\\u2019s Disguise\",\"Morty\\u2019s Father-in-law\",\"Morty\\u2019s Girlfriend\",\"Morty\\u2019s Lawyer\",\"Morty\\u2019s Mother-in-law\",\"Mothership Intern\",\"Mountain Sweat Jerry\",\"Mousetrap Nipples\",\"Mr. Always Wants to be Hunted\",\"Mr. Beauregard\",\"Mr. Benson\",\"Mr. Booby Buyer\",\"Mr. Celery & Friends\",\"Mr. Cookie President\",\"Mr. Goldenfold\",\"Mr. Marklovitz\",\"Mr. Meeseeks\",\"Mr. Needful\",\"Mr. Nimbus\",\"Mr. Nimbus Secretary\",\"Mr. Nimbus' Squid\",\"Mr. Poopybutthole\",\"Mr. Sneezy\",\"Mrs. Lipkip\",\"Mrs. Pancakes\",\"Mrs. Refrigerator\",\"Mrs. Sanchez\",\"Mrs. Sullivan\",\"Mrs. Sullivan's Boyfriend\",\"Muscular Mannie\",\"Musical Fan\",\"Nancy\",\"Nano Doctor\",\"Naruto Smith\",\"Native Alien\",\"Netflix Executive\",\"New Improved Galactic Federation Guard\",\"Nick\",\"Noob-Noob\",\"Numbericon\",\"Octopus Man\",\"Old Glorzo\",\"Old Women\",\"Orthodox Jew\",\"P-Coat Rick\",\"PC Basketball Player\",\"Palicki\",\"Party Rick\",\"Pat Gueterman\",\"Paul Fleishman\",\"Pawnshop Clerk\",\"Pencilvester\",\"Pet Shop Employee\",\"Phantom of the Opera Fan\",\"Phillip Jacobs\",\"Phoenixperson\",\"Phone-person\",\"Photography Cyborg\",\"Photography Raptor\",\"Pibbles Bodyguard\",\"Pichael Thompson\",\"Pickle Rick\",\"Piece of Toast\",\"Pilgrim Alien\",\"Pink Polo Shirt Jerry\",\"Pizza-person\",\"Plane Crash Survivor\",\"Planetina\",\"Planetina Buyer\",\"Plumber Rick\",\"Plutonian Host\",\"Plutonian Hostess\",\"Poncho\",\"President Curtis\",\"President Turkey\",\"President's General\",\"Presidentress of The Mega Gargantuans\",\"Priest Witherspoon\",\"Prince Nebulon\",\"Princess Ponietta\",\"Principal Vagina\",\"Pripudlian\",\"Private Sector Rick\",\"Private Smith\",\"Pro trunk people marriage guy\",\"Professor Sanchez\",\"Professor Shabooboo\",\"Public Opinion Judge\",\"Punk Rick\",\"Purge Planet Ruler\",\"Purple Morty\",\"Pussifer\",\"Quantum Rick\",\"Quick Mystery Presenter\",\"Ramamama Lord\",\"Randotron\",\"Randy Dicknose\",\"Rat Boss\",\"Re-Build-a-Morty Morty\",\"Real Fake Doors Salesman\",\"Redhead Morty\",\"Redhead Rick\",\"Reggie\",\"Regional Manager Rick\",\"Regular Legs\",\"Regular Tyrion Lannister\",\"Retired General Rick\",\"Reverse Giraffe\",\"Reverse Rick Outrage\",\"Revolio Clockberg Jr.\",\"Ricardo Montoya\",\"Rich Plutonian\",\"Richard\",\"Rick D-99\",\"Rick D. Sanchez III\",\"Rick D716\",\"Rick D716-B\",\"Rick D716-C\",\"Rick Guilt Rick\",\"Rick J-22\",\"Rick K-22\",\"Rick Prime\",\"Rick Sanchez\",\"Rick's Garage\",\"Ricktiminus Sancheziminius\",\"Rick\\u2019s Disguise\",\"Riq IV\",\"Risotto Groupon\",\"Risotto's Tentacled Henchman\",\"Robot Morty\",\"Robot Rick\",\"Robot Snake\",\"Roger\",\"Ron Benson\",\"Roy\",\"Roy's Mum\",\"Roy's Son\",\"Roy's Wife\",\"Ruben\",\"Running Bird\",\"Ruth Bader Ginsburg\",\"SEAL Team Rick\",\"SWAT Officer\",\"Samansky\",\"Samantha\",\"Sarge\",\"Scar Rick\",\"Scarecrow Beth\",\"Scarecrow Jerry\",\"Scarecrow Morty\",\"Scarecrow Rick\",\"Scarecrow Summer\",\"Scary Brandon\",\"Scary Glenn\",\"Scary Teacher\",\"Scary Terry\",\"Scroopy Noopers\",\"Scropon\",\"Scrotian\",\"Secret Service Rick\",\"Secret Service Snake\",\"Secretary at Tony's\",\"Secretary of the Interior\",\"Self-Congratulatory Jerry\",\"Shadow Jacker\",\"Shane\",\"Shaved Head Jerry\",\"Sheik Rick\",\"Shimshamian\",\"Shlaammi\",\"Shleemypants\",\"Shmlamantha Shmlicelli\",\"Shmlangela Shmlobinson-Shmlower\",\"Shmlona Shmlobinson\",\"Shmlonathan Shmlower\",\"Shmlony Shmlicelli\",\"Shmooglite Runner\",\"Shnoopy Bloopers\",\"Shrek The Musical Fan\",\"Shrimply Pibbles\",\"Simon\",\"Simple Rick\",\"Slartivartian\",\"Slaveowner\",\"Sleepy Gary\",\"Slick Morty\",\"Slippery Stair\",\"Slippy\",\"Slow Mobius\",\"Slow Rick\",\"Slut Dragon\",\"Snake Arms\",\"Snake Hitler\",\"Snake Lincoln\",\"Snake Linguist\",\"Snake Reporter\",\"Snake Resistance Robot\",\"Snake Soldier\",\"Snake Terminator\",\"Snake with Legs\",\"Snuffles\",\"Snuffles (Snowball)\",\"Solicitor Rick\",\"Sonia Sotomayor\",\"Space Cruiser\",\"Spaceman\",\"Sperm Queen\",\"Spiderweb teddy bear\",\"Squanchy\",\"Squeeb\",\"Squid Costume Beth\",\"Squid Costume Jerry\",\"Squid Costume Morty\",\"Squid Costume Rick\",\"Squid Costume Summer\",\"St. Gloopy Noops Nurse\",\"Stacy\",\"Stair Goblin\",\"Stan Lee Rick\",\"Stealy\",\"Steve\",\"Steve Jobs Rick\",\"Steven Phillips\",\"Sticky\",\"Storylord\",\"Stu\",\"Summer Smith\",\"Super Turkey\",\"Super Weird Rick\",\"Supernova\",\"Synthetic Laser Eels\",\"Taddy Mason\",\"Taint Washer\",\"Talking Cat\",\"Tammy Guetermann\",\"Tan Rick\",\"Tank Top Jerry\",\"Tax Attorney\",\"Teacher Rick\",\"Teleportation's Responsible Rick\",\"Terry\",\"The Concept of Time\",\"The President of the Miniverse\",\"The Scientist Formerly Known as Rick\",\"The Shapeshiftress\",\"The Wizard\",\"Thomas Lipkip\",\"Three Unknown Things\",\"Tickets Please Guy\",\"Ticktock\",\"Tinkles\",\"Tiny Rick\",\"Tiny-persons advocacy group lawyer\",\"Toby Matthews\",\"Todd Crystal\",\"Tom Randolph\",\"Tommy's Clone\",\"Tony\",\"Tony Galopagus\",\"Tony's Dad\",\"Tony\\u2019s Wife\",\"Too Cute to Murder Beth\",\"Too Cute to Murder Jerry\",\"Too Cute to Murder Morty\",\"Too Cute to Murder Rick\",\"Too Cute to Murder Summer\",\"Tophat Jones\",\"Tortured Morty\",\"Toxic Morty\",\"Toxic Rick\",\"Traflorkian\",\"Traflorkian Journalist\",\"Train Cop\",\"Train Cops\",\"Train Cops Instructor\",\"Trandor\",\"Tree Person\",\"Tricia Lange\",\"Troy\",\"Truckula\",\"Trunk Man\",\"Trunk Morty\",\"Trunkphobic guy\",\"Trunkphobic suspenders guy\",\"Truth Tortoise\",\"Tuberculosis\",\"Tumblorkian\",\"Turkey Morty\",\"Turkey President Curtis\",\"Turkey Rick\",\"Tusked Assassin\",\"Two Brothers\",\"Two Crows\",\"Two Guys with Handlebar Mustaches\",\"Uncle Nibbles\",\"Uncle Steve\",\"Unity\",\"Unknown Rick\",\"Unmuscular Michael\",\"Vampire Master\",\"Vampire Master's Assistant\",\"Vance Maximus\",\"Varrix\",\"Ventriloquiver\",\"Vermigurber\",\"Veronica Ann Bennet\",\"Veterinary\",\"Veterinary Nurse\",\"Visor Rick\",\"Voiceoverian\",\"Voltematron\",\"Wall Crawling Rick\",\"Warlock\",\"Wasp Beth\",\"Wasp Jerry\",\"Wasp Morty\",\"Wasp Rick\",\"Wasp Rick\\u2019s Clone\",\"Wasp Summer\",\"Water Tina-Teer\",\"Wedding Bartender\",\"When Wolf\",\"Wicker Beth\",\"Wicker Morty\",\"Wicker Rick\",\"Wicker Summer\",\"Woman Rick\",\"Worldender\",\"Wrap-it-up Little Rick\",\"Xing Ho\",\"Yaarb\",\"Yellow Headed Doctor\",\"Yellow Shirt Rick\",\"Yo-yo Rick\",\"Young Beth\",\"Young Jerry\",\"Young Memory Rick\",\"Zarbadar Gloonch\",\"Zarbadar's Mytholog\",\"Zeep Xanflorp\",\"Zeta Alpha Rick\",\"Zick Zack\"],\"labels\":[\"26 Years Old Morty\",\"40 Years Old Morty\",\"7+7 Years Old Morty\",\"80's snake\",\"Abadango Cluster Princess\",\"Abradolf Lincler\",\"Accountant dog\",\"Adam\",\"Adam's Mother\",\"Adjudicator Rick\",\"Agency Director\",\"Air Tina-Teer\",\"Alan Rails\",\"Albert Einstein\",\"Alexander\",\"Alien Crow\",\"Alien Googah\",\"Alien Mexican Armada\",\"Alien Morty\",\"Alien Rick\",\"Alien Spa Employee\",\"Alyson Hannigan\",\"Amazing Johnathan\",\"Amish Cyborg\",\"Amy Poopybutthole\",\"Anchor Gear\",\"Anchorman\",\"Anchorwoman\",\"Anchosnake\",\"Andy\",\"Angie Flint\",\"Angry Glorzo\",\"Annie\",\"Antenna Morty\",\"Antenna Rick\",\"Ants in my Eyes Johnson\",\"Aqua Morty\",\"Aqua Rick\",\"Arbolian Mentirososian\",\"Arcade Alien\",\"Armagheadon\",\"Armothy\",\"Arthricia\",\"Artist Morty\",\"Attila Starwar\",\"Baby Legs\",\"Baby Legs Chief\",\"Baby Mouse Skin Morty\",\"Baby Poopybutthole\",\"Baby Rick\",\"Baby Wizard\",\"Bald Rick\",\"Balthromaw\",\"Bar Customer\",\"Bartender\",\"Bartender Morty\",\"Bearded Jerry\",\"Bearded Lady\",\"Bearded Morty\",\"Beebo\",\"Benjamin\",\"Bepisian\",\"Beta-Seven\",\"Beth Sanchez\",\"Beth Smith\",\"Beth's Mytholog\",\"Biblesaurus\",\"Big Boobed Waitress\",\"Big Fat rick\",\"Big Head Morty\",\"Big Morty\",\"Bill\",\"Birdperson\",\"Birdperson & Tammy's Child\",\"Black Rick\",\"Blamph\",\"Blazen\",\"Blim Blam\",\"Blue Diplomat\",\"Blue Footprint Guy\",\"Blue Shirt Morty\",\"Bobby Moynihan\",\"Body Guard Morty\",\"Boglin\",\"Boobloosian\",\"Bootleg Portal Chemist Rick\",\"Borpocian\",\"Bova\",\"Brad\",\"Brad Anderson\",\"Bruce\",\"Bruce Chutback\",\"Bubonic Plague\",\"Bully\",\"Butter Robot\",\"Butthole Ice Cream Guy\",\"CHUD King\",\"Calypso\",\"Campaign Manager Morty\",\"Canklanker Thom\",\"Caterpillar Mr. Goldenfold\",\"Caterpillar Mr. Goldenfold\\u2019s Larvae\",\"Cats Fan\",\"Cavesnake\",\"Celebrity Jerry\",\"Cenobite\",\"Centaur\",\"Chachi\",\"Chair-homeless\",\"Chair-person\",\"Chair-waiter\",\"Chang\",\"Changeformer\",\"Chris\",\"Christmas Storyteller\",\"Cirque du Soleil Zumanity Member\",\"Coach Feratu (Balik Alistane)\",\"Coat Rack Head\",\"Collector\",\"Colonial Rick\",\"Colossus\",\"Commander Rick\",\"Communication's Responsible Rick\",\"Concerto\",\"Conroy\",\"Cookies Guy\",\"Cool Rick\",\"Coop\",\"Cop Morty\",\"Cop Rick\",\"Corn detective\",\"Cornvelious Daniel\",\"Council of Glorzos Member\",\"Courier Flap\",\"Cousin Nicky\",\"Cowboy Morty\",\"Cowboy Rick\",\"Crab Spider\",\"Creepy Little Girl\",\"Crocubot\",\"Cronenberg Morty\",\"Cronenberg Rick\",\"Crossy\",\"Crow Horse\",\"Crow Scare\",\"Crystal Dealer\",\"Crystal Dealers Boss\",\"Crystal Poacher\",\"Cult Leader Morty\",\"Cyclops Morty\",\"Cyclops Rick\",\"Cynthia\",\"Dale\",\"Dancer Cowboy Morty\",\"Dancer Morty\",\"Danny Publitz\",\"Daphne\",\"Daron Jefferson\",\"Darth Poopybutthole\",\"David Letterman\",\"Davin\",\"Debrah\",\"Debrah\\u2019s Partner\",\"Defiance Beth\",\"Defiance Doctor\",\"Defiance Squanchette\",\"Deformed Morty\",\"Deliverance\",\"Diablo Verde\",\"Diane Sanchez\",\"Diesel Weasel\",\"Dipper and Mabel Mortys\",\"Donna Gueterman\",\"Doofus Rick\",\"Doom-Nomitron\",\"Doopidoo\",\"Double Microwawe\",\"Dr. Eleanor Arroway\",\"Dr. Glip-Glop\",\"Dr. Schmidt\",\"Dr. Wong\",\"Dr. Xenon Bloom\",\"Dracula\",\"Duck With Muscles\",\"Dwayne\",\"E. Coli\",\"Eddie\",\"Eli\",\"Eli's Girlfriend\",\"Elon Tusk\",\"Eric McMan\",\"Eric Stoltz Mask Morty\",\"Ethan\",\"Evil Beth Clone\",\"Evil Jerry Clone\",\"Evil Morty\",\"Evil Rick\",\"Evil Summer Clone\",\"Evolved Narnian\",\"Evolved Narnian Disguised as Morty\",\"Eyehole Man\",\"Fart\",\"Fascist Morty\",\"Fascist Mr. President\",\"Fascist Rick\",\"Fascist Rick\\u2019s Clone\",\"Fascist Shrimp Morty\",\"Fascist Shrimp Rick\",\"Fascist Shrimp Rick\\u2019s Clone\",\"Fascist Shrimp SS\",\"Fascist Teddy Bear Rick\",\"Fascist Teddy Bear Rick\\u2019s Clone\",\"Fat Morty\",\"Father Bob\",\"Female Scorpion\",\"Ferkusian\",\"Fido\",\"Flansian\",\"Fleeb\",\"Floaty Bloody Man\",\"Floaty Bloody Man\\u2019s Daughter\",\"Floaty Non-Gasm Brotherhood Member\",\"Floaty Non-Gasm Brotherhood Member Friend\",\"Florflock\",\"Flower Morty\",\"Foal Sanchez\",\"Frank Palicky\",\"Frankenstein's Monster\",\"Franklin D. Roosevelt\",\"Fulgora\",\"Funny Songs Presenter\",\"Gaia\",\"Galactic Federation President\",\"Gar Gloonch\",\"Gar's Mytholog\",\"Garblovian\",\"Garmanarnar\",\"Garment District Rick\",\"Gazorpazorpfield\",\"Gear Cop\",\"Gene\",\"General Nathan\",\"General Store Owner\",\"Genital Washer\",\"Ghost in a Jar\",\"Giant Assassin Hidden in the Statue of Liberty\",\"Giant Cat Monster\",\"Giant Judge\",\"Giant Testicle Monster\",\"Gibble Snake\",\"Glar\",\"Glasses Morty\",\"Glenn\",\"Glexo Slim Slom\",\"Glockenspiel Beth\",\"Glockenspiel Jerry\",\"Glockenspiel Morty\",\"Glockenspiel Rick\",\"Glockenspiel Summer\",\"Glootie\",\"Gobo\",\"Goddess Beth\",\"Gonorrhea\",\"Goomby\",\"Gordon Lunas\",\"Gotron\",\"Gotron Pilot\",\"Gramuflackian Anchorman\",\"Gramuflackian General\",\"Greasy Grandma\",\"Greebybobe\",\"Gun Brain Rick\",\"Guy from The Bachelor\",\"Gwendolyn\",\"Hairdresser Rick\",\"Hairspray Fan\",\"Hammerhead Morty\",\"Hamster In Butt\",\"Hamurai\",\"Harold\",\"Harold (Garbage Goober)\",\"Harold's Wife\",\"Heist-Con Receptionist\",\"Heistotron\",\"Hemorrhage\",\"Hepatitis A\",\"Hepatitis C\",\"Hephaestus\",\"Heroine Keith\",\"High Pilot\",\"Hole in the Wall Where the Men Can See it All\",\"Hologram Rick\",\"Hookah Alien\",\"Hoovy\",\"Hothead Rick\",\"Hunter\",\"Hunter's Father\",\"Hydrogen-F\",\"Ice-T\",\"Ideal Jerry\",\"Impervious to Acid SWAT Officer\",\"Insurance Rick\",\"Investigator Rick\",\"Invisi-trooper\",\"Izzy\",\"Jackey\",\"Jackie\",\"Jacob\",\"Jacqueline\",\"Jaguar\",\"Jamey\",\"Jan-Michael Vincent\",\"Japheth\",\"Japheth's Eldest Son\",\"Japheth's Grandson\",\"Japheth's Middle Son\",\"Japheth's Youngest Son\",\"Jeff\",\"Jerry 5-126\",\"Jerry Smith\",\"Jerry's Mytholog\",\"Jerryboree Keeper\",\"Jerryboree Receptionist\",\"Jessica\",\"Jessica's Friend\",\"Jesus Christ\",\"Jim\",\"Johnny Carson\",\"Johnny Depp\",\"Jon\",\"Joseph Eli Lipkip\",\"Josh\",\"Josh's Sister\",\"Josiah\",\"Journalist Rick\",\"Joyce Smith\",\"Judge\",\"Juggling Rick\",\"Karen Entity\",\"Katarina\",\"Kathy Ireland\",\"Keara\",\"Kevin\",\"Key Catcher\",\"King Flippy Nips\",\"King Jellybean\",\"Kirkland Brand Mr. Meeseeks\",\"Kozbian\",\"Kristen Stewart\",\"Krombopulos Michael\",\"Kyle\",\"Lady Katana\",\"Larva Alien\",\"Lawyer Morty\",\"Leah\",\"Leonard Smith\",\"Lighthouse Keeper\",\"Lil B\",\"Lisa\",\"Little Dipper\",\"Little Voltron\",\"Lizard\",\"Lizard Morty\",\"Loggins\",\"Logic\",\"Long Hair Rick\",\"Long Sleeved Morty\",\"Lucy\",\"MC Haps\",\"Ma-Sha\",\"Maggie\",\"Magma-Q\",\"Magnesium-J\",\"Man Painted Silver Who Makes Robot Noises\",\"Marcus\",\"Mart\\u00ednez\",\"Marvin\",\"Mary-Lou\",\"Maximums Rickimus\",\"Mechanical Morty\",\"Mechanical Rick\",\"Mechanical Summer\",\"Mega Fruit Farmer Rick\",\"Melissa\",\"Memory Geardude\",\"Memory Rick\",\"Memory Squanchy\",\"Memory Tammy\",\"Metal Rick\",\"Metaphor for Capitalism\",\"Michael\",\"Michael Denny and the Denny Singers\",\"Michael Jackson\",\"Michael Jenkins\",\"Michael McLick\",\"Michael Thompson\",\"Michael's Lawyer\",\"Mike Johnson\",\"Miles Knightly\",\"Million Ants\",\"Mitch\",\"Modern Rick\",\"Mohawk Guy\",\"Monitor Lord\",\"Monogatron Leader\",\"Monogatron Queen\",\"Morglutzian\",\"Morphizer-XE Customer Support\",\"Morty Jr's interviewer\",\"Morty Jr.\",\"Morty K-22\",\"Morty Mart Manager Morty\",\"Morty Rick\",\"Morty Smith\",\"Mortytown Loco\",\"Morty\\u2019s Disguise\",\"Morty\\u2019s Father-in-law\",\"Morty\\u2019s Girlfriend\",\"Morty\\u2019s Lawyer\",\"Morty\\u2019s Mother-in-law\",\"Mothership Intern\",\"Mountain Sweat Jerry\",\"Mousetrap Nipples\",\"Mr. Always Wants to be Hunted\",\"Mr. Beauregard\",\"Mr. Benson\",\"Mr. Booby Buyer\",\"Mr. Celery & Friends\",\"Mr. Cookie President\",\"Mr. Goldenfold\",\"Mr. Marklovitz\",\"Mr. Meeseeks\",\"Mr. Needful\",\"Mr. Nimbus\",\"Mr. Nimbus Secretary\",\"Mr. Nimbus' Squid\",\"Mr. Poopybutthole\",\"Mr. Sneezy\",\"Mrs. Lipkip\",\"Mrs. Pancakes\",\"Mrs. Refrigerator\",\"Mrs. Sanchez\",\"Mrs. Sullivan\",\"Mrs. Sullivan's Boyfriend\",\"Muscular Mannie\",\"Musical Fan\",\"Nancy\",\"Nano Doctor\",\"Naruto Smith\",\"Native Alien\",\"Netflix Executive\",\"New Improved Galactic Federation Guard\",\"Nick\",\"Noob-Noob\",\"Numbericon\",\"Octopus Man\",\"Old Glorzo\",\"Old Women\",\"Orthodox Jew\",\"P-Coat Rick\",\"PC Basketball Player\",\"Palicki\",\"Party Rick\",\"Pat Gueterman\",\"Paul Fleishman\",\"Pawnshop Clerk\",\"Pencilvester\",\"Pet Shop Employee\",\"Phantom of the Opera Fan\",\"Phillip Jacobs\",\"Phoenixperson\",\"Phone-person\",\"Photography Cyborg\",\"Photography Raptor\",\"Pibbles Bodyguard\",\"Pichael Thompson\",\"Pickle Rick\",\"Piece of Toast\",\"Pilgrim Alien\",\"Pink Polo Shirt Jerry\",\"Pizza-person\",\"Plane Crash Survivor\",\"Planetina\",\"Planetina Buyer\",\"Plumber Rick\",\"Plutonian Host\",\"Plutonian Hostess\",\"Poncho\",\"President Curtis\",\"President Turkey\",\"President's General\",\"Presidentress of The Mega Gargantuans\",\"Priest Witherspoon\",\"Prince Nebulon\",\"Princess Ponietta\",\"Principal Vagina\",\"Pripudlian\",\"Private Sector Rick\",\"Private Smith\",\"Pro trunk people marriage guy\",\"Professor Sanchez\",\"Professor Shabooboo\",\"Public Opinion Judge\",\"Punk Rick\",\"Purge Planet Ruler\",\"Purple Morty\",\"Pussifer\",\"Quantum Rick\",\"Quick Mystery Presenter\",\"Ramamama Lord\",\"Randotron\",\"Randy Dicknose\",\"Rat Boss\",\"Re-Build-a-Morty Morty\",\"Real Fake Doors Salesman\",\"Redhead Morty\",\"Redhead Rick\",\"Reggie\",\"Regional Manager Rick\",\"Regular Legs\",\"Regular Tyrion Lannister\",\"Retired General Rick\",\"Reverse Giraffe\",\"Reverse Rick Outrage\",\"Revolio Clockberg Jr.\",\"Ricardo Montoya\",\"Rich Plutonian\",\"Richard\",\"Rick D-99\",\"Rick D. Sanchez III\",\"Rick D716\",\"Rick D716-B\",\"Rick D716-C\",\"Rick Guilt Rick\",\"Rick J-22\",\"Rick K-22\",\"Rick Prime\",\"Rick Sanchez\",\"Rick's Garage\",\"Ricktiminus Sancheziminius\",\"Rick\\u2019s Disguise\",\"Riq IV\",\"Risotto Groupon\",\"Risotto's Tentacled Henchman\",\"Robot Morty\",\"Robot Rick\",\"Robot Snake\",\"Roger\",\"Ron Benson\",\"Roy\",\"Roy's Mum\",\"Roy's Son\",\"Roy's Wife\",\"Ruben\",\"Running Bird\",\"Ruth Bader Ginsburg\",\"SEAL Team Rick\",\"SWAT Officer\",\"Samansky\",\"Samantha\",\"Sarge\",\"Scar Rick\",\"Scarecrow Beth\",\"Scarecrow Jerry\",\"Scarecrow Morty\",\"Scarecrow Rick\",\"Scarecrow Summer\",\"Scary Brandon\",\"Scary Glenn\",\"Scary Teacher\",\"Scary Terry\",\"Scroopy Noopers\",\"Scropon\",\"Scrotian\",\"Secret Service Rick\",\"Secret Service Snake\",\"Secretary at Tony's\",\"Secretary of the Interior\",\"Self-Congratulatory Jerry\",\"Shadow Jacker\",\"Shane\",\"Shaved Head Jerry\",\"Sheik Rick\",\"Shimshamian\",\"Shlaammi\",\"Shleemypants\",\"Shmlamantha Shmlicelli\",\"Shmlangela Shmlobinson-Shmlower\",\"Shmlona Shmlobinson\",\"Shmlonathan Shmlower\",\"Shmlony Shmlicelli\",\"Shmooglite Runner\",\"Shnoopy Bloopers\",\"Shrek The Musical Fan\",\"Shrimply Pibbles\",\"Simon\",\"Simple Rick\",\"Slartivartian\",\"Slaveowner\",\"Sleepy Gary\",\"Slick Morty\",\"Slippery Stair\",\"Slippy\",\"Slow Mobius\",\"Slow Rick\",\"Slut Dragon\",\"Snake Arms\",\"Snake Hitler\",\"Snake Lincoln\",\"Snake Linguist\",\"Snake Reporter\",\"Snake Resistance Robot\",\"Snake Soldier\",\"Snake Terminator\",\"Snake with Legs\",\"Snuffles\",\"Snuffles (Snowball)\",\"Solicitor Rick\",\"Sonia Sotomayor\",\"Space Cruiser\",\"Spaceman\",\"Sperm Queen\",\"Spiderweb teddy bear\",\"Squanchy\",\"Squeeb\",\"Squid Costume Beth\",\"Squid Costume Jerry\",\"Squid Costume Morty\",\"Squid Costume Rick\",\"Squid Costume Summer\",\"St. Gloopy Noops Nurse\",\"Stacy\",\"Stair Goblin\",\"Stan Lee Rick\",\"Stealy\",\"Steve\",\"Steve Jobs Rick\",\"Steven Phillips\",\"Sticky\",\"Storylord\",\"Stu\",\"Summer Smith\",\"Super Turkey\",\"Super Weird Rick\",\"Supernova\",\"Synthetic Laser Eels\",\"Taddy Mason\",\"Taint Washer\",\"Talking Cat\",\"Tammy Guetermann\",\"Tan Rick\",\"Tank Top Jerry\",\"Tax Attorney\",\"Teacher Rick\",\"Teleportation's Responsible Rick\",\"Terry\",\"The Concept of Time\",\"The President of the Miniverse\",\"The Scientist Formerly Known as Rick\",\"The Shapeshiftress\",\"The Wizard\",\"Thomas Lipkip\",\"Three Unknown Things\",\"Tickets Please Guy\",\"Ticktock\",\"Tinkles\",\"Tiny Rick\",\"Tiny-persons advocacy group lawyer\",\"Toby Matthews\",\"Todd Crystal\",\"Tom Randolph\",\"Tommy's Clone\",\"Tony\",\"Tony Galopagus\",\"Tony's Dad\",\"Tony\\u2019s Wife\",\"Too Cute to Murder Beth\",\"Too Cute to Murder Jerry\",\"Too Cute to Murder Morty\",\"Too Cute to Murder Rick\",\"Too Cute to Murder Summer\",\"Tophat Jones\",\"Tortured Morty\",\"Toxic Morty\",\"Toxic Rick\",\"Traflorkian\",\"Traflorkian Journalist\",\"Train Cop\",\"Train Cops\",\"Train Cops Instructor\",\"Trandor\",\"Tree Person\",\"Tricia Lange\",\"Troy\",\"Truckula\",\"Trunk Man\",\"Trunk Morty\",\"Trunkphobic guy\",\"Trunkphobic suspenders guy\",\"Truth Tortoise\",\"Tuberculosis\",\"Tumblorkian\",\"Turkey Morty\",\"Turkey President Curtis\",\"Turkey Rick\",\"Tusked Assassin\",\"Two Brothers\",\"Two Crows\",\"Two Guys with Handlebar Mustaches\",\"Uncle Nibbles\",\"Uncle Steve\",\"Unity\",\"Unknown Rick\",\"Unmuscular Michael\",\"Vampire Master\",\"Vampire Master's Assistant\",\"Vance Maximus\",\"Varrix\",\"Ventriloquiver\",\"Vermigurber\",\"Veronica Ann Bennet\",\"Veterinary\",\"Veterinary Nurse\",\"Visor Rick\",\"Voiceoverian\",\"Voltematron\",\"Wall Crawling Rick\",\"Warlock\",\"Wasp Beth\",\"Wasp Jerry\",\"Wasp Morty\",\"Wasp Rick\",\"Wasp Rick\\u2019s Clone\",\"Wasp Summer\",\"Water Tina-Teer\",\"Wedding Bartender\",\"When Wolf\",\"Wicker Beth\",\"Wicker Morty\",\"Wicker Rick\",\"Wicker Summer\",\"Woman Rick\",\"Worldender\",\"Wrap-it-up Little Rick\",\"Xing Ho\",\"Yaarb\",\"Yellow Headed Doctor\",\"Yellow Shirt Rick\",\"Yo-yo Rick\",\"Young Beth\",\"Young Jerry\",\"Young Memory Rick\",\"Zarbadar Gloonch\",\"Zarbadar's Mytholog\",\"Zeep Xanflorp\",\"Zeta Alpha Rick\",\"Zick Zack\"],\"name\":\"\",\"parents\":[\"\",\"\",\"\",\"\",\"\",\"\",\"\",\"\",\"\",\"\",\"\",\"\",\"\",\"\",\"\",\"\",\"\",\"\",\"\",\"\",\"\",\"\",\"\",\"\",\"\",\"\",\"\",\"\",\"\",\"\",\"\",\"\",\"\",\"\",\"\",\"\",\"\",\"\",\"\",\"\",\"\",\"\",\"\",\"\",\"\",\"\",\"\",\"\",\"\",\"\",\"\",\"\",\"\",\"\",\"\",\"\",\"\",\"\",\"\",\"\",\"\",\"\",\"\",\"\",\"\",\"\",\"\",\"\",\"\",\"\",\"\",\"\",\"\",\"\",\"\",\"\",\"\",\"\",\"\",\"\",\"\",\"\",\"\",\"\",\"\",\"\",\"\",\"\",\"\",\"\",\"\",\"\",\"\",\"\",\"\",\"\",\"\",\"\",\"\",\"\",\"\",\"\",\"\",\"\",\"\",\"\",\"\",\"\",\"\",\"\",\"\",\"\",\"\",\"\",\"\",\"\",\"\",\"\",\"\",\"\",\"\",\"\",\"\",\"\",\"\",\"\",\"\",\"\",\"\",\"\",\"\",\"\",\"\",\"\",\"\",\"\",\"\",\"\",\"\",\"\",\"\",\"\",\"\",\"\",\"\",\"\",\"\",\"\",\"\",\"\",\"\",\"\",\"\",\"\",\"\",\"\",\"\",\"\",\"\",\"\",\"\",\"\",\"\",\"\",\"\",\"\",\"\",\"\",\"\",\"\",\"\",\"\",\"\",\"\",\"\",\"\",\"\",\"\",\"\",\"\",\"\",\"\",\"\",\"\",\"\",\"\",\"\",\"\",\"\",\"\",\"\",\"\",\"\",\"\",\"\",\"\",\"\",\"\",\"\",\"\",\"\",\"\",\"\",\"\",\"\",\"\",\"\",\"\",\"\",\"\",\"\",\"\",\"\",\"\",\"\",\"\",\"\",\"\",\"\",\"\",\"\",\"\",\"\",\"\",\"\",\"\",\"\",\"\",\"\",\"\",\"\",\"\",\"\",\"\",\"\",\"\",\"\",\"\",\"\",\"\",\"\",\"\",\"\",\"\",\"\",\"\",\"\",\"\",\"\",\"\",\"\",\"\",\"\",\"\",\"\",\"\",\"\",\"\",\"\",\"\",\"\",\"\",\"\",\"\",\"\",\"\",\"\",\"\",\"\",\"\",\"\",\"\",\"\",\"\",\"\",\"\",\"\",\"\",\"\",\"\",\"\",\"\",\"\",\"\",\"\",\"\",\"\",\"\",\"\",\"\",\"\",\"\",\"\",\"\",\"\",\"\",\"\",\"\",\"\",\"\",\"\",\"\",\"\",\"\",\"\",\"\",\"\",\"\",\"\",\"\",\"\",\"\",\"\",\"\",\"\",\"\",\"\",\"\",\"\",\"\",\"\",\"\",\"\",\"\",\"\",\"\",\"\",\"\",\"\",\"\",\"\",\"\",\"\",\"\",\"\",\"\",\"\",\"\",\"\",\"\",\"\",\"\",\"\",\"\",\"\",\"\",\"\",\"\",\"\",\"\",\"\",\"\",\"\",\"\",\"\",\"\",\"\",\"\",\"\",\"\",\"\",\"\",\"\",\"\",\"\",\"\",\"\",\"\",\"\",\"\",\"\",\"\",\"\",\"\",\"\",\"\",\"\",\"\",\"\",\"\",\"\",\"\",\"\",\"\",\"\",\"\",\"\",\"\",\"\",\"\",\"\",\"\",\"\",\"\",\"\",\"\",\"\",\"\",\"\",\"\",\"\",\"\",\"\",\"\",\"\",\"\",\"\",\"\",\"\",\"\",\"\",\"\",\"\",\"\",\"\",\"\",\"\",\"\",\"\",\"\",\"\",\"\",\"\",\"\",\"\",\"\",\"\",\"\",\"\",\"\",\"\",\"\",\"\",\"\",\"\",\"\",\"\",\"\",\"\",\"\",\"\",\"\",\"\",\"\",\"\",\"\",\"\",\"\",\"\",\"\",\"\",\"\",\"\",\"\",\"\",\"\",\"\",\"\",\"\",\"\",\"\",\"\",\"\",\"\",\"\",\"\",\"\",\"\",\"\",\"\",\"\",\"\",\"\",\"\",\"\",\"\",\"\",\"\",\"\",\"\",\"\",\"\",\"\",\"\",\"\",\"\",\"\",\"\",\"\",\"\",\"\",\"\",\"\",\"\",\"\",\"\",\"\",\"\",\"\",\"\",\"\",\"\",\"\",\"\",\"\",\"\",\"\",\"\",\"\",\"\",\"\",\"\",\"\",\"\",\"\",\"\",\"\",\"\",\"\",\"\",\"\",\"\",\"\",\"\",\"\",\"\",\"\",\"\",\"\",\"\",\"\",\"\",\"\",\"\",\"\",\"\",\"\",\"\",\"\",\"\",\"\",\"\",\"\",\"\",\"\",\"\",\"\",\"\",\"\",\"\",\"\",\"\",\"\",\"\",\"\",\"\",\"\",\"\",\"\",\"\",\"\",\"\",\"\",\"\",\"\",\"\",\"\",\"\",\"\",\"\",\"\",\"\",\"\",\"\",\"\",\"\",\"\",\"\",\"\",\"\",\"\",\"\",\"\",\"\",\"\",\"\",\"\",\"\",\"\",\"\",\"\",\"\",\"\",\"\",\"\",\"\",\"\",\"\",\"\",\"\",\"\",\"\",\"\",\"\",\"\",\"\",\"\",\"\",\"\",\"\",\"\",\"\",\"\",\"\",\"\",\"\",\"\",\"\",\"\",\"\",\"\",\"\",\"\",\"\",\"\",\"\",\"\",\"\",\"\",\"\",\"\",\"\",\"\",\"\",\"\",\"\",\"\",\"\",\"\",\"\",\"\",\"\",\"\",\"\",\"\",\"\",\"\",\"\",\"\",\"\",\"\",\"\",\"\",\"\",\"\",\"\",\"\",\"\",\"\",\"\",\"\",\"\",\"\",\"\",\"\",\"\",\"\",\"\",\"\",\"\",\"\",\"\",\"\",\"\",\"\",\"\",\"\",\"\",\"\",\"\",\"\",\"\",\"\",\"\",\"\",\"\",\"\",\"\",\"\",\"\",\"\",\"\",\"\",\"\",\"\",\"\",\"\",\"\",\"\",\"\",\"\",\"\",\"\",\"\",\"\",\"\",\"\",\"\",\"\",\"\",\"\",\"\",\"\",\"\",\"\",\"\",\"\",\"\",\"\",\"\",\"\",\"\",\"\",\"\",\"\",\"\",\"\",\"\",\"\",\"\",\"\",\"\",\"\",\"\",\"\",\"\",\"\",\"\",\"\",\"\",\"\",\"\",\"\",\"\",\"\",\"\",\"\",\"\",\"\",\"\",\"\",\"\",\"\",\"\",\"\",\"\",\"\"],\"values\":[1,1,1,1,1,3,1,1,1,1,1,1,1,1,1,2,1,1,1,1,1,1,1,1,1,1,1,1,2,1,1,1,1,2,1,1,2,3,3,5,1,1,1,2,3,1,1,1,1,1,1,1,1,1,1,1,1,1,2,1,3,4,1,2,52,1,1,1,1,1,1,2,8,1,2,1,1,1,1,1,1,1,1,1,2,1,1,1,4,1,1,1,1,1,1,1,1,1,1,1,1,1,1,1,1,5,1,1,1,2,1,1,2,2,1,5,1,1,1,1,1,1,1,1,1,1,1,1,1,1,1,1,2,1,1,1,2,1,1,1,2,2,1,1,1,3,1,3,1,2,3,5,1,1,1,1,1,1,1,1,4,1,1,2,1,1,1,1,1,2,1,1,1,2,1,1,1,1,1,1,2,1,1,1,1,1,1,1,1,1,1,1,3,1,1,4,1,1,1,1,1,1,1,1,1,1,1,1,1,1,1,1,1,2,1,1,1,3,1,1,1,1,1,1,1,1,1,1,1,3,1,1,1,3,1,3,1,1,2,1,2,1,1,1,1,1,1,1,2,1,1,1,2,1,1,1,1,1,1,1,1,1,1,1,1,1,3,1,1,1,4,1,1,1,1,1,2,2,1,1,1,1,1,1,1,1,1,1,1,2,1,1,1,1,1,1,1,1,1,1,1,1,1,1,1,1,1,2,1,1,1,1,1,1,1,1,1,1,1,47,1,1,1,15,8,1,1,1,1,1,1,1,1,1,1,1,1,1,1,1,1,1,1,1,1,1,1,1,1,1,1,1,3,1,1,1,1,2,1,1,1,1,1,3,1,1,1,1,3,1,1,1,1,1,1,1,1,1,3,1,1,1,1,1,1,2,1,1,1,1,2,1,1,1,1,1,1,1,1,1,1,1,1,1,1,1,1,3,1,1,1,1,1,54,1,1,1,1,1,1,1,1,1,1,1,1,1,1,1,14,2,5,1,1,1,1,7,1,1,2,1,4,1,1,1,1,6,1,2,1,1,2,1,1,1,1,1,1,1,1,1,1,1,1,1,1,1,1,1,1,4,2,1,1,1,1,1,2,1,1,2,2,1,1,1,1,1,1,5,1,2,1,1,1,1,9,4,1,1,1,1,1,1,1,1,1,1,3,1,1,1,1,1,1,1,1,1,1,1,1,1,1,1,1,4,1,2,1,1,1,1,1,1,1,1,1,2,54,1,3,1,3,1,1,1,1,1,1,1,1,1,1,1,1,1,1,4,1,1,1,2,1,1,1,1,1,1,1,1,1,1,1,2,4,1,1,1,1,1,1,1,1,1,3,1,2,1,1,1,1,1,1,1,1,1,1,1,1,1,1,1,2,1,1,1,1,1,1,1,1,1,1,1,1,1,1,8,2,1,2,1,1,1,3,1,1,1,1,1,1,1,1,3,1,1,3,1,1,1,1,1,51,1,1,1,1,1,1,1,8,1,1,1,1,1,1,1,1,1,1,1,1,1,1,1,1,1,1,1,1,1,1,1,1,1,1,1,1,1,1,1,3,1,1,1,5,1,1,1,1,1,1,5,1,1,2,1,1,4,1,1,1,1,1,1,1,1,2,1,1,1,1,2,1,1,1,1,1,1,1,1,1,1,1,2,1,1,1,1,1,1,1,1,1,1,1,1,1,1,1,1,1,1,1,1,1,1,1,1,2,2,1,2,1,1,4,1],\"type\":\"treemap\"}],                        {\"template\":{\"data\":{\"histogram2dcontour\":[{\"type\":\"histogram2dcontour\",\"colorbar\":{\"outlinewidth\":0,\"ticks\":\"\"},\"colorscale\":[[0.0,\"#0d0887\"],[0.1111111111111111,\"#46039f\"],[0.2222222222222222,\"#7201a8\"],[0.3333333333333333,\"#9c179e\"],[0.4444444444444444,\"#bd3786\"],[0.5555555555555556,\"#d8576b\"],[0.6666666666666666,\"#ed7953\"],[0.7777777777777778,\"#fb9f3a\"],[0.8888888888888888,\"#fdca26\"],[1.0,\"#f0f921\"]]}],\"choropleth\":[{\"type\":\"choropleth\",\"colorbar\":{\"outlinewidth\":0,\"ticks\":\"\"}}],\"histogram2d\":[{\"type\":\"histogram2d\",\"colorbar\":{\"outlinewidth\":0,\"ticks\":\"\"},\"colorscale\":[[0.0,\"#0d0887\"],[0.1111111111111111,\"#46039f\"],[0.2222222222222222,\"#7201a8\"],[0.3333333333333333,\"#9c179e\"],[0.4444444444444444,\"#bd3786\"],[0.5555555555555556,\"#d8576b\"],[0.6666666666666666,\"#ed7953\"],[0.7777777777777778,\"#fb9f3a\"],[0.8888888888888888,\"#fdca26\"],[1.0,\"#f0f921\"]]}],\"heatmap\":[{\"type\":\"heatmap\",\"colorbar\":{\"outlinewidth\":0,\"ticks\":\"\"},\"colorscale\":[[0.0,\"#0d0887\"],[0.1111111111111111,\"#46039f\"],[0.2222222222222222,\"#7201a8\"],[0.3333333333333333,\"#9c179e\"],[0.4444444444444444,\"#bd3786\"],[0.5555555555555556,\"#d8576b\"],[0.6666666666666666,\"#ed7953\"],[0.7777777777777778,\"#fb9f3a\"],[0.8888888888888888,\"#fdca26\"],[1.0,\"#f0f921\"]]}],\"heatmapgl\":[{\"type\":\"heatmapgl\",\"colorbar\":{\"outlinewidth\":0,\"ticks\":\"\"},\"colorscale\":[[0.0,\"#0d0887\"],[0.1111111111111111,\"#46039f\"],[0.2222222222222222,\"#7201a8\"],[0.3333333333333333,\"#9c179e\"],[0.4444444444444444,\"#bd3786\"],[0.5555555555555556,\"#d8576b\"],[0.6666666666666666,\"#ed7953\"],[0.7777777777777778,\"#fb9f3a\"],[0.8888888888888888,\"#fdca26\"],[1.0,\"#f0f921\"]]}],\"contourcarpet\":[{\"type\":\"contourcarpet\",\"colorbar\":{\"outlinewidth\":0,\"ticks\":\"\"}}],\"contour\":[{\"type\":\"contour\",\"colorbar\":{\"outlinewidth\":0,\"ticks\":\"\"},\"colorscale\":[[0.0,\"#0d0887\"],[0.1111111111111111,\"#46039f\"],[0.2222222222222222,\"#7201a8\"],[0.3333333333333333,\"#9c179e\"],[0.4444444444444444,\"#bd3786\"],[0.5555555555555556,\"#d8576b\"],[0.6666666666666666,\"#ed7953\"],[0.7777777777777778,\"#fb9f3a\"],[0.8888888888888888,\"#fdca26\"],[1.0,\"#f0f921\"]]}],\"surface\":[{\"type\":\"surface\",\"colorbar\":{\"outlinewidth\":0,\"ticks\":\"\"},\"colorscale\":[[0.0,\"#0d0887\"],[0.1111111111111111,\"#46039f\"],[0.2222222222222222,\"#7201a8\"],[0.3333333333333333,\"#9c179e\"],[0.4444444444444444,\"#bd3786\"],[0.5555555555555556,\"#d8576b\"],[0.6666666666666666,\"#ed7953\"],[0.7777777777777778,\"#fb9f3a\"],[0.8888888888888888,\"#fdca26\"],[1.0,\"#f0f921\"]]}],\"mesh3d\":[{\"type\":\"mesh3d\",\"colorbar\":{\"outlinewidth\":0,\"ticks\":\"\"}}],\"scatter\":[{\"fillpattern\":{\"fillmode\":\"overlay\",\"size\":10,\"solidity\":0.2},\"type\":\"scatter\"}],\"parcoords\":[{\"type\":\"parcoords\",\"line\":{\"colorbar\":{\"outlinewidth\":0,\"ticks\":\"\"}}}],\"scatterpolargl\":[{\"type\":\"scatterpolargl\",\"marker\":{\"colorbar\":{\"outlinewidth\":0,\"ticks\":\"\"}}}],\"bar\":[{\"error_x\":{\"color\":\"#2a3f5f\"},\"error_y\":{\"color\":\"#2a3f5f\"},\"marker\":{\"line\":{\"color\":\"#E5ECF6\",\"width\":0.5},\"pattern\":{\"fillmode\":\"overlay\",\"size\":10,\"solidity\":0.2}},\"type\":\"bar\"}],\"scattergeo\":[{\"type\":\"scattergeo\",\"marker\":{\"colorbar\":{\"outlinewidth\":0,\"ticks\":\"\"}}}],\"scatterpolar\":[{\"type\":\"scatterpolar\",\"marker\":{\"colorbar\":{\"outlinewidth\":0,\"ticks\":\"\"}}}],\"histogram\":[{\"marker\":{\"pattern\":{\"fillmode\":\"overlay\",\"size\":10,\"solidity\":0.2}},\"type\":\"histogram\"}],\"scattergl\":[{\"type\":\"scattergl\",\"marker\":{\"colorbar\":{\"outlinewidth\":0,\"ticks\":\"\"}}}],\"scatter3d\":[{\"type\":\"scatter3d\",\"line\":{\"colorbar\":{\"outlinewidth\":0,\"ticks\":\"\"}},\"marker\":{\"colorbar\":{\"outlinewidth\":0,\"ticks\":\"\"}}}],\"scattermapbox\":[{\"type\":\"scattermapbox\",\"marker\":{\"colorbar\":{\"outlinewidth\":0,\"ticks\":\"\"}}}],\"scatterternary\":[{\"type\":\"scatterternary\",\"marker\":{\"colorbar\":{\"outlinewidth\":0,\"ticks\":\"\"}}}],\"scattercarpet\":[{\"type\":\"scattercarpet\",\"marker\":{\"colorbar\":{\"outlinewidth\":0,\"ticks\":\"\"}}}],\"carpet\":[{\"aaxis\":{\"endlinecolor\":\"#2a3f5f\",\"gridcolor\":\"white\",\"linecolor\":\"white\",\"minorgridcolor\":\"white\",\"startlinecolor\":\"#2a3f5f\"},\"baxis\":{\"endlinecolor\":\"#2a3f5f\",\"gridcolor\":\"white\",\"linecolor\":\"white\",\"minorgridcolor\":\"white\",\"startlinecolor\":\"#2a3f5f\"},\"type\":\"carpet\"}],\"table\":[{\"cells\":{\"fill\":{\"color\":\"#EBF0F8\"},\"line\":{\"color\":\"white\"}},\"header\":{\"fill\":{\"color\":\"#C8D4E3\"},\"line\":{\"color\":\"white\"}},\"type\":\"table\"}],\"barpolar\":[{\"marker\":{\"line\":{\"color\":\"#E5ECF6\",\"width\":0.5},\"pattern\":{\"fillmode\":\"overlay\",\"size\":10,\"solidity\":0.2}},\"type\":\"barpolar\"}],\"pie\":[{\"automargin\":true,\"type\":\"pie\"}]},\"layout\":{\"autotypenumbers\":\"strict\",\"colorway\":[\"#636efa\",\"#EF553B\",\"#00cc96\",\"#ab63fa\",\"#FFA15A\",\"#19d3f3\",\"#FF6692\",\"#B6E880\",\"#FF97FF\",\"#FECB52\"],\"font\":{\"color\":\"#2a3f5f\"},\"hovermode\":\"closest\",\"hoverlabel\":{\"align\":\"left\"},\"paper_bgcolor\":\"white\",\"plot_bgcolor\":\"#E5ECF6\",\"polar\":{\"bgcolor\":\"#E5ECF6\",\"angularaxis\":{\"gridcolor\":\"white\",\"linecolor\":\"white\",\"ticks\":\"\"},\"radialaxis\":{\"gridcolor\":\"white\",\"linecolor\":\"white\",\"ticks\":\"\"}},\"ternary\":{\"bgcolor\":\"#E5ECF6\",\"aaxis\":{\"gridcolor\":\"white\",\"linecolor\":\"white\",\"ticks\":\"\"},\"baxis\":{\"gridcolor\":\"white\",\"linecolor\":\"white\",\"ticks\":\"\"},\"caxis\":{\"gridcolor\":\"white\",\"linecolor\":\"white\",\"ticks\":\"\"}},\"coloraxis\":{\"colorbar\":{\"outlinewidth\":0,\"ticks\":\"\"}},\"colorscale\":{\"sequential\":[[0.0,\"#0d0887\"],[0.1111111111111111,\"#46039f\"],[0.2222222222222222,\"#7201a8\"],[0.3333333333333333,\"#9c179e\"],[0.4444444444444444,\"#bd3786\"],[0.5555555555555556,\"#d8576b\"],[0.6666666666666666,\"#ed7953\"],[0.7777777777777778,\"#fb9f3a\"],[0.8888888888888888,\"#fdca26\"],[1.0,\"#f0f921\"]],\"sequentialminus\":[[0.0,\"#0d0887\"],[0.1111111111111111,\"#46039f\"],[0.2222222222222222,\"#7201a8\"],[0.3333333333333333,\"#9c179e\"],[0.4444444444444444,\"#bd3786\"],[0.5555555555555556,\"#d8576b\"],[0.6666666666666666,\"#ed7953\"],[0.7777777777777778,\"#fb9f3a\"],[0.8888888888888888,\"#fdca26\"],[1.0,\"#f0f921\"]],\"diverging\":[[0,\"#8e0152\"],[0.1,\"#c51b7d\"],[0.2,\"#de77ae\"],[0.3,\"#f1b6da\"],[0.4,\"#fde0ef\"],[0.5,\"#f7f7f7\"],[0.6,\"#e6f5d0\"],[0.7,\"#b8e186\"],[0.8,\"#7fbc41\"],[0.9,\"#4d9221\"],[1,\"#276419\"]]},\"xaxis\":{\"gridcolor\":\"white\",\"linecolor\":\"white\",\"ticks\":\"\",\"title\":{\"standoff\":15},\"zerolinecolor\":\"white\",\"automargin\":true,\"zerolinewidth\":2},\"yaxis\":{\"gridcolor\":\"white\",\"linecolor\":\"white\",\"ticks\":\"\",\"title\":{\"standoff\":15},\"zerolinecolor\":\"white\",\"automargin\":true,\"zerolinewidth\":2},\"scene\":{\"xaxis\":{\"backgroundcolor\":\"#E5ECF6\",\"gridcolor\":\"white\",\"linecolor\":\"white\",\"showbackground\":true,\"ticks\":\"\",\"zerolinecolor\":\"white\",\"gridwidth\":2},\"yaxis\":{\"backgroundcolor\":\"#E5ECF6\",\"gridcolor\":\"white\",\"linecolor\":\"white\",\"showbackground\":true,\"ticks\":\"\",\"zerolinecolor\":\"white\",\"gridwidth\":2},\"zaxis\":{\"backgroundcolor\":\"#E5ECF6\",\"gridcolor\":\"white\",\"linecolor\":\"white\",\"showbackground\":true,\"ticks\":\"\",\"zerolinecolor\":\"white\",\"gridwidth\":2}},\"shapedefaults\":{\"line\":{\"color\":\"#2a3f5f\"}},\"annotationdefaults\":{\"arrowcolor\":\"#2a3f5f\",\"arrowhead\":0,\"arrowwidth\":1},\"geo\":{\"bgcolor\":\"white\",\"landcolor\":\"#E5ECF6\",\"subunitcolor\":\"white\",\"showland\":true,\"showlakes\":true,\"lakecolor\":\"white\"},\"title\":{\"x\":0.05},\"mapbox\":{\"style\":\"light\"}}},\"legend\":{\"tracegroupgap\":0},\"title\":{\"text\":\"Proportion of Episodes for Each Character\"}},                        {\"responsive\": true}                    ).then(function(){\n",
              "                            \n",
              "var gd = document.getElementById('20d0f65a-224f-4b35-9bd4-97056cd55d05');\n",
              "var x = new MutationObserver(function (mutations, observer) {{\n",
              "        var display = window.getComputedStyle(gd).display;\n",
              "        if (!display || display === 'none') {{\n",
              "            console.log([gd, 'removed!']);\n",
              "            Plotly.purge(gd);\n",
              "            observer.disconnect();\n",
              "        }}\n",
              "}});\n",
              "\n",
              "// Listen for the removal of the full notebook cells\n",
              "var notebookContainer = gd.closest('#notebook-container');\n",
              "if (notebookContainer) {{\n",
              "    x.observe(notebookContainer, {childList: true});\n",
              "}}\n",
              "\n",
              "// Listen for the clearing of the current output cell\n",
              "var outputEl = gd.closest('.output');\n",
              "if (outputEl) {{\n",
              "    x.observe(outputEl, {childList: true});\n",
              "}}\n",
              "\n",
              "                        })                };                            </script>        </div>\n",
              "</body>\n",
              "</html>"
            ]
          },
          "metadata": {}
        }
      ]
    },
    {
      "cell_type": "markdown",
      "source": [
        "\n",
        "The treemap generated using the code displays a visual representation of the proportion of episodes for each character based on the 'name' column and the number of episodes ('no_ep') in the DataFrame.\n",
        "\n",
        "Morty Smith and Rick Sanchez are depicted with larger sections in the treemap compared to Sck Zack, it indicates that Morty Smith and Rick Sanchez have a higher count of episodes they've appeared in compared to Sck Zack. The larger rectangles representing Morty Smith and Rick Sanchez signify a larger share of episodes attributed to these characters, while the smaller rectangle for Sck Zack indicates a relatively smaller number of episodes involving this character.\n",
        "\n",
        "This treemap visualization effectively showcases the varying proportions of episode appearances among different characters in the dataset."
      ],
      "metadata": {
        "id": "qPtxTSQhr0ON"
      }
    },
    {
      "cell_type": "code",
      "source": [
        "# Initialize the Dash app\n",
        "app = dash.Dash(__name__)"
      ],
      "metadata": {
        "id": "eOmW2eX9i_r2"
      },
      "execution_count": 11,
      "outputs": []
    },
    {
      "cell_type": "code",
      "source": [
        "# Define the layout of the app\n",
        "app.layout = html.Div([\n",
        "    html.H1(\"Number of Episodes per Character\"),\n",
        "    dcc.Graph(\n",
        "        id='episode-bar-chart',\n",
        "        figure=px.bar(df, x='name', y='no_ep', color='name',\n",
        "                      labels={'no_ep': 'Number of Episodes', 'name': 'Character'})\n",
        "    )\n",
        "])\n",
        "\n",
        "# Run the app\n",
        "if __name__ == '__main__':\n",
        "    app.run_server(debug=True)"
      ],
      "metadata": {
        "id": "olPjzIHejFNg",
        "colab": {
          "base_uri": "https://localhost:8080/",
          "height": 671
        },
        "outputId": "d124a269-e1dd-431e-e7e4-af9badf45c69"
      },
      "execution_count": 12,
      "outputs": [
        {
          "output_type": "display_data",
          "data": {
            "text/plain": [
              "<IPython.core.display.Javascript object>"
            ],
            "application/javascript": [
              "(async (port, path, width, height, cache, element) => {\n",
              "    if (!google.colab.kernel.accessAllowed && !cache) {\n",
              "      return;\n",
              "    }\n",
              "    element.appendChild(document.createTextNode(''));\n",
              "    const url = await google.colab.kernel.proxyPort(port, {cache});\n",
              "    const iframe = document.createElement('iframe');\n",
              "    iframe.src = new URL(path, url).toString();\n",
              "    iframe.height = height;\n",
              "    iframe.width = width;\n",
              "    iframe.style.border = 0;\n",
              "    iframe.allow = [\n",
              "        'accelerometer',\n",
              "        'autoplay',\n",
              "        'camera',\n",
              "        'clipboard-read',\n",
              "        'clipboard-write',\n",
              "        'gyroscope',\n",
              "        'magnetometer',\n",
              "        'microphone',\n",
              "        'serial',\n",
              "        'usb',\n",
              "        'xr-spatial-tracking',\n",
              "    ].join('; ');\n",
              "    element.appendChild(iframe);\n",
              "  })(8050, \"/\", \"100%\", 650, false, window.element)"
            ]
          },
          "metadata": {}
        }
      ]
    },
    {
      "cell_type": "markdown",
      "source": [
        "Characters like Rick Sanchez, Amish Cyborg, Baby Wizard, etc., are shown with the highest number of episodes, as they have bars extending farther to the right on the x-axis. Meanwhile, characters like Long Hair Rick and others have smaller bars, indicating fewer episodes associated with them."
      ],
      "metadata": {
        "id": "6Ko3rahzviV9"
      }
    },
    {
      "cell_type": "code",
      "source": [],
      "metadata": {
        "id": "6uIwn8OLjrSG"
      },
      "execution_count": 12,
      "outputs": []
    },
    {
      "cell_type": "code",
      "source": [],
      "metadata": {
        "id": "b1xo8IMi-y8r"
      },
      "execution_count": null,
      "outputs": []
    },
    {
      "cell_type": "code",
      "source": [],
      "metadata": {
        "id": "NPj3zwzQ-y_k"
      },
      "execution_count": null,
      "outputs": []
    },
    {
      "cell_type": "code",
      "source": [],
      "metadata": {
        "id": "NMU-KODt-zCQ"
      },
      "execution_count": null,
      "outputs": []
    },
    {
      "cell_type": "code",
      "source": [],
      "metadata": {
        "id": "ixuofQOJ-zE6"
      },
      "execution_count": null,
      "outputs": []
    }
  ]
}