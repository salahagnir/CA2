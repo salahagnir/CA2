{
  "nbformat": 4,
  "nbformat_minor": 0,
  "metadata": {
    "colab": {
      "provenance": [],
      "mount_file_id": "https://github.com/salahagnir/CA2/blob/main/ML_CA2.ipynb",
      "authorship_tag": "ABX9TyNi8gleVxLJvlb88Wrg6aRR",
      "include_colab_link": true
    },
    "kernelspec": {
      "name": "python3",
      "display_name": "Python 3"
    },
    "language_info": {
      "name": "python"
    }
  },
  "cells": [
    {
      "cell_type": "markdown",
      "metadata": {
        "id": "view-in-github",
        "colab_type": "text"
      },
      "source": [
        "<a href=\"https://colab.research.google.com/github/salahagnir/CA2/blob/main/ML_CA2.ipynb\" target=\"_parent\"><img src=\"https://colab.research.google.com/assets/colab-badge.svg\" alt=\"Open In Colab\"/></a>"
      ]
    },
    {
      "cell_type": "code",
      "execution_count": 227,
      "metadata": {
        "id": "bYbex-L6Finv"
      },
      "outputs": [],
      "source": [
        "import pandas as pd\n",
        "import numpy as np\n",
        "import matplotlib.pyplot as plt\n",
        "from statsmodels.tsa.statespace.sarimax import SARIMAX\n",
        "from sklearn.ensemble import GradientBoostingRegressor\n",
        "from sklearn.model_selection import TimeSeriesSplit\n",
        "from sklearn.metrics import mean_squared_error\n",
        "from sklearn.model_selection import train_test_split\n",
        "from sklearn.model_selection import GridSearchCV\n",
        "#warnings\n",
        "import warnings\n",
        "warnings.filterwarnings('ignore')"
      ]
    },
    {
      "cell_type": "code",
      "source": [
        "df = pd.read_csv('/content/drive/MyDrive/CA2/TII01.20231126154500.csv')\n",
        "df2 = pd.read_csv('/content/drive/MyDrive/CA2/TOA11.20231218135730.csv')"
      ],
      "metadata": {
        "id": "f7DSOsBkF1PH"
      },
      "execution_count": 228,
      "outputs": []
    },
    {
      "cell_type": "code",
      "source": [
        "df"
      ],
      "metadata": {
        "colab": {
          "base_uri": "https://localhost:8080/",
          "height": 424
        },
        "id": "K49RssSGF1SQ",
        "outputId": "51739e16-dd80-4c33-d178-b67374baaaa6"
      },
      "execution_count": 229,
      "outputs": [
        {
          "output_type": "execute_result",
          "data": {
            "text/plain": [
              "    STATISTIC     Statistic Label  TLIST(W1)  Year C03132V03784  \\\n",
              "0    TII01C01  Passenger Journeys       2019  2019            -   \n",
              "1    TII01C01  Passenger Journeys       2019  2019            -   \n",
              "2    TII01C01  Passenger Journeys       2019  2019            -   \n",
              "3    TII01C01  Passenger Journeys       2019  2019            -   \n",
              "4    TII01C01  Passenger Journeys       2019  2019            -   \n",
              "..        ...                 ...        ...   ...          ...   \n",
              "790  TII01C01  Passenger Journeys       2023  2023            2   \n",
              "791  TII01C01  Passenger Journeys       2023  2023            2   \n",
              "792  TII01C01  Passenger Journeys       2023  2023            2   \n",
              "793  TII01C01  Passenger Journeys       2023  2023            2   \n",
              "794  TII01C01  Passenger Journeys       2023  2023            2   \n",
              "\n",
              "          Luas Line  C01198V01436 Weeks of the year    UNIT     VALUE  \n",
              "0    All Luas lines             1           Week 01  Number  549533.0  \n",
              "1    All Luas lines             2           Week 02  Number  839022.0  \n",
              "2    All Luas lines             3           Week 03  Number  819359.0  \n",
              "3    All Luas lines             4           Week 04  Number  860745.0  \n",
              "4    All Luas lines             5           Week 05  Number  912795.0  \n",
              "..              ...           ...               ...     ...       ...  \n",
              "790      Green line            49           Week 49  Number       NaN  \n",
              "791      Green line            50           Week 50  Number       NaN  \n",
              "792      Green line            51           Week 51  Number       NaN  \n",
              "793      Green line            52           Week 52  Number       NaN  \n",
              "794      Green line            53           Week 53  Number       NaN  \n",
              "\n",
              "[795 rows x 10 columns]"
            ],
            "text/html": [
              "\n",
              "  <div id=\"df-6e458d46-7eab-469b-899b-b5229aa5a388\" class=\"colab-df-container\">\n",
              "    <div>\n",
              "<style scoped>\n",
              "    .dataframe tbody tr th:only-of-type {\n",
              "        vertical-align: middle;\n",
              "    }\n",
              "\n",
              "    .dataframe tbody tr th {\n",
              "        vertical-align: top;\n",
              "    }\n",
              "\n",
              "    .dataframe thead th {\n",
              "        text-align: right;\n",
              "    }\n",
              "</style>\n",
              "<table border=\"1\" class=\"dataframe\">\n",
              "  <thead>\n",
              "    <tr style=\"text-align: right;\">\n",
              "      <th></th>\n",
              "      <th>STATISTIC</th>\n",
              "      <th>Statistic Label</th>\n",
              "      <th>TLIST(W1)</th>\n",
              "      <th>Year</th>\n",
              "      <th>C03132V03784</th>\n",
              "      <th>Luas Line</th>\n",
              "      <th>C01198V01436</th>\n",
              "      <th>Weeks of the year</th>\n",
              "      <th>UNIT</th>\n",
              "      <th>VALUE</th>\n",
              "    </tr>\n",
              "  </thead>\n",
              "  <tbody>\n",
              "    <tr>\n",
              "      <th>0</th>\n",
              "      <td>TII01C01</td>\n",
              "      <td>Passenger Journeys</td>\n",
              "      <td>2019</td>\n",
              "      <td>2019</td>\n",
              "      <td>-</td>\n",
              "      <td>All Luas lines</td>\n",
              "      <td>1</td>\n",
              "      <td>Week 01</td>\n",
              "      <td>Number</td>\n",
              "      <td>549533.0</td>\n",
              "    </tr>\n",
              "    <tr>\n",
              "      <th>1</th>\n",
              "      <td>TII01C01</td>\n",
              "      <td>Passenger Journeys</td>\n",
              "      <td>2019</td>\n",
              "      <td>2019</td>\n",
              "      <td>-</td>\n",
              "      <td>All Luas lines</td>\n",
              "      <td>2</td>\n",
              "      <td>Week 02</td>\n",
              "      <td>Number</td>\n",
              "      <td>839022.0</td>\n",
              "    </tr>\n",
              "    <tr>\n",
              "      <th>2</th>\n",
              "      <td>TII01C01</td>\n",
              "      <td>Passenger Journeys</td>\n",
              "      <td>2019</td>\n",
              "      <td>2019</td>\n",
              "      <td>-</td>\n",
              "      <td>All Luas lines</td>\n",
              "      <td>3</td>\n",
              "      <td>Week 03</td>\n",
              "      <td>Number</td>\n",
              "      <td>819359.0</td>\n",
              "    </tr>\n",
              "    <tr>\n",
              "      <th>3</th>\n",
              "      <td>TII01C01</td>\n",
              "      <td>Passenger Journeys</td>\n",
              "      <td>2019</td>\n",
              "      <td>2019</td>\n",
              "      <td>-</td>\n",
              "      <td>All Luas lines</td>\n",
              "      <td>4</td>\n",
              "      <td>Week 04</td>\n",
              "      <td>Number</td>\n",
              "      <td>860745.0</td>\n",
              "    </tr>\n",
              "    <tr>\n",
              "      <th>4</th>\n",
              "      <td>TII01C01</td>\n",
              "      <td>Passenger Journeys</td>\n",
              "      <td>2019</td>\n",
              "      <td>2019</td>\n",
              "      <td>-</td>\n",
              "      <td>All Luas lines</td>\n",
              "      <td>5</td>\n",
              "      <td>Week 05</td>\n",
              "      <td>Number</td>\n",
              "      <td>912795.0</td>\n",
              "    </tr>\n",
              "    <tr>\n",
              "      <th>...</th>\n",
              "      <td>...</td>\n",
              "      <td>...</td>\n",
              "      <td>...</td>\n",
              "      <td>...</td>\n",
              "      <td>...</td>\n",
              "      <td>...</td>\n",
              "      <td>...</td>\n",
              "      <td>...</td>\n",
              "      <td>...</td>\n",
              "      <td>...</td>\n",
              "    </tr>\n",
              "    <tr>\n",
              "      <th>790</th>\n",
              "      <td>TII01C01</td>\n",
              "      <td>Passenger Journeys</td>\n",
              "      <td>2023</td>\n",
              "      <td>2023</td>\n",
              "      <td>2</td>\n",
              "      <td>Green line</td>\n",
              "      <td>49</td>\n",
              "      <td>Week 49</td>\n",
              "      <td>Number</td>\n",
              "      <td>NaN</td>\n",
              "    </tr>\n",
              "    <tr>\n",
              "      <th>791</th>\n",
              "      <td>TII01C01</td>\n",
              "      <td>Passenger Journeys</td>\n",
              "      <td>2023</td>\n",
              "      <td>2023</td>\n",
              "      <td>2</td>\n",
              "      <td>Green line</td>\n",
              "      <td>50</td>\n",
              "      <td>Week 50</td>\n",
              "      <td>Number</td>\n",
              "      <td>NaN</td>\n",
              "    </tr>\n",
              "    <tr>\n",
              "      <th>792</th>\n",
              "      <td>TII01C01</td>\n",
              "      <td>Passenger Journeys</td>\n",
              "      <td>2023</td>\n",
              "      <td>2023</td>\n",
              "      <td>2</td>\n",
              "      <td>Green line</td>\n",
              "      <td>51</td>\n",
              "      <td>Week 51</td>\n",
              "      <td>Number</td>\n",
              "      <td>NaN</td>\n",
              "    </tr>\n",
              "    <tr>\n",
              "      <th>793</th>\n",
              "      <td>TII01C01</td>\n",
              "      <td>Passenger Journeys</td>\n",
              "      <td>2023</td>\n",
              "      <td>2023</td>\n",
              "      <td>2</td>\n",
              "      <td>Green line</td>\n",
              "      <td>52</td>\n",
              "      <td>Week 52</td>\n",
              "      <td>Number</td>\n",
              "      <td>NaN</td>\n",
              "    </tr>\n",
              "    <tr>\n",
              "      <th>794</th>\n",
              "      <td>TII01C01</td>\n",
              "      <td>Passenger Journeys</td>\n",
              "      <td>2023</td>\n",
              "      <td>2023</td>\n",
              "      <td>2</td>\n",
              "      <td>Green line</td>\n",
              "      <td>53</td>\n",
              "      <td>Week 53</td>\n",
              "      <td>Number</td>\n",
              "      <td>NaN</td>\n",
              "    </tr>\n",
              "  </tbody>\n",
              "</table>\n",
              "<p>795 rows × 10 columns</p>\n",
              "</div>\n",
              "    <div class=\"colab-df-buttons\">\n",
              "\n",
              "  <div class=\"colab-df-container\">\n",
              "    <button class=\"colab-df-convert\" onclick=\"convertToInteractive('df-6e458d46-7eab-469b-899b-b5229aa5a388')\"\n",
              "            title=\"Convert this dataframe to an interactive table.\"\n",
              "            style=\"display:none;\">\n",
              "\n",
              "  <svg xmlns=\"http://www.w3.org/2000/svg\" height=\"24px\" viewBox=\"0 -960 960 960\">\n",
              "    <path d=\"M120-120v-720h720v720H120Zm60-500h600v-160H180v160Zm220 220h160v-160H400v160Zm0 220h160v-160H400v160ZM180-400h160v-160H180v160Zm440 0h160v-160H620v160ZM180-180h160v-160H180v160Zm440 0h160v-160H620v160Z\"/>\n",
              "  </svg>\n",
              "    </button>\n",
              "\n",
              "  <style>\n",
              "    .colab-df-container {\n",
              "      display:flex;\n",
              "      gap: 12px;\n",
              "    }\n",
              "\n",
              "    .colab-df-convert {\n",
              "      background-color: #E8F0FE;\n",
              "      border: none;\n",
              "      border-radius: 50%;\n",
              "      cursor: pointer;\n",
              "      display: none;\n",
              "      fill: #1967D2;\n",
              "      height: 32px;\n",
              "      padding: 0 0 0 0;\n",
              "      width: 32px;\n",
              "    }\n",
              "\n",
              "    .colab-df-convert:hover {\n",
              "      background-color: #E2EBFA;\n",
              "      box-shadow: 0px 1px 2px rgba(60, 64, 67, 0.3), 0px 1px 3px 1px rgba(60, 64, 67, 0.15);\n",
              "      fill: #174EA6;\n",
              "    }\n",
              "\n",
              "    .colab-df-buttons div {\n",
              "      margin-bottom: 4px;\n",
              "    }\n",
              "\n",
              "    [theme=dark] .colab-df-convert {\n",
              "      background-color: #3B4455;\n",
              "      fill: #D2E3FC;\n",
              "    }\n",
              "\n",
              "    [theme=dark] .colab-df-convert:hover {\n",
              "      background-color: #434B5C;\n",
              "      box-shadow: 0px 1px 3px 1px rgba(0, 0, 0, 0.15);\n",
              "      filter: drop-shadow(0px 1px 2px rgba(0, 0, 0, 0.3));\n",
              "      fill: #FFFFFF;\n",
              "    }\n",
              "  </style>\n",
              "\n",
              "    <script>\n",
              "      const buttonEl =\n",
              "        document.querySelector('#df-6e458d46-7eab-469b-899b-b5229aa5a388 button.colab-df-convert');\n",
              "      buttonEl.style.display =\n",
              "        google.colab.kernel.accessAllowed ? 'block' : 'none';\n",
              "\n",
              "      async function convertToInteractive(key) {\n",
              "        const element = document.querySelector('#df-6e458d46-7eab-469b-899b-b5229aa5a388');\n",
              "        const dataTable =\n",
              "          await google.colab.kernel.invokeFunction('convertToInteractive',\n",
              "                                                    [key], {});\n",
              "        if (!dataTable) return;\n",
              "\n",
              "        const docLinkHtml = 'Like what you see? Visit the ' +\n",
              "          '<a target=\"_blank\" href=https://colab.research.google.com/notebooks/data_table.ipynb>data table notebook</a>'\n",
              "          + ' to learn more about interactive tables.';\n",
              "        element.innerHTML = '';\n",
              "        dataTable['output_type'] = 'display_data';\n",
              "        await google.colab.output.renderOutput(dataTable, element);\n",
              "        const docLink = document.createElement('div');\n",
              "        docLink.innerHTML = docLinkHtml;\n",
              "        element.appendChild(docLink);\n",
              "      }\n",
              "    </script>\n",
              "  </div>\n",
              "\n",
              "\n",
              "<div id=\"df-611dadf5-912c-4bc4-a007-35aeca42e307\">\n",
              "  <button class=\"colab-df-quickchart\" onclick=\"quickchart('df-611dadf5-912c-4bc4-a007-35aeca42e307')\"\n",
              "            title=\"Suggest charts\"\n",
              "            style=\"display:none;\">\n",
              "\n",
              "<svg xmlns=\"http://www.w3.org/2000/svg\" height=\"24px\"viewBox=\"0 0 24 24\"\n",
              "     width=\"24px\">\n",
              "    <g>\n",
              "        <path d=\"M19 3H5c-1.1 0-2 .9-2 2v14c0 1.1.9 2 2 2h14c1.1 0 2-.9 2-2V5c0-1.1-.9-2-2-2zM9 17H7v-7h2v7zm4 0h-2V7h2v10zm4 0h-2v-4h2v4z\"/>\n",
              "    </g>\n",
              "</svg>\n",
              "  </button>\n",
              "\n",
              "<style>\n",
              "  .colab-df-quickchart {\n",
              "      --bg-color: #E8F0FE;\n",
              "      --fill-color: #1967D2;\n",
              "      --hover-bg-color: #E2EBFA;\n",
              "      --hover-fill-color: #174EA6;\n",
              "      --disabled-fill-color: #AAA;\n",
              "      --disabled-bg-color: #DDD;\n",
              "  }\n",
              "\n",
              "  [theme=dark] .colab-df-quickchart {\n",
              "      --bg-color: #3B4455;\n",
              "      --fill-color: #D2E3FC;\n",
              "      --hover-bg-color: #434B5C;\n",
              "      --hover-fill-color: #FFFFFF;\n",
              "      --disabled-bg-color: #3B4455;\n",
              "      --disabled-fill-color: #666;\n",
              "  }\n",
              "\n",
              "  .colab-df-quickchart {\n",
              "    background-color: var(--bg-color);\n",
              "    border: none;\n",
              "    border-radius: 50%;\n",
              "    cursor: pointer;\n",
              "    display: none;\n",
              "    fill: var(--fill-color);\n",
              "    height: 32px;\n",
              "    padding: 0;\n",
              "    width: 32px;\n",
              "  }\n",
              "\n",
              "  .colab-df-quickchart:hover {\n",
              "    background-color: var(--hover-bg-color);\n",
              "    box-shadow: 0 1px 2px rgba(60, 64, 67, 0.3), 0 1px 3px 1px rgba(60, 64, 67, 0.15);\n",
              "    fill: var(--button-hover-fill-color);\n",
              "  }\n",
              "\n",
              "  .colab-df-quickchart-complete:disabled,\n",
              "  .colab-df-quickchart-complete:disabled:hover {\n",
              "    background-color: var(--disabled-bg-color);\n",
              "    fill: var(--disabled-fill-color);\n",
              "    box-shadow: none;\n",
              "  }\n",
              "\n",
              "  .colab-df-spinner {\n",
              "    border: 2px solid var(--fill-color);\n",
              "    border-color: transparent;\n",
              "    border-bottom-color: var(--fill-color);\n",
              "    animation:\n",
              "      spin 1s steps(1) infinite;\n",
              "  }\n",
              "\n",
              "  @keyframes spin {\n",
              "    0% {\n",
              "      border-color: transparent;\n",
              "      border-bottom-color: var(--fill-color);\n",
              "      border-left-color: var(--fill-color);\n",
              "    }\n",
              "    20% {\n",
              "      border-color: transparent;\n",
              "      border-left-color: var(--fill-color);\n",
              "      border-top-color: var(--fill-color);\n",
              "    }\n",
              "    30% {\n",
              "      border-color: transparent;\n",
              "      border-left-color: var(--fill-color);\n",
              "      border-top-color: var(--fill-color);\n",
              "      border-right-color: var(--fill-color);\n",
              "    }\n",
              "    40% {\n",
              "      border-color: transparent;\n",
              "      border-right-color: var(--fill-color);\n",
              "      border-top-color: var(--fill-color);\n",
              "    }\n",
              "    60% {\n",
              "      border-color: transparent;\n",
              "      border-right-color: var(--fill-color);\n",
              "    }\n",
              "    80% {\n",
              "      border-color: transparent;\n",
              "      border-right-color: var(--fill-color);\n",
              "      border-bottom-color: var(--fill-color);\n",
              "    }\n",
              "    90% {\n",
              "      border-color: transparent;\n",
              "      border-bottom-color: var(--fill-color);\n",
              "    }\n",
              "  }\n",
              "</style>\n",
              "\n",
              "  <script>\n",
              "    async function quickchart(key) {\n",
              "      const quickchartButtonEl =\n",
              "        document.querySelector('#' + key + ' button');\n",
              "      quickchartButtonEl.disabled = true;  // To prevent multiple clicks.\n",
              "      quickchartButtonEl.classList.add('colab-df-spinner');\n",
              "      try {\n",
              "        const charts = await google.colab.kernel.invokeFunction(\n",
              "            'suggestCharts', [key], {});\n",
              "      } catch (error) {\n",
              "        console.error('Error during call to suggestCharts:', error);\n",
              "      }\n",
              "      quickchartButtonEl.classList.remove('colab-df-spinner');\n",
              "      quickchartButtonEl.classList.add('colab-df-quickchart-complete');\n",
              "    }\n",
              "    (() => {\n",
              "      let quickchartButtonEl =\n",
              "        document.querySelector('#df-611dadf5-912c-4bc4-a007-35aeca42e307 button');\n",
              "      quickchartButtonEl.style.display =\n",
              "        google.colab.kernel.accessAllowed ? 'block' : 'none';\n",
              "    })();\n",
              "  </script>\n",
              "</div>\n",
              "    </div>\n",
              "  </div>\n"
            ]
          },
          "metadata": {},
          "execution_count": 229
        }
      ]
    },
    {
      "cell_type": "code",
      "source": [
        "df2"
      ],
      "metadata": {
        "colab": {
          "base_uri": "https://localhost:8080/",
          "height": 424
        },
        "id": "KBP_ammCQRgs",
        "outputId": "775640f3-cd1d-4fc5-d733-24fd5fdba7b1"
      },
      "execution_count": 230,
      "outputs": [
        {
          "output_type": "execute_result",
          "data": {
            "text/plain": [
              "    STATISTIC Statistic Label  TLIST(A1)  Year C01885V02316       Month  \\\n",
              "0    TOA11C01        Red line       2018  2018           01     January   \n",
              "1    TOA11C01        Red line       2018  2018           02    February   \n",
              "2    TOA11C01        Red line       2018  2018           03       March   \n",
              "3    TOA11C01        Red line       2018  2018           04       April   \n",
              "4    TOA11C01        Red line       2018  2018           05         May   \n",
              "..        ...             ...        ...   ...          ...         ...   \n",
              "190  TOA11C03  All Luas lines       2022  2022           09   September   \n",
              "191  TOA11C03  All Luas lines       2022  2022           10     October   \n",
              "192  TOA11C03  All Luas lines       2022  2022           11    November   \n",
              "193  TOA11C03  All Luas lines       2022  2022           12    December   \n",
              "194  TOA11C03  All Luas lines       2022  2022            -  All months   \n",
              "\n",
              "       UNIT     VALUE  \n",
              "0    Number   1664495  \n",
              "1    Number   1657562  \n",
              "2    Number   1661098  \n",
              "3    Number   1794424  \n",
              "4    Number   1934553  \n",
              "..      ...       ...  \n",
              "190  Number   3811093  \n",
              "191  Number   4219124  \n",
              "192  Number   4375705  \n",
              "193  Number   4030698  \n",
              "194  Number  38667875  \n",
              "\n",
              "[195 rows x 8 columns]"
            ],
            "text/html": [
              "\n",
              "  <div id=\"df-e7df3d30-a7ee-4cab-a9d7-3e26b49cae2b\" class=\"colab-df-container\">\n",
              "    <div>\n",
              "<style scoped>\n",
              "    .dataframe tbody tr th:only-of-type {\n",
              "        vertical-align: middle;\n",
              "    }\n",
              "\n",
              "    .dataframe tbody tr th {\n",
              "        vertical-align: top;\n",
              "    }\n",
              "\n",
              "    .dataframe thead th {\n",
              "        text-align: right;\n",
              "    }\n",
              "</style>\n",
              "<table border=\"1\" class=\"dataframe\">\n",
              "  <thead>\n",
              "    <tr style=\"text-align: right;\">\n",
              "      <th></th>\n",
              "      <th>STATISTIC</th>\n",
              "      <th>Statistic Label</th>\n",
              "      <th>TLIST(A1)</th>\n",
              "      <th>Year</th>\n",
              "      <th>C01885V02316</th>\n",
              "      <th>Month</th>\n",
              "      <th>UNIT</th>\n",
              "      <th>VALUE</th>\n",
              "    </tr>\n",
              "  </thead>\n",
              "  <tbody>\n",
              "    <tr>\n",
              "      <th>0</th>\n",
              "      <td>TOA11C01</td>\n",
              "      <td>Red line</td>\n",
              "      <td>2018</td>\n",
              "      <td>2018</td>\n",
              "      <td>01</td>\n",
              "      <td>January</td>\n",
              "      <td>Number</td>\n",
              "      <td>1664495</td>\n",
              "    </tr>\n",
              "    <tr>\n",
              "      <th>1</th>\n",
              "      <td>TOA11C01</td>\n",
              "      <td>Red line</td>\n",
              "      <td>2018</td>\n",
              "      <td>2018</td>\n",
              "      <td>02</td>\n",
              "      <td>February</td>\n",
              "      <td>Number</td>\n",
              "      <td>1657562</td>\n",
              "    </tr>\n",
              "    <tr>\n",
              "      <th>2</th>\n",
              "      <td>TOA11C01</td>\n",
              "      <td>Red line</td>\n",
              "      <td>2018</td>\n",
              "      <td>2018</td>\n",
              "      <td>03</td>\n",
              "      <td>March</td>\n",
              "      <td>Number</td>\n",
              "      <td>1661098</td>\n",
              "    </tr>\n",
              "    <tr>\n",
              "      <th>3</th>\n",
              "      <td>TOA11C01</td>\n",
              "      <td>Red line</td>\n",
              "      <td>2018</td>\n",
              "      <td>2018</td>\n",
              "      <td>04</td>\n",
              "      <td>April</td>\n",
              "      <td>Number</td>\n",
              "      <td>1794424</td>\n",
              "    </tr>\n",
              "    <tr>\n",
              "      <th>4</th>\n",
              "      <td>TOA11C01</td>\n",
              "      <td>Red line</td>\n",
              "      <td>2018</td>\n",
              "      <td>2018</td>\n",
              "      <td>05</td>\n",
              "      <td>May</td>\n",
              "      <td>Number</td>\n",
              "      <td>1934553</td>\n",
              "    </tr>\n",
              "    <tr>\n",
              "      <th>...</th>\n",
              "      <td>...</td>\n",
              "      <td>...</td>\n",
              "      <td>...</td>\n",
              "      <td>...</td>\n",
              "      <td>...</td>\n",
              "      <td>...</td>\n",
              "      <td>...</td>\n",
              "      <td>...</td>\n",
              "    </tr>\n",
              "    <tr>\n",
              "      <th>190</th>\n",
              "      <td>TOA11C03</td>\n",
              "      <td>All Luas lines</td>\n",
              "      <td>2022</td>\n",
              "      <td>2022</td>\n",
              "      <td>09</td>\n",
              "      <td>September</td>\n",
              "      <td>Number</td>\n",
              "      <td>3811093</td>\n",
              "    </tr>\n",
              "    <tr>\n",
              "      <th>191</th>\n",
              "      <td>TOA11C03</td>\n",
              "      <td>All Luas lines</td>\n",
              "      <td>2022</td>\n",
              "      <td>2022</td>\n",
              "      <td>10</td>\n",
              "      <td>October</td>\n",
              "      <td>Number</td>\n",
              "      <td>4219124</td>\n",
              "    </tr>\n",
              "    <tr>\n",
              "      <th>192</th>\n",
              "      <td>TOA11C03</td>\n",
              "      <td>All Luas lines</td>\n",
              "      <td>2022</td>\n",
              "      <td>2022</td>\n",
              "      <td>11</td>\n",
              "      <td>November</td>\n",
              "      <td>Number</td>\n",
              "      <td>4375705</td>\n",
              "    </tr>\n",
              "    <tr>\n",
              "      <th>193</th>\n",
              "      <td>TOA11C03</td>\n",
              "      <td>All Luas lines</td>\n",
              "      <td>2022</td>\n",
              "      <td>2022</td>\n",
              "      <td>12</td>\n",
              "      <td>December</td>\n",
              "      <td>Number</td>\n",
              "      <td>4030698</td>\n",
              "    </tr>\n",
              "    <tr>\n",
              "      <th>194</th>\n",
              "      <td>TOA11C03</td>\n",
              "      <td>All Luas lines</td>\n",
              "      <td>2022</td>\n",
              "      <td>2022</td>\n",
              "      <td>-</td>\n",
              "      <td>All months</td>\n",
              "      <td>Number</td>\n",
              "      <td>38667875</td>\n",
              "    </tr>\n",
              "  </tbody>\n",
              "</table>\n",
              "<p>195 rows × 8 columns</p>\n",
              "</div>\n",
              "    <div class=\"colab-df-buttons\">\n",
              "\n",
              "  <div class=\"colab-df-container\">\n",
              "    <button class=\"colab-df-convert\" onclick=\"convertToInteractive('df-e7df3d30-a7ee-4cab-a9d7-3e26b49cae2b')\"\n",
              "            title=\"Convert this dataframe to an interactive table.\"\n",
              "            style=\"display:none;\">\n",
              "\n",
              "  <svg xmlns=\"http://www.w3.org/2000/svg\" height=\"24px\" viewBox=\"0 -960 960 960\">\n",
              "    <path d=\"M120-120v-720h720v720H120Zm60-500h600v-160H180v160Zm220 220h160v-160H400v160Zm0 220h160v-160H400v160ZM180-400h160v-160H180v160Zm440 0h160v-160H620v160ZM180-180h160v-160H180v160Zm440 0h160v-160H620v160Z\"/>\n",
              "  </svg>\n",
              "    </button>\n",
              "\n",
              "  <style>\n",
              "    .colab-df-container {\n",
              "      display:flex;\n",
              "      gap: 12px;\n",
              "    }\n",
              "\n",
              "    .colab-df-convert {\n",
              "      background-color: #E8F0FE;\n",
              "      border: none;\n",
              "      border-radius: 50%;\n",
              "      cursor: pointer;\n",
              "      display: none;\n",
              "      fill: #1967D2;\n",
              "      height: 32px;\n",
              "      padding: 0 0 0 0;\n",
              "      width: 32px;\n",
              "    }\n",
              "\n",
              "    .colab-df-convert:hover {\n",
              "      background-color: #E2EBFA;\n",
              "      box-shadow: 0px 1px 2px rgba(60, 64, 67, 0.3), 0px 1px 3px 1px rgba(60, 64, 67, 0.15);\n",
              "      fill: #174EA6;\n",
              "    }\n",
              "\n",
              "    .colab-df-buttons div {\n",
              "      margin-bottom: 4px;\n",
              "    }\n",
              "\n",
              "    [theme=dark] .colab-df-convert {\n",
              "      background-color: #3B4455;\n",
              "      fill: #D2E3FC;\n",
              "    }\n",
              "\n",
              "    [theme=dark] .colab-df-convert:hover {\n",
              "      background-color: #434B5C;\n",
              "      box-shadow: 0px 1px 3px 1px rgba(0, 0, 0, 0.15);\n",
              "      filter: drop-shadow(0px 1px 2px rgba(0, 0, 0, 0.3));\n",
              "      fill: #FFFFFF;\n",
              "    }\n",
              "  </style>\n",
              "\n",
              "    <script>\n",
              "      const buttonEl =\n",
              "        document.querySelector('#df-e7df3d30-a7ee-4cab-a9d7-3e26b49cae2b button.colab-df-convert');\n",
              "      buttonEl.style.display =\n",
              "        google.colab.kernel.accessAllowed ? 'block' : 'none';\n",
              "\n",
              "      async function convertToInteractive(key) {\n",
              "        const element = document.querySelector('#df-e7df3d30-a7ee-4cab-a9d7-3e26b49cae2b');\n",
              "        const dataTable =\n",
              "          await google.colab.kernel.invokeFunction('convertToInteractive',\n",
              "                                                    [key], {});\n",
              "        if (!dataTable) return;\n",
              "\n",
              "        const docLinkHtml = 'Like what you see? Visit the ' +\n",
              "          '<a target=\"_blank\" href=https://colab.research.google.com/notebooks/data_table.ipynb>data table notebook</a>'\n",
              "          + ' to learn more about interactive tables.';\n",
              "        element.innerHTML = '';\n",
              "        dataTable['output_type'] = 'display_data';\n",
              "        await google.colab.output.renderOutput(dataTable, element);\n",
              "        const docLink = document.createElement('div');\n",
              "        docLink.innerHTML = docLinkHtml;\n",
              "        element.appendChild(docLink);\n",
              "      }\n",
              "    </script>\n",
              "  </div>\n",
              "\n",
              "\n",
              "<div id=\"df-d2f37e83-3a65-49d9-b855-b6bec347f34d\">\n",
              "  <button class=\"colab-df-quickchart\" onclick=\"quickchart('df-d2f37e83-3a65-49d9-b855-b6bec347f34d')\"\n",
              "            title=\"Suggest charts\"\n",
              "            style=\"display:none;\">\n",
              "\n",
              "<svg xmlns=\"http://www.w3.org/2000/svg\" height=\"24px\"viewBox=\"0 0 24 24\"\n",
              "     width=\"24px\">\n",
              "    <g>\n",
              "        <path d=\"M19 3H5c-1.1 0-2 .9-2 2v14c0 1.1.9 2 2 2h14c1.1 0 2-.9 2-2V5c0-1.1-.9-2-2-2zM9 17H7v-7h2v7zm4 0h-2V7h2v10zm4 0h-2v-4h2v4z\"/>\n",
              "    </g>\n",
              "</svg>\n",
              "  </button>\n",
              "\n",
              "<style>\n",
              "  .colab-df-quickchart {\n",
              "      --bg-color: #E8F0FE;\n",
              "      --fill-color: #1967D2;\n",
              "      --hover-bg-color: #E2EBFA;\n",
              "      --hover-fill-color: #174EA6;\n",
              "      --disabled-fill-color: #AAA;\n",
              "      --disabled-bg-color: #DDD;\n",
              "  }\n",
              "\n",
              "  [theme=dark] .colab-df-quickchart {\n",
              "      --bg-color: #3B4455;\n",
              "      --fill-color: #D2E3FC;\n",
              "      --hover-bg-color: #434B5C;\n",
              "      --hover-fill-color: #FFFFFF;\n",
              "      --disabled-bg-color: #3B4455;\n",
              "      --disabled-fill-color: #666;\n",
              "  }\n",
              "\n",
              "  .colab-df-quickchart {\n",
              "    background-color: var(--bg-color);\n",
              "    border: none;\n",
              "    border-radius: 50%;\n",
              "    cursor: pointer;\n",
              "    display: none;\n",
              "    fill: var(--fill-color);\n",
              "    height: 32px;\n",
              "    padding: 0;\n",
              "    width: 32px;\n",
              "  }\n",
              "\n",
              "  .colab-df-quickchart:hover {\n",
              "    background-color: var(--hover-bg-color);\n",
              "    box-shadow: 0 1px 2px rgba(60, 64, 67, 0.3), 0 1px 3px 1px rgba(60, 64, 67, 0.15);\n",
              "    fill: var(--button-hover-fill-color);\n",
              "  }\n",
              "\n",
              "  .colab-df-quickchart-complete:disabled,\n",
              "  .colab-df-quickchart-complete:disabled:hover {\n",
              "    background-color: var(--disabled-bg-color);\n",
              "    fill: var(--disabled-fill-color);\n",
              "    box-shadow: none;\n",
              "  }\n",
              "\n",
              "  .colab-df-spinner {\n",
              "    border: 2px solid var(--fill-color);\n",
              "    border-color: transparent;\n",
              "    border-bottom-color: var(--fill-color);\n",
              "    animation:\n",
              "      spin 1s steps(1) infinite;\n",
              "  }\n",
              "\n",
              "  @keyframes spin {\n",
              "    0% {\n",
              "      border-color: transparent;\n",
              "      border-bottom-color: var(--fill-color);\n",
              "      border-left-color: var(--fill-color);\n",
              "    }\n",
              "    20% {\n",
              "      border-color: transparent;\n",
              "      border-left-color: var(--fill-color);\n",
              "      border-top-color: var(--fill-color);\n",
              "    }\n",
              "    30% {\n",
              "      border-color: transparent;\n",
              "      border-left-color: var(--fill-color);\n",
              "      border-top-color: var(--fill-color);\n",
              "      border-right-color: var(--fill-color);\n",
              "    }\n",
              "    40% {\n",
              "      border-color: transparent;\n",
              "      border-right-color: var(--fill-color);\n",
              "      border-top-color: var(--fill-color);\n",
              "    }\n",
              "    60% {\n",
              "      border-color: transparent;\n",
              "      border-right-color: var(--fill-color);\n",
              "    }\n",
              "    80% {\n",
              "      border-color: transparent;\n",
              "      border-right-color: var(--fill-color);\n",
              "      border-bottom-color: var(--fill-color);\n",
              "    }\n",
              "    90% {\n",
              "      border-color: transparent;\n",
              "      border-bottom-color: var(--fill-color);\n",
              "    }\n",
              "  }\n",
              "</style>\n",
              "\n",
              "  <script>\n",
              "    async function quickchart(key) {\n",
              "      const quickchartButtonEl =\n",
              "        document.querySelector('#' + key + ' button');\n",
              "      quickchartButtonEl.disabled = true;  // To prevent multiple clicks.\n",
              "      quickchartButtonEl.classList.add('colab-df-spinner');\n",
              "      try {\n",
              "        const charts = await google.colab.kernel.invokeFunction(\n",
              "            'suggestCharts', [key], {});\n",
              "      } catch (error) {\n",
              "        console.error('Error during call to suggestCharts:', error);\n",
              "      }\n",
              "      quickchartButtonEl.classList.remove('colab-df-spinner');\n",
              "      quickchartButtonEl.classList.add('colab-df-quickchart-complete');\n",
              "    }\n",
              "    (() => {\n",
              "      let quickchartButtonEl =\n",
              "        document.querySelector('#df-d2f37e83-3a65-49d9-b855-b6bec347f34d button');\n",
              "      quickchartButtonEl.style.display =\n",
              "        google.colab.kernel.accessAllowed ? 'block' : 'none';\n",
              "    })();\n",
              "  </script>\n",
              "</div>\n",
              "    </div>\n",
              "  </div>\n"
            ]
          },
          "metadata": {},
          "execution_count": 230
        }
      ]
    },
    {
      "cell_type": "code",
      "source": [
        "# Creating DataFrames\n",
        "df1 = pd.DataFrame(df)\n",
        "df2 = pd.DataFrame(df2)"
      ],
      "metadata": {
        "id": "upOOweWxa53K"
      },
      "execution_count": 231,
      "outputs": []
    },
    {
      "cell_type": "code",
      "source": [
        "\n",
        "df2 = df2.rename(columns={'TLIST(A1)': 'TLIST(W1)', 'C01885V02316': 'C03132V03784', 'Month': 'Weeks of the year'})\n",
        "\n",
        "# Merging DataFrames based on common columns\n",
        "df = pd.concat([df1, df2], ignore_index=True)\n",
        "\n",
        "print(df)"
      ],
      "metadata": {
        "colab": {
          "base_uri": "https://localhost:8080/"
        },
        "id": "3Ep9zgblWsLX",
        "outputId": "5e42238f-ae76-46b4-db98-62080f39e49d"
      },
      "execution_count": 232,
      "outputs": [
        {
          "output_type": "stream",
          "name": "stdout",
          "text": [
            "    STATISTIC     Statistic Label  TLIST(W1)  Year C03132V03784  \\\n",
            "0    TII01C01  Passenger Journeys       2019  2019            -   \n",
            "1    TII01C01  Passenger Journeys       2019  2019            -   \n",
            "2    TII01C01  Passenger Journeys       2019  2019            -   \n",
            "3    TII01C01  Passenger Journeys       2019  2019            -   \n",
            "4    TII01C01  Passenger Journeys       2019  2019            -   \n",
            "..        ...                 ...        ...   ...          ...   \n",
            "985  TOA11C03      All Luas lines       2022  2022           09   \n",
            "986  TOA11C03      All Luas lines       2022  2022           10   \n",
            "987  TOA11C03      All Luas lines       2022  2022           11   \n",
            "988  TOA11C03      All Luas lines       2022  2022           12   \n",
            "989  TOA11C03      All Luas lines       2022  2022            -   \n",
            "\n",
            "          Luas Line  C01198V01436 Weeks of the year    UNIT       VALUE  \n",
            "0    All Luas lines           1.0           Week 01  Number    549533.0  \n",
            "1    All Luas lines           2.0           Week 02  Number    839022.0  \n",
            "2    All Luas lines           3.0           Week 03  Number    819359.0  \n",
            "3    All Luas lines           4.0           Week 04  Number    860745.0  \n",
            "4    All Luas lines           5.0           Week 05  Number    912795.0  \n",
            "..              ...           ...               ...     ...         ...  \n",
            "985             NaN           NaN         September  Number   3811093.0  \n",
            "986             NaN           NaN           October  Number   4219124.0  \n",
            "987             NaN           NaN          November  Number   4375705.0  \n",
            "988             NaN           NaN          December  Number   4030698.0  \n",
            "989             NaN           NaN        All months  Number  38667875.0  \n",
            "\n",
            "[990 rows x 10 columns]\n"
          ]
        }
      ]
    },
    {
      "cell_type": "code",
      "source": [
        "df2 = pd.read_csv('/content/drive/MyDrive/CA2/Spain.csv')"
      ],
      "metadata": {
        "id": "TihJB1lgyVdV"
      },
      "execution_count": 233,
      "outputs": []
    },
    {
      "cell_type": "code",
      "source": [
        "df1 = pd.DataFrame(df2)\n",
        "\n",
        "# Melt the DataFrame\n",
        "df1_melted = pd.melt(df1, id_vars=['Código', 'Etiqueta', 'Denominación'],\n",
        "                     var_name='Year', value_name='VALUE')\n",
        "\n",
        "# Extract the year from the 'Year' column\n",
        "df1_melted['Year'] = df1_melted['Year'].str.extract('(\\d+)', expand=False)\n",
        "\n",
        "# Display the melted DataFrame\n",
        "print(\"Melted DataFrame:\")\n",
        "print(df1_melted)\n",
        "\n",
        "print(df1)"
      ],
      "metadata": {
        "colab": {
          "base_uri": "https://localhost:8080/"
        },
        "id": "RjUk2X90yVgY",
        "outputId": "cca97629-a27f-43d8-c915-db9a1ee712f4"
      },
      "execution_count": 234,
      "outputs": [
        {
          "output_type": "stream",
          "name": "stdout",
          "text": [
            "Melted DataFrame:\n",
            "      Código Etiqueta                                      Denominación  Year  \\\n",
            "0          1        1                 PLAZA DE CRISTO REY - PROSPERIDAD  2014   \n",
            "1          2        2  PLAZA DE MANUEL BECERRA - AVENIDA REINA VICTORIA  2014   \n",
            "2          3        3             PUERTA DE TOLEDO - PLAZA DE SAN AMARO  2014   \n",
            "3          4        4        PLAZA DE CIUDAD LINEAL - PUERTA DE ARGANDA  2014   \n",
            "4          5        5    PUERTA DEL SOL/SEVILLA - ESTACION DE CHAMARTIN  2014   \n",
            "...      ...      ...                                               ...   ...   \n",
            "2416     788       SE                          ATOCHA RENFE - RECOLETOS  2022   \n",
            "2417     796       SE                           METROPOLITANO - MONCLOA  2022   \n",
            "2418     797       SE                    ALAMEDA DE OSUNA - TORRE ARIAS  2022   \n",
            "2419     798       SE      METROPOLITANO-CIUDAD UNIVERSITARIA - MONCLOA  2022   \n",
            "2420     799       SE                       MAR DE CRISTAL - VALDEBEBAS  2022   \n",
            "\n",
            "        VALUE  \n",
            "0     2503450  \n",
            "1     3764122  \n",
            "2     3065657  \n",
            "3     2457707  \n",
            "4     1974948  \n",
            "...       ...  \n",
            "2416        0  \n",
            "2417        0  \n",
            "2418        0  \n",
            "2419        0  \n",
            "2420        0  \n",
            "\n",
            "[2421 rows x 5 columns]\n",
            "     Código Etiqueta                                      Denominación  \\\n",
            "0         1        1                 PLAZA DE CRISTO REY - PROSPERIDAD   \n",
            "1         2        2  PLAZA DE MANUEL BECERRA - AVENIDA REINA VICTORIA   \n",
            "2         3        3             PUERTA DE TOLEDO - PLAZA DE SAN AMARO   \n",
            "3         4        4        PLAZA DE CIUDAD LINEAL - PUERTA DE ARGANDA   \n",
            "4         5        5    PUERTA DEL SOL/SEVILLA - ESTACION DE CHAMARTIN   \n",
            "..      ...      ...                                               ...   \n",
            "264     788       SE                          ATOCHA RENFE - RECOLETOS   \n",
            "265     796       SE                           METROPOLITANO - MONCLOA   \n",
            "266     797       SE                    ALAMEDA DE OSUNA - TORRE ARIAS   \n",
            "267     798       SE      METROPOLITANO-CIUDAD UNIVERSITARIA - MONCLOA   \n",
            "268     799       SE                       MAR DE CRISTAL - VALDEBEBAS   \n",
            "\n",
            "        2014     2015     2016     2017     2018     2019     2020     2021  \\\n",
            "0    2503450  2524650  2591273  2505594  2122331  2322849  1155445  1350331   \n",
            "1    3764122  3776352  3961191  3757125  3243683  3761721  1751521  2188010   \n",
            "2    3065657  3020582  3426712  3044709  2711451  2498808  1366097  1668801   \n",
            "3    2457707  2419891  2499953  2485655  2509467  2559261  1404590  1727608   \n",
            "4    1974948  1964634  2069648  1924061  1798507  1772593   890114  1142059   \n",
            "..       ...      ...      ...      ...      ...      ...      ...      ...   \n",
            "264        0        0   200494        0        0        0        0        0   \n",
            "265   515186        0        0        0        0        0        0        0   \n",
            "266   106541        0        0        0        0        0        0        0   \n",
            "267    73280        0        0        0        0        0        0        0   \n",
            "268    92731   337471        0        0        0        0        0        0   \n",
            "\n",
            "        2022  \n",
            "0     659666  \n",
            "1    1131774  \n",
            "2     783687  \n",
            "3     874014  \n",
            "4     618605  \n",
            "..       ...  \n",
            "264        0  \n",
            "265        0  \n",
            "266        0  \n",
            "267        0  \n",
            "268        0  \n",
            "\n",
            "[269 rows x 12 columns]\n"
          ]
        }
      ]
    },
    {
      "cell_type": "code",
      "source": [
        "df2 = (df1_melted)\n",
        "df2"
      ],
      "metadata": {
        "colab": {
          "base_uri": "https://localhost:8080/",
          "height": 424
        },
        "id": "zERVQ17nyVjF",
        "outputId": "7dfc8d4e-36f8-439d-fe55-e16b98b59bb6"
      },
      "execution_count": 235,
      "outputs": [
        {
          "output_type": "execute_result",
          "data": {
            "text/plain": [
              "      Código Etiqueta                                      Denominación  Year  \\\n",
              "0          1        1                 PLAZA DE CRISTO REY - PROSPERIDAD  2014   \n",
              "1          2        2  PLAZA DE MANUEL BECERRA - AVENIDA REINA VICTORIA  2014   \n",
              "2          3        3             PUERTA DE TOLEDO - PLAZA DE SAN AMARO  2014   \n",
              "3          4        4        PLAZA DE CIUDAD LINEAL - PUERTA DE ARGANDA  2014   \n",
              "4          5        5    PUERTA DEL SOL/SEVILLA - ESTACION DE CHAMARTIN  2014   \n",
              "...      ...      ...                                               ...   ...   \n",
              "2416     788       SE                          ATOCHA RENFE - RECOLETOS  2022   \n",
              "2417     796       SE                           METROPOLITANO - MONCLOA  2022   \n",
              "2418     797       SE                    ALAMEDA DE OSUNA - TORRE ARIAS  2022   \n",
              "2419     798       SE      METROPOLITANO-CIUDAD UNIVERSITARIA - MONCLOA  2022   \n",
              "2420     799       SE                       MAR DE CRISTAL - VALDEBEBAS  2022   \n",
              "\n",
              "        VALUE  \n",
              "0     2503450  \n",
              "1     3764122  \n",
              "2     3065657  \n",
              "3     2457707  \n",
              "4     1974948  \n",
              "...       ...  \n",
              "2416        0  \n",
              "2417        0  \n",
              "2418        0  \n",
              "2419        0  \n",
              "2420        0  \n",
              "\n",
              "[2421 rows x 5 columns]"
            ],
            "text/html": [
              "\n",
              "  <div id=\"df-50b35fa6-87a2-414a-8be0-3ac86342f535\" class=\"colab-df-container\">\n",
              "    <div>\n",
              "<style scoped>\n",
              "    .dataframe tbody tr th:only-of-type {\n",
              "        vertical-align: middle;\n",
              "    }\n",
              "\n",
              "    .dataframe tbody tr th {\n",
              "        vertical-align: top;\n",
              "    }\n",
              "\n",
              "    .dataframe thead th {\n",
              "        text-align: right;\n",
              "    }\n",
              "</style>\n",
              "<table border=\"1\" class=\"dataframe\">\n",
              "  <thead>\n",
              "    <tr style=\"text-align: right;\">\n",
              "      <th></th>\n",
              "      <th>Código</th>\n",
              "      <th>Etiqueta</th>\n",
              "      <th>Denominación</th>\n",
              "      <th>Year</th>\n",
              "      <th>VALUE</th>\n",
              "    </tr>\n",
              "  </thead>\n",
              "  <tbody>\n",
              "    <tr>\n",
              "      <th>0</th>\n",
              "      <td>1</td>\n",
              "      <td>1</td>\n",
              "      <td>PLAZA DE CRISTO REY - PROSPERIDAD</td>\n",
              "      <td>2014</td>\n",
              "      <td>2503450</td>\n",
              "    </tr>\n",
              "    <tr>\n",
              "      <th>1</th>\n",
              "      <td>2</td>\n",
              "      <td>2</td>\n",
              "      <td>PLAZA DE MANUEL BECERRA - AVENIDA REINA VICTORIA</td>\n",
              "      <td>2014</td>\n",
              "      <td>3764122</td>\n",
              "    </tr>\n",
              "    <tr>\n",
              "      <th>2</th>\n",
              "      <td>3</td>\n",
              "      <td>3</td>\n",
              "      <td>PUERTA DE TOLEDO - PLAZA DE SAN AMARO</td>\n",
              "      <td>2014</td>\n",
              "      <td>3065657</td>\n",
              "    </tr>\n",
              "    <tr>\n",
              "      <th>3</th>\n",
              "      <td>4</td>\n",
              "      <td>4</td>\n",
              "      <td>PLAZA DE CIUDAD LINEAL - PUERTA DE ARGANDA</td>\n",
              "      <td>2014</td>\n",
              "      <td>2457707</td>\n",
              "    </tr>\n",
              "    <tr>\n",
              "      <th>4</th>\n",
              "      <td>5</td>\n",
              "      <td>5</td>\n",
              "      <td>PUERTA DEL SOL/SEVILLA - ESTACION DE CHAMARTIN</td>\n",
              "      <td>2014</td>\n",
              "      <td>1974948</td>\n",
              "    </tr>\n",
              "    <tr>\n",
              "      <th>...</th>\n",
              "      <td>...</td>\n",
              "      <td>...</td>\n",
              "      <td>...</td>\n",
              "      <td>...</td>\n",
              "      <td>...</td>\n",
              "    </tr>\n",
              "    <tr>\n",
              "      <th>2416</th>\n",
              "      <td>788</td>\n",
              "      <td>SE</td>\n",
              "      <td>ATOCHA RENFE - RECOLETOS</td>\n",
              "      <td>2022</td>\n",
              "      <td>0</td>\n",
              "    </tr>\n",
              "    <tr>\n",
              "      <th>2417</th>\n",
              "      <td>796</td>\n",
              "      <td>SE</td>\n",
              "      <td>METROPOLITANO - MONCLOA</td>\n",
              "      <td>2022</td>\n",
              "      <td>0</td>\n",
              "    </tr>\n",
              "    <tr>\n",
              "      <th>2418</th>\n",
              "      <td>797</td>\n",
              "      <td>SE</td>\n",
              "      <td>ALAMEDA DE OSUNA - TORRE ARIAS</td>\n",
              "      <td>2022</td>\n",
              "      <td>0</td>\n",
              "    </tr>\n",
              "    <tr>\n",
              "      <th>2419</th>\n",
              "      <td>798</td>\n",
              "      <td>SE</td>\n",
              "      <td>METROPOLITANO-CIUDAD UNIVERSITARIA - MONCLOA</td>\n",
              "      <td>2022</td>\n",
              "      <td>0</td>\n",
              "    </tr>\n",
              "    <tr>\n",
              "      <th>2420</th>\n",
              "      <td>799</td>\n",
              "      <td>SE</td>\n",
              "      <td>MAR DE CRISTAL - VALDEBEBAS</td>\n",
              "      <td>2022</td>\n",
              "      <td>0</td>\n",
              "    </tr>\n",
              "  </tbody>\n",
              "</table>\n",
              "<p>2421 rows × 5 columns</p>\n",
              "</div>\n",
              "    <div class=\"colab-df-buttons\">\n",
              "\n",
              "  <div class=\"colab-df-container\">\n",
              "    <button class=\"colab-df-convert\" onclick=\"convertToInteractive('df-50b35fa6-87a2-414a-8be0-3ac86342f535')\"\n",
              "            title=\"Convert this dataframe to an interactive table.\"\n",
              "            style=\"display:none;\">\n",
              "\n",
              "  <svg xmlns=\"http://www.w3.org/2000/svg\" height=\"24px\" viewBox=\"0 -960 960 960\">\n",
              "    <path d=\"M120-120v-720h720v720H120Zm60-500h600v-160H180v160Zm220 220h160v-160H400v160Zm0 220h160v-160H400v160ZM180-400h160v-160H180v160Zm440 0h160v-160H620v160ZM180-180h160v-160H180v160Zm440 0h160v-160H620v160Z\"/>\n",
              "  </svg>\n",
              "    </button>\n",
              "\n",
              "  <style>\n",
              "    .colab-df-container {\n",
              "      display:flex;\n",
              "      gap: 12px;\n",
              "    }\n",
              "\n",
              "    .colab-df-convert {\n",
              "      background-color: #E8F0FE;\n",
              "      border: none;\n",
              "      border-radius: 50%;\n",
              "      cursor: pointer;\n",
              "      display: none;\n",
              "      fill: #1967D2;\n",
              "      height: 32px;\n",
              "      padding: 0 0 0 0;\n",
              "      width: 32px;\n",
              "    }\n",
              "\n",
              "    .colab-df-convert:hover {\n",
              "      background-color: #E2EBFA;\n",
              "      box-shadow: 0px 1px 2px rgba(60, 64, 67, 0.3), 0px 1px 3px 1px rgba(60, 64, 67, 0.15);\n",
              "      fill: #174EA6;\n",
              "    }\n",
              "\n",
              "    .colab-df-buttons div {\n",
              "      margin-bottom: 4px;\n",
              "    }\n",
              "\n",
              "    [theme=dark] .colab-df-convert {\n",
              "      background-color: #3B4455;\n",
              "      fill: #D2E3FC;\n",
              "    }\n",
              "\n",
              "    [theme=dark] .colab-df-convert:hover {\n",
              "      background-color: #434B5C;\n",
              "      box-shadow: 0px 1px 3px 1px rgba(0, 0, 0, 0.15);\n",
              "      filter: drop-shadow(0px 1px 2px rgba(0, 0, 0, 0.3));\n",
              "      fill: #FFFFFF;\n",
              "    }\n",
              "  </style>\n",
              "\n",
              "    <script>\n",
              "      const buttonEl =\n",
              "        document.querySelector('#df-50b35fa6-87a2-414a-8be0-3ac86342f535 button.colab-df-convert');\n",
              "      buttonEl.style.display =\n",
              "        google.colab.kernel.accessAllowed ? 'block' : 'none';\n",
              "\n",
              "      async function convertToInteractive(key) {\n",
              "        const element = document.querySelector('#df-50b35fa6-87a2-414a-8be0-3ac86342f535');\n",
              "        const dataTable =\n",
              "          await google.colab.kernel.invokeFunction('convertToInteractive',\n",
              "                                                    [key], {});\n",
              "        if (!dataTable) return;\n",
              "\n",
              "        const docLinkHtml = 'Like what you see? Visit the ' +\n",
              "          '<a target=\"_blank\" href=https://colab.research.google.com/notebooks/data_table.ipynb>data table notebook</a>'\n",
              "          + ' to learn more about interactive tables.';\n",
              "        element.innerHTML = '';\n",
              "        dataTable['output_type'] = 'display_data';\n",
              "        await google.colab.output.renderOutput(dataTable, element);\n",
              "        const docLink = document.createElement('div');\n",
              "        docLink.innerHTML = docLinkHtml;\n",
              "        element.appendChild(docLink);\n",
              "      }\n",
              "    </script>\n",
              "  </div>\n",
              "\n",
              "\n",
              "<div id=\"df-b0f05d41-0181-4f75-8305-1a1a74c03f1d\">\n",
              "  <button class=\"colab-df-quickchart\" onclick=\"quickchart('df-b0f05d41-0181-4f75-8305-1a1a74c03f1d')\"\n",
              "            title=\"Suggest charts\"\n",
              "            style=\"display:none;\">\n",
              "\n",
              "<svg xmlns=\"http://www.w3.org/2000/svg\" height=\"24px\"viewBox=\"0 0 24 24\"\n",
              "     width=\"24px\">\n",
              "    <g>\n",
              "        <path d=\"M19 3H5c-1.1 0-2 .9-2 2v14c0 1.1.9 2 2 2h14c1.1 0 2-.9 2-2V5c0-1.1-.9-2-2-2zM9 17H7v-7h2v7zm4 0h-2V7h2v10zm4 0h-2v-4h2v4z\"/>\n",
              "    </g>\n",
              "</svg>\n",
              "  </button>\n",
              "\n",
              "<style>\n",
              "  .colab-df-quickchart {\n",
              "      --bg-color: #E8F0FE;\n",
              "      --fill-color: #1967D2;\n",
              "      --hover-bg-color: #E2EBFA;\n",
              "      --hover-fill-color: #174EA6;\n",
              "      --disabled-fill-color: #AAA;\n",
              "      --disabled-bg-color: #DDD;\n",
              "  }\n",
              "\n",
              "  [theme=dark] .colab-df-quickchart {\n",
              "      --bg-color: #3B4455;\n",
              "      --fill-color: #D2E3FC;\n",
              "      --hover-bg-color: #434B5C;\n",
              "      --hover-fill-color: #FFFFFF;\n",
              "      --disabled-bg-color: #3B4455;\n",
              "      --disabled-fill-color: #666;\n",
              "  }\n",
              "\n",
              "  .colab-df-quickchart {\n",
              "    background-color: var(--bg-color);\n",
              "    border: none;\n",
              "    border-radius: 50%;\n",
              "    cursor: pointer;\n",
              "    display: none;\n",
              "    fill: var(--fill-color);\n",
              "    height: 32px;\n",
              "    padding: 0;\n",
              "    width: 32px;\n",
              "  }\n",
              "\n",
              "  .colab-df-quickchart:hover {\n",
              "    background-color: var(--hover-bg-color);\n",
              "    box-shadow: 0 1px 2px rgba(60, 64, 67, 0.3), 0 1px 3px 1px rgba(60, 64, 67, 0.15);\n",
              "    fill: var(--button-hover-fill-color);\n",
              "  }\n",
              "\n",
              "  .colab-df-quickchart-complete:disabled,\n",
              "  .colab-df-quickchart-complete:disabled:hover {\n",
              "    background-color: var(--disabled-bg-color);\n",
              "    fill: var(--disabled-fill-color);\n",
              "    box-shadow: none;\n",
              "  }\n",
              "\n",
              "  .colab-df-spinner {\n",
              "    border: 2px solid var(--fill-color);\n",
              "    border-color: transparent;\n",
              "    border-bottom-color: var(--fill-color);\n",
              "    animation:\n",
              "      spin 1s steps(1) infinite;\n",
              "  }\n",
              "\n",
              "  @keyframes spin {\n",
              "    0% {\n",
              "      border-color: transparent;\n",
              "      border-bottom-color: var(--fill-color);\n",
              "      border-left-color: var(--fill-color);\n",
              "    }\n",
              "    20% {\n",
              "      border-color: transparent;\n",
              "      border-left-color: var(--fill-color);\n",
              "      border-top-color: var(--fill-color);\n",
              "    }\n",
              "    30% {\n",
              "      border-color: transparent;\n",
              "      border-left-color: var(--fill-color);\n",
              "      border-top-color: var(--fill-color);\n",
              "      border-right-color: var(--fill-color);\n",
              "    }\n",
              "    40% {\n",
              "      border-color: transparent;\n",
              "      border-right-color: var(--fill-color);\n",
              "      border-top-color: var(--fill-color);\n",
              "    }\n",
              "    60% {\n",
              "      border-color: transparent;\n",
              "      border-right-color: var(--fill-color);\n",
              "    }\n",
              "    80% {\n",
              "      border-color: transparent;\n",
              "      border-right-color: var(--fill-color);\n",
              "      border-bottom-color: var(--fill-color);\n",
              "    }\n",
              "    90% {\n",
              "      border-color: transparent;\n",
              "      border-bottom-color: var(--fill-color);\n",
              "    }\n",
              "  }\n",
              "</style>\n",
              "\n",
              "  <script>\n",
              "    async function quickchart(key) {\n",
              "      const quickchartButtonEl =\n",
              "        document.querySelector('#' + key + ' button');\n",
              "      quickchartButtonEl.disabled = true;  // To prevent multiple clicks.\n",
              "      quickchartButtonEl.classList.add('colab-df-spinner');\n",
              "      try {\n",
              "        const charts = await google.colab.kernel.invokeFunction(\n",
              "            'suggestCharts', [key], {});\n",
              "      } catch (error) {\n",
              "        console.error('Error during call to suggestCharts:', error);\n",
              "      }\n",
              "      quickchartButtonEl.classList.remove('colab-df-spinner');\n",
              "      quickchartButtonEl.classList.add('colab-df-quickchart-complete');\n",
              "    }\n",
              "    (() => {\n",
              "      let quickchartButtonEl =\n",
              "        document.querySelector('#df-b0f05d41-0181-4f75-8305-1a1a74c03f1d button');\n",
              "      quickchartButtonEl.style.display =\n",
              "        google.colab.kernel.accessAllowed ? 'block' : 'none';\n",
              "    })();\n",
              "  </script>\n",
              "</div>\n",
              "    </div>\n",
              "  </div>\n"
            ]
          },
          "metadata": {},
          "execution_count": 235
        }
      ]
    },
    {
      "cell_type": "code",
      "source": [
        "pip install dash"
      ],
      "metadata": {
        "colab": {
          "base_uri": "https://localhost:8080/"
        },
        "id": "iI7qJUfSy359",
        "outputId": "b6ebb6f6-069f-4f16-c3da-45f694ad1e7a"
      },
      "execution_count": 236,
      "outputs": [
        {
          "output_type": "stream",
          "name": "stdout",
          "text": [
            "Requirement already satisfied: dash in /usr/local/lib/python3.10/dist-packages (2.14.2)\n",
            "Requirement already satisfied: Flask<3.1,>=1.0.4 in /usr/local/lib/python3.10/dist-packages (from dash) (2.2.5)\n",
            "Requirement already satisfied: Werkzeug<3.1 in /usr/local/lib/python3.10/dist-packages (from dash) (3.0.1)\n",
            "Requirement already satisfied: plotly>=5.0.0 in /usr/local/lib/python3.10/dist-packages (from dash) (5.15.0)\n",
            "Requirement already satisfied: dash-html-components==2.0.0 in /usr/local/lib/python3.10/dist-packages (from dash) (2.0.0)\n",
            "Requirement already satisfied: dash-core-components==2.0.0 in /usr/local/lib/python3.10/dist-packages (from dash) (2.0.0)\n",
            "Requirement already satisfied: dash-table==5.0.0 in /usr/local/lib/python3.10/dist-packages (from dash) (5.0.0)\n",
            "Requirement already satisfied: typing-extensions>=4.1.1 in /usr/local/lib/python3.10/dist-packages (from dash) (4.5.0)\n",
            "Requirement already satisfied: requests in /usr/local/lib/python3.10/dist-packages (from dash) (2.31.0)\n",
            "Requirement already satisfied: retrying in /usr/local/lib/python3.10/dist-packages (from dash) (1.3.4)\n",
            "Requirement already satisfied: ansi2html in /usr/local/lib/python3.10/dist-packages (from dash) (1.9.1)\n",
            "Requirement already satisfied: nest-asyncio in /usr/local/lib/python3.10/dist-packages (from dash) (1.5.8)\n",
            "Requirement already satisfied: setuptools in /usr/local/lib/python3.10/dist-packages (from dash) (67.7.2)\n",
            "Requirement already satisfied: importlib-metadata in /usr/local/lib/python3.10/dist-packages (from dash) (7.0.0)\n",
            "Requirement already satisfied: Jinja2>=3.0 in /usr/local/lib/python3.10/dist-packages (from Flask<3.1,>=1.0.4->dash) (3.1.2)\n",
            "Requirement already satisfied: itsdangerous>=2.0 in /usr/local/lib/python3.10/dist-packages (from Flask<3.1,>=1.0.4->dash) (2.1.2)\n",
            "Requirement already satisfied: click>=8.0 in /usr/local/lib/python3.10/dist-packages (from Flask<3.1,>=1.0.4->dash) (8.1.7)\n",
            "Requirement already satisfied: tenacity>=6.2.0 in /usr/local/lib/python3.10/dist-packages (from plotly>=5.0.0->dash) (8.2.3)\n",
            "Requirement already satisfied: packaging in /usr/local/lib/python3.10/dist-packages (from plotly>=5.0.0->dash) (23.2)\n",
            "Requirement already satisfied: MarkupSafe>=2.1.1 in /usr/local/lib/python3.10/dist-packages (from Werkzeug<3.1->dash) (2.1.3)\n",
            "Requirement already satisfied: zipp>=0.5 in /usr/local/lib/python3.10/dist-packages (from importlib-metadata->dash) (3.17.0)\n",
            "Requirement already satisfied: charset-normalizer<4,>=2 in /usr/local/lib/python3.10/dist-packages (from requests->dash) (3.3.2)\n",
            "Requirement already satisfied: idna<4,>=2.5 in /usr/local/lib/python3.10/dist-packages (from requests->dash) (3.6)\n",
            "Requirement already satisfied: urllib3<3,>=1.21.1 in /usr/local/lib/python3.10/dist-packages (from requests->dash) (2.0.7)\n",
            "Requirement already satisfied: certifi>=2017.4.17 in /usr/local/lib/python3.10/dist-packages (from requests->dash) (2023.11.17)\n",
            "Requirement already satisfied: six>=1.7.0 in /usr/local/lib/python3.10/dist-packages (from retrying->dash) (1.16.0)\n"
          ]
        }
      ]
    },
    {
      "cell_type": "code",
      "source": [
        "import dash\n",
        "from dash import dcc, html"
      ],
      "metadata": {
        "id": "sM-ceqCJyyT_"
      },
      "execution_count": 237,
      "outputs": []
    },
    {
      "cell_type": "code",
      "source": [
        "print(df2.columns)"
      ],
      "metadata": {
        "colab": {
          "base_uri": "https://localhost:8080/"
        },
        "id": "FxAKBXAv0_bd",
        "outputId": "88dab259-ed41-43ff-a551-d71514f2b06a"
      },
      "execution_count": 238,
      "outputs": [
        {
          "output_type": "stream",
          "name": "stdout",
          "text": [
            "Index(['Código', 'Etiqueta', 'Denominación', 'Year', 'VALUE'], dtype='object')\n"
          ]
        }
      ]
    },
    {
      "cell_type": "code",
      "source": [
        "print(df.columns)"
      ],
      "metadata": {
        "colab": {
          "base_uri": "https://localhost:8080/"
        },
        "id": "qSmHGs6l1uA7",
        "outputId": "cf01d3f3-28d1-432e-8cb3-5ac207932f4c"
      },
      "execution_count": 239,
      "outputs": [
        {
          "output_type": "stream",
          "name": "stdout",
          "text": [
            "Index(['STATISTIC', 'Statistic Label', 'TLIST(W1)', 'Year', 'C03132V03784',\n",
            "       'Luas Line', 'C01198V01436', 'Weeks of the year', 'UNIT', 'VALUE'],\n",
            "      dtype='object')\n"
          ]
        }
      ]
    },
    {
      "cell_type": "code",
      "source": [
        "df1 = pd.DataFrame(df2)\n",
        "df2 = pd.DataFrame(df)\n",
        "\n",
        "# Initialize Dash app\n",
        "app = dash.Dash(__name__)\n",
        "\n",
        "# Layout of the dashboard\n",
        "app.layout = html.Div([\n",
        "    html.H1(\"Comparison Dashboard\"),\n",
        "    html.Div([\n",
        "        dcc.Graph(\n",
        "            id='bar-chart',\n",
        "            figure={\n",
        "                'data': [\n",
        "                    {'x': df1['Year'], 'y': df1['VALUE'], 'type': 'bar', 'name': 'Madrid'},\n",
        "                    {'x': df2['Year'], 'y': df2['VALUE'], 'type': 'bar', 'name': 'Dublin'}\n",
        "                ],\n",
        "                'layout': {\n",
        "                    'title': 'Comparison of Values by Dublin and Madrid'\n",
        "                }\n",
        "            }\n",
        "        )\n",
        "    ])\n",
        "])\n",
        "\n",
        "# Run the app\n",
        "if __name__ == '__main__':\n",
        "    app.run_server(debug=True)"
      ],
      "metadata": {
        "colab": {
          "base_uri": "https://localhost:8080/",
          "height": 672
        },
        "id": "rzfSsa_OyVmN",
        "outputId": "4edad53f-f9ad-481c-dfdf-4c11f0f28a86"
      },
      "execution_count": 240,
      "outputs": [
        {
          "output_type": "display_data",
          "data": {
            "text/plain": [
              "<IPython.core.display.Javascript object>"
            ],
            "application/javascript": [
              "(async (port, path, width, height, cache, element) => {\n",
              "    if (!google.colab.kernel.accessAllowed && !cache) {\n",
              "      return;\n",
              "    }\n",
              "    element.appendChild(document.createTextNode(''));\n",
              "    const url = await google.colab.kernel.proxyPort(port, {cache});\n",
              "    const iframe = document.createElement('iframe');\n",
              "    iframe.src = new URL(path, url).toString();\n",
              "    iframe.height = height;\n",
              "    iframe.width = width;\n",
              "    iframe.style.border = 0;\n",
              "    iframe.allow = [\n",
              "        'accelerometer',\n",
              "        'autoplay',\n",
              "        'camera',\n",
              "        'clipboard-read',\n",
              "        'clipboard-write',\n",
              "        'gyroscope',\n",
              "        'magnetometer',\n",
              "        'microphone',\n",
              "        'serial',\n",
              "        'usb',\n",
              "        'xr-spatial-tracking',\n",
              "    ].join('; ');\n",
              "    element.appendChild(iframe);\n",
              "  })(8050, \"/\", \"100%\", 650, false, window.element)"
            ]
          },
          "metadata": {}
        }
      ]
    },
    {
      "cell_type": "code",
      "source": [
        "# Calculate the percentage of missing values in each column\n",
        "missing_percentage = (df.isnull().sum() / len(df)) * 100\n",
        "\n",
        "print(\"Percentage of missing values in each column:\")\n",
        "print(missing_percentage)\n"
      ],
      "metadata": {
        "colab": {
          "base_uri": "https://localhost:8080/"
        },
        "id": "TqrPTj0nIut3",
        "outputId": "ee1c9d98-8d00-4735-f6d7-057e8102a578"
      },
      "execution_count": 241,
      "outputs": [
        {
          "output_type": "stream",
          "name": "stdout",
          "text": [
            "Percentage of missing values in each column:\n",
            "STATISTIC             0.000000\n",
            "Statistic Label       0.000000\n",
            "TLIST(W1)             0.000000\n",
            "Year                  0.000000\n",
            "C03132V03784          0.000000\n",
            "Luas Line            19.696970\n",
            "C01198V01436         19.696970\n",
            "Weeks of the year     0.000000\n",
            "UNIT                  0.000000\n",
            "VALUE                 5.151515\n",
            "dtype: float64\n"
          ]
        }
      ]
    },
    {
      "cell_type": "code",
      "source": [
        "df.info()"
      ],
      "metadata": {
        "colab": {
          "base_uri": "https://localhost:8080/"
        },
        "id": "4GETXBR6Jhbs",
        "outputId": "2e9c1328-931a-40c9-8dbc-afd449bb2ab0"
      },
      "execution_count": 242,
      "outputs": [
        {
          "output_type": "stream",
          "name": "stdout",
          "text": [
            "<class 'pandas.core.frame.DataFrame'>\n",
            "RangeIndex: 990 entries, 0 to 989\n",
            "Data columns (total 10 columns):\n",
            " #   Column             Non-Null Count  Dtype  \n",
            "---  ------             --------------  -----  \n",
            " 0   STATISTIC          990 non-null    object \n",
            " 1   Statistic Label    990 non-null    object \n",
            " 2   TLIST(W1)          990 non-null    int64  \n",
            " 3   Year               990 non-null    int64  \n",
            " 4   C03132V03784       990 non-null    object \n",
            " 5   Luas Line          795 non-null    object \n",
            " 6   C01198V01436       795 non-null    float64\n",
            " 7   Weeks of the year  990 non-null    object \n",
            " 8   UNIT               990 non-null    object \n",
            " 9   VALUE              939 non-null    float64\n",
            "dtypes: float64(2), int64(2), object(6)\n",
            "memory usage: 77.5+ KB\n"
          ]
        }
      ]
    },
    {
      "cell_type": "code",
      "source": [
        "# Remove rows with any missing values\n",
        "df.dropna(inplace=True)"
      ],
      "metadata": {
        "id": "xnUuyiiVJY1F"
      },
      "execution_count": 243,
      "outputs": []
    },
    {
      "cell_type": "code",
      "source": [
        "df.info()"
      ],
      "metadata": {
        "colab": {
          "base_uri": "https://localhost:8080/"
        },
        "id": "WSgJXQLxF1m-",
        "outputId": "9a217616-30b9-4464-c283-ce1a3a791e16"
      },
      "execution_count": 244,
      "outputs": [
        {
          "output_type": "stream",
          "name": "stdout",
          "text": [
            "<class 'pandas.core.frame.DataFrame'>\n",
            "Int64Index: 744 entries, 0 to 780\n",
            "Data columns (total 10 columns):\n",
            " #   Column             Non-Null Count  Dtype  \n",
            "---  ------             --------------  -----  \n",
            " 0   STATISTIC          744 non-null    object \n",
            " 1   Statistic Label    744 non-null    object \n",
            " 2   TLIST(W1)          744 non-null    int64  \n",
            " 3   Year               744 non-null    int64  \n",
            " 4   C03132V03784       744 non-null    object \n",
            " 5   Luas Line          744 non-null    object \n",
            " 6   C01198V01436       744 non-null    float64\n",
            " 7   Weeks of the year  744 non-null    object \n",
            " 8   UNIT               744 non-null    object \n",
            " 9   VALUE              744 non-null    float64\n",
            "dtypes: float64(2), int64(2), object(6)\n",
            "memory usage: 63.9+ KB\n"
          ]
        }
      ]
    },
    {
      "cell_type": "code",
      "source": [
        "duplicate_rows_df = df[df.duplicated()]\n",
        "print(\"number of duplicate rows: \", duplicate_rows_df.shape)"
      ],
      "metadata": {
        "colab": {
          "base_uri": "https://localhost:8080/"
        },
        "id": "jtPyxBCXHXGB",
        "outputId": "8fe3b427-21c6-4560-afb9-c3698896f069"
      },
      "execution_count": 245,
      "outputs": [
        {
          "output_type": "stream",
          "name": "stdout",
          "text": [
            "number of duplicate rows:  (0, 10)\n"
          ]
        }
      ]
    },
    {
      "cell_type": "code",
      "source": [
        "# Remove rows with any missing values\n",
        "df.dropna(inplace=True)"
      ],
      "metadata": {
        "id": "5FAzUztzHa0Q"
      },
      "execution_count": 246,
      "outputs": []
    },
    {
      "cell_type": "code",
      "source": [
        "# Convert 'Weeks of the year' column to extract numerical week information\n",
        "df['Numerical_Week'] = df['Weeks of the year'].str.extract('(\\d+)').astype(int)"
      ],
      "metadata": {
        "id": "2bNsYBZMMiB8"
      },
      "execution_count": 247,
      "outputs": []
    },
    {
      "cell_type": "code",
      "source": [
        "columns_to_drop = ['STATISTIC','Statistic Label','TLIST(W1)','C03132V03784', 'C01198V01436','UNIT','Weeks of the year']"
      ],
      "metadata": {
        "id": "IJ1OTKzfHa3I"
      },
      "execution_count": 248,
      "outputs": []
    },
    {
      "cell_type": "code",
      "source": [
        "# Drop the columns that are not needed\n",
        "df = df.drop(columns=columns_to_drop, axis=1)"
      ],
      "metadata": {
        "id": "1YigMoqbHa5x"
      },
      "execution_count": 249,
      "outputs": []
    },
    {
      "cell_type": "code",
      "source": [
        "df.head()"
      ],
      "metadata": {
        "colab": {
          "base_uri": "https://localhost:8080/",
          "height": 206
        },
        "id": "eCtWcW6LHa8q",
        "outputId": "68417765-2026-422b-a3d8-0828e26cd45a"
      },
      "execution_count": 250,
      "outputs": [
        {
          "output_type": "execute_result",
          "data": {
            "text/plain": [
              "   Year       Luas Line     VALUE  Numerical_Week\n",
              "0  2019  All Luas lines  549533.0               1\n",
              "1  2019  All Luas lines  839022.0               2\n",
              "2  2019  All Luas lines  819359.0               3\n",
              "3  2019  All Luas lines  860745.0               4\n",
              "4  2019  All Luas lines  912795.0               5"
            ],
            "text/html": [
              "\n",
              "  <div id=\"df-b844beb5-6c01-48f0-8d70-af8ca7910b26\" class=\"colab-df-container\">\n",
              "    <div>\n",
              "<style scoped>\n",
              "    .dataframe tbody tr th:only-of-type {\n",
              "        vertical-align: middle;\n",
              "    }\n",
              "\n",
              "    .dataframe tbody tr th {\n",
              "        vertical-align: top;\n",
              "    }\n",
              "\n",
              "    .dataframe thead th {\n",
              "        text-align: right;\n",
              "    }\n",
              "</style>\n",
              "<table border=\"1\" class=\"dataframe\">\n",
              "  <thead>\n",
              "    <tr style=\"text-align: right;\">\n",
              "      <th></th>\n",
              "      <th>Year</th>\n",
              "      <th>Luas Line</th>\n",
              "      <th>VALUE</th>\n",
              "      <th>Numerical_Week</th>\n",
              "    </tr>\n",
              "  </thead>\n",
              "  <tbody>\n",
              "    <tr>\n",
              "      <th>0</th>\n",
              "      <td>2019</td>\n",
              "      <td>All Luas lines</td>\n",
              "      <td>549533.0</td>\n",
              "      <td>1</td>\n",
              "    </tr>\n",
              "    <tr>\n",
              "      <th>1</th>\n",
              "      <td>2019</td>\n",
              "      <td>All Luas lines</td>\n",
              "      <td>839022.0</td>\n",
              "      <td>2</td>\n",
              "    </tr>\n",
              "    <tr>\n",
              "      <th>2</th>\n",
              "      <td>2019</td>\n",
              "      <td>All Luas lines</td>\n",
              "      <td>819359.0</td>\n",
              "      <td>3</td>\n",
              "    </tr>\n",
              "    <tr>\n",
              "      <th>3</th>\n",
              "      <td>2019</td>\n",
              "      <td>All Luas lines</td>\n",
              "      <td>860745.0</td>\n",
              "      <td>4</td>\n",
              "    </tr>\n",
              "    <tr>\n",
              "      <th>4</th>\n",
              "      <td>2019</td>\n",
              "      <td>All Luas lines</td>\n",
              "      <td>912795.0</td>\n",
              "      <td>5</td>\n",
              "    </tr>\n",
              "  </tbody>\n",
              "</table>\n",
              "</div>\n",
              "    <div class=\"colab-df-buttons\">\n",
              "\n",
              "  <div class=\"colab-df-container\">\n",
              "    <button class=\"colab-df-convert\" onclick=\"convertToInteractive('df-b844beb5-6c01-48f0-8d70-af8ca7910b26')\"\n",
              "            title=\"Convert this dataframe to an interactive table.\"\n",
              "            style=\"display:none;\">\n",
              "\n",
              "  <svg xmlns=\"http://www.w3.org/2000/svg\" height=\"24px\" viewBox=\"0 -960 960 960\">\n",
              "    <path d=\"M120-120v-720h720v720H120Zm60-500h600v-160H180v160Zm220 220h160v-160H400v160Zm0 220h160v-160H400v160ZM180-400h160v-160H180v160Zm440 0h160v-160H620v160ZM180-180h160v-160H180v160Zm440 0h160v-160H620v160Z\"/>\n",
              "  </svg>\n",
              "    </button>\n",
              "\n",
              "  <style>\n",
              "    .colab-df-container {\n",
              "      display:flex;\n",
              "      gap: 12px;\n",
              "    }\n",
              "\n",
              "    .colab-df-convert {\n",
              "      background-color: #E8F0FE;\n",
              "      border: none;\n",
              "      border-radius: 50%;\n",
              "      cursor: pointer;\n",
              "      display: none;\n",
              "      fill: #1967D2;\n",
              "      height: 32px;\n",
              "      padding: 0 0 0 0;\n",
              "      width: 32px;\n",
              "    }\n",
              "\n",
              "    .colab-df-convert:hover {\n",
              "      background-color: #E2EBFA;\n",
              "      box-shadow: 0px 1px 2px rgba(60, 64, 67, 0.3), 0px 1px 3px 1px rgba(60, 64, 67, 0.15);\n",
              "      fill: #174EA6;\n",
              "    }\n",
              "\n",
              "    .colab-df-buttons div {\n",
              "      margin-bottom: 4px;\n",
              "    }\n",
              "\n",
              "    [theme=dark] .colab-df-convert {\n",
              "      background-color: #3B4455;\n",
              "      fill: #D2E3FC;\n",
              "    }\n",
              "\n",
              "    [theme=dark] .colab-df-convert:hover {\n",
              "      background-color: #434B5C;\n",
              "      box-shadow: 0px 1px 3px 1px rgba(0, 0, 0, 0.15);\n",
              "      filter: drop-shadow(0px 1px 2px rgba(0, 0, 0, 0.3));\n",
              "      fill: #FFFFFF;\n",
              "    }\n",
              "  </style>\n",
              "\n",
              "    <script>\n",
              "      const buttonEl =\n",
              "        document.querySelector('#df-b844beb5-6c01-48f0-8d70-af8ca7910b26 button.colab-df-convert');\n",
              "      buttonEl.style.display =\n",
              "        google.colab.kernel.accessAllowed ? 'block' : 'none';\n",
              "\n",
              "      async function convertToInteractive(key) {\n",
              "        const element = document.querySelector('#df-b844beb5-6c01-48f0-8d70-af8ca7910b26');\n",
              "        const dataTable =\n",
              "          await google.colab.kernel.invokeFunction('convertToInteractive',\n",
              "                                                    [key], {});\n",
              "        if (!dataTable) return;\n",
              "\n",
              "        const docLinkHtml = 'Like what you see? Visit the ' +\n",
              "          '<a target=\"_blank\" href=https://colab.research.google.com/notebooks/data_table.ipynb>data table notebook</a>'\n",
              "          + ' to learn more about interactive tables.';\n",
              "        element.innerHTML = '';\n",
              "        dataTable['output_type'] = 'display_data';\n",
              "        await google.colab.output.renderOutput(dataTable, element);\n",
              "        const docLink = document.createElement('div');\n",
              "        docLink.innerHTML = docLinkHtml;\n",
              "        element.appendChild(docLink);\n",
              "      }\n",
              "    </script>\n",
              "  </div>\n",
              "\n",
              "\n",
              "<div id=\"df-4b22b4eb-7fea-4889-9c56-010d55b1f315\">\n",
              "  <button class=\"colab-df-quickchart\" onclick=\"quickchart('df-4b22b4eb-7fea-4889-9c56-010d55b1f315')\"\n",
              "            title=\"Suggest charts\"\n",
              "            style=\"display:none;\">\n",
              "\n",
              "<svg xmlns=\"http://www.w3.org/2000/svg\" height=\"24px\"viewBox=\"0 0 24 24\"\n",
              "     width=\"24px\">\n",
              "    <g>\n",
              "        <path d=\"M19 3H5c-1.1 0-2 .9-2 2v14c0 1.1.9 2 2 2h14c1.1 0 2-.9 2-2V5c0-1.1-.9-2-2-2zM9 17H7v-7h2v7zm4 0h-2V7h2v10zm4 0h-2v-4h2v4z\"/>\n",
              "    </g>\n",
              "</svg>\n",
              "  </button>\n",
              "\n",
              "<style>\n",
              "  .colab-df-quickchart {\n",
              "      --bg-color: #E8F0FE;\n",
              "      --fill-color: #1967D2;\n",
              "      --hover-bg-color: #E2EBFA;\n",
              "      --hover-fill-color: #174EA6;\n",
              "      --disabled-fill-color: #AAA;\n",
              "      --disabled-bg-color: #DDD;\n",
              "  }\n",
              "\n",
              "  [theme=dark] .colab-df-quickchart {\n",
              "      --bg-color: #3B4455;\n",
              "      --fill-color: #D2E3FC;\n",
              "      --hover-bg-color: #434B5C;\n",
              "      --hover-fill-color: #FFFFFF;\n",
              "      --disabled-bg-color: #3B4455;\n",
              "      --disabled-fill-color: #666;\n",
              "  }\n",
              "\n",
              "  .colab-df-quickchart {\n",
              "    background-color: var(--bg-color);\n",
              "    border: none;\n",
              "    border-radius: 50%;\n",
              "    cursor: pointer;\n",
              "    display: none;\n",
              "    fill: var(--fill-color);\n",
              "    height: 32px;\n",
              "    padding: 0;\n",
              "    width: 32px;\n",
              "  }\n",
              "\n",
              "  .colab-df-quickchart:hover {\n",
              "    background-color: var(--hover-bg-color);\n",
              "    box-shadow: 0 1px 2px rgba(60, 64, 67, 0.3), 0 1px 3px 1px rgba(60, 64, 67, 0.15);\n",
              "    fill: var(--button-hover-fill-color);\n",
              "  }\n",
              "\n",
              "  .colab-df-quickchart-complete:disabled,\n",
              "  .colab-df-quickchart-complete:disabled:hover {\n",
              "    background-color: var(--disabled-bg-color);\n",
              "    fill: var(--disabled-fill-color);\n",
              "    box-shadow: none;\n",
              "  }\n",
              "\n",
              "  .colab-df-spinner {\n",
              "    border: 2px solid var(--fill-color);\n",
              "    border-color: transparent;\n",
              "    border-bottom-color: var(--fill-color);\n",
              "    animation:\n",
              "      spin 1s steps(1) infinite;\n",
              "  }\n",
              "\n",
              "  @keyframes spin {\n",
              "    0% {\n",
              "      border-color: transparent;\n",
              "      border-bottom-color: var(--fill-color);\n",
              "      border-left-color: var(--fill-color);\n",
              "    }\n",
              "    20% {\n",
              "      border-color: transparent;\n",
              "      border-left-color: var(--fill-color);\n",
              "      border-top-color: var(--fill-color);\n",
              "    }\n",
              "    30% {\n",
              "      border-color: transparent;\n",
              "      border-left-color: var(--fill-color);\n",
              "      border-top-color: var(--fill-color);\n",
              "      border-right-color: var(--fill-color);\n",
              "    }\n",
              "    40% {\n",
              "      border-color: transparent;\n",
              "      border-right-color: var(--fill-color);\n",
              "      border-top-color: var(--fill-color);\n",
              "    }\n",
              "    60% {\n",
              "      border-color: transparent;\n",
              "      border-right-color: var(--fill-color);\n",
              "    }\n",
              "    80% {\n",
              "      border-color: transparent;\n",
              "      border-right-color: var(--fill-color);\n",
              "      border-bottom-color: var(--fill-color);\n",
              "    }\n",
              "    90% {\n",
              "      border-color: transparent;\n",
              "      border-bottom-color: var(--fill-color);\n",
              "    }\n",
              "  }\n",
              "</style>\n",
              "\n",
              "  <script>\n",
              "    async function quickchart(key) {\n",
              "      const quickchartButtonEl =\n",
              "        document.querySelector('#' + key + ' button');\n",
              "      quickchartButtonEl.disabled = true;  // To prevent multiple clicks.\n",
              "      quickchartButtonEl.classList.add('colab-df-spinner');\n",
              "      try {\n",
              "        const charts = await google.colab.kernel.invokeFunction(\n",
              "            'suggestCharts', [key], {});\n",
              "      } catch (error) {\n",
              "        console.error('Error during call to suggestCharts:', error);\n",
              "      }\n",
              "      quickchartButtonEl.classList.remove('colab-df-spinner');\n",
              "      quickchartButtonEl.classList.add('colab-df-quickchart-complete');\n",
              "    }\n",
              "    (() => {\n",
              "      let quickchartButtonEl =\n",
              "        document.querySelector('#df-4b22b4eb-7fea-4889-9c56-010d55b1f315 button');\n",
              "      quickchartButtonEl.style.display =\n",
              "        google.colab.kernel.accessAllowed ? 'block' : 'none';\n",
              "    })();\n",
              "  </script>\n",
              "</div>\n",
              "    </div>\n",
              "  </div>\n"
            ]
          },
          "metadata": {},
          "execution_count": 250
        }
      ]
    },
    {
      "cell_type": "code",
      "source": [
        "df.info()"
      ],
      "metadata": {
        "colab": {
          "base_uri": "https://localhost:8080/"
        },
        "id": "lkpyUZSSHa_u",
        "outputId": "58d1b328-d2be-47a2-afa7-1d9b9d5d94df"
      },
      "execution_count": 251,
      "outputs": [
        {
          "output_type": "stream",
          "name": "stdout",
          "text": [
            "<class 'pandas.core.frame.DataFrame'>\n",
            "Int64Index: 744 entries, 0 to 780\n",
            "Data columns (total 4 columns):\n",
            " #   Column          Non-Null Count  Dtype  \n",
            "---  ------          --------------  -----  \n",
            " 0   Year            744 non-null    int64  \n",
            " 1   Luas Line       744 non-null    object \n",
            " 2   VALUE           744 non-null    float64\n",
            " 3   Numerical_Week  744 non-null    int64  \n",
            "dtypes: float64(1), int64(2), object(1)\n",
            "memory usage: 29.1+ KB\n"
          ]
        }
      ]
    },
    {
      "cell_type": "code",
      "source": [
        "from sklearn.preprocessing import LabelEncoder\n",
        "\n",
        "# Initialize LabelEncoder\n",
        "label_encoder = LabelEncoder()\n",
        "\n",
        "# Encode 'Luas Line' column\n",
        "df['Luas Line Encoded'] = label_encoder.fit_transform(df['Luas Line'])"
      ],
      "metadata": {
        "id": "l4qaNJ2Ckb3B"
      },
      "execution_count": 252,
      "outputs": []
    },
    {
      "cell_type": "code",
      "source": [
        "df"
      ],
      "metadata": {
        "colab": {
          "base_uri": "https://localhost:8080/",
          "height": 424
        },
        "id": "JyDZ1TyEHbHR",
        "outputId": "ba05d7d4-7f81-4262-d9cc-4b68784d2550"
      },
      "execution_count": 253,
      "outputs": [
        {
          "output_type": "execute_result",
          "data": {
            "text/plain": [
              "     Year       Luas Line     VALUE  Numerical_Week  Luas Line Encoded\n",
              "0    2019  All Luas lines  549533.0               1                  0\n",
              "1    2019  All Luas lines  839022.0               2                  0\n",
              "2    2019  All Luas lines  819359.0               3                  0\n",
              "3    2019  All Luas lines  860745.0               4                  0\n",
              "4    2019  All Luas lines  912795.0               5                  0\n",
              "..    ...             ...       ...             ...                ...\n",
              "776  2023      Green line  411878.0              35                  1\n",
              "777  2023      Green line  432905.0              36                  1\n",
              "778  2023      Green line  445474.0              37                  1\n",
              "779  2023      Green line  498593.0              38                  1\n",
              "780  2023      Green line  500581.0              39                  1\n",
              "\n",
              "[744 rows x 5 columns]"
            ],
            "text/html": [
              "\n",
              "  <div id=\"df-4cc0f858-dbe1-4977-8448-9a84ab5d916d\" class=\"colab-df-container\">\n",
              "    <div>\n",
              "<style scoped>\n",
              "    .dataframe tbody tr th:only-of-type {\n",
              "        vertical-align: middle;\n",
              "    }\n",
              "\n",
              "    .dataframe tbody tr th {\n",
              "        vertical-align: top;\n",
              "    }\n",
              "\n",
              "    .dataframe thead th {\n",
              "        text-align: right;\n",
              "    }\n",
              "</style>\n",
              "<table border=\"1\" class=\"dataframe\">\n",
              "  <thead>\n",
              "    <tr style=\"text-align: right;\">\n",
              "      <th></th>\n",
              "      <th>Year</th>\n",
              "      <th>Luas Line</th>\n",
              "      <th>VALUE</th>\n",
              "      <th>Numerical_Week</th>\n",
              "      <th>Luas Line Encoded</th>\n",
              "    </tr>\n",
              "  </thead>\n",
              "  <tbody>\n",
              "    <tr>\n",
              "      <th>0</th>\n",
              "      <td>2019</td>\n",
              "      <td>All Luas lines</td>\n",
              "      <td>549533.0</td>\n",
              "      <td>1</td>\n",
              "      <td>0</td>\n",
              "    </tr>\n",
              "    <tr>\n",
              "      <th>1</th>\n",
              "      <td>2019</td>\n",
              "      <td>All Luas lines</td>\n",
              "      <td>839022.0</td>\n",
              "      <td>2</td>\n",
              "      <td>0</td>\n",
              "    </tr>\n",
              "    <tr>\n",
              "      <th>2</th>\n",
              "      <td>2019</td>\n",
              "      <td>All Luas lines</td>\n",
              "      <td>819359.0</td>\n",
              "      <td>3</td>\n",
              "      <td>0</td>\n",
              "    </tr>\n",
              "    <tr>\n",
              "      <th>3</th>\n",
              "      <td>2019</td>\n",
              "      <td>All Luas lines</td>\n",
              "      <td>860745.0</td>\n",
              "      <td>4</td>\n",
              "      <td>0</td>\n",
              "    </tr>\n",
              "    <tr>\n",
              "      <th>4</th>\n",
              "      <td>2019</td>\n",
              "      <td>All Luas lines</td>\n",
              "      <td>912795.0</td>\n",
              "      <td>5</td>\n",
              "      <td>0</td>\n",
              "    </tr>\n",
              "    <tr>\n",
              "      <th>...</th>\n",
              "      <td>...</td>\n",
              "      <td>...</td>\n",
              "      <td>...</td>\n",
              "      <td>...</td>\n",
              "      <td>...</td>\n",
              "    </tr>\n",
              "    <tr>\n",
              "      <th>776</th>\n",
              "      <td>2023</td>\n",
              "      <td>Green line</td>\n",
              "      <td>411878.0</td>\n",
              "      <td>35</td>\n",
              "      <td>1</td>\n",
              "    </tr>\n",
              "    <tr>\n",
              "      <th>777</th>\n",
              "      <td>2023</td>\n",
              "      <td>Green line</td>\n",
              "      <td>432905.0</td>\n",
              "      <td>36</td>\n",
              "      <td>1</td>\n",
              "    </tr>\n",
              "    <tr>\n",
              "      <th>778</th>\n",
              "      <td>2023</td>\n",
              "      <td>Green line</td>\n",
              "      <td>445474.0</td>\n",
              "      <td>37</td>\n",
              "      <td>1</td>\n",
              "    </tr>\n",
              "    <tr>\n",
              "      <th>779</th>\n",
              "      <td>2023</td>\n",
              "      <td>Green line</td>\n",
              "      <td>498593.0</td>\n",
              "      <td>38</td>\n",
              "      <td>1</td>\n",
              "    </tr>\n",
              "    <tr>\n",
              "      <th>780</th>\n",
              "      <td>2023</td>\n",
              "      <td>Green line</td>\n",
              "      <td>500581.0</td>\n",
              "      <td>39</td>\n",
              "      <td>1</td>\n",
              "    </tr>\n",
              "  </tbody>\n",
              "</table>\n",
              "<p>744 rows × 5 columns</p>\n",
              "</div>\n",
              "    <div class=\"colab-df-buttons\">\n",
              "\n",
              "  <div class=\"colab-df-container\">\n",
              "    <button class=\"colab-df-convert\" onclick=\"convertToInteractive('df-4cc0f858-dbe1-4977-8448-9a84ab5d916d')\"\n",
              "            title=\"Convert this dataframe to an interactive table.\"\n",
              "            style=\"display:none;\">\n",
              "\n",
              "  <svg xmlns=\"http://www.w3.org/2000/svg\" height=\"24px\" viewBox=\"0 -960 960 960\">\n",
              "    <path d=\"M120-120v-720h720v720H120Zm60-500h600v-160H180v160Zm220 220h160v-160H400v160Zm0 220h160v-160H400v160ZM180-400h160v-160H180v160Zm440 0h160v-160H620v160ZM180-180h160v-160H180v160Zm440 0h160v-160H620v160Z\"/>\n",
              "  </svg>\n",
              "    </button>\n",
              "\n",
              "  <style>\n",
              "    .colab-df-container {\n",
              "      display:flex;\n",
              "      gap: 12px;\n",
              "    }\n",
              "\n",
              "    .colab-df-convert {\n",
              "      background-color: #E8F0FE;\n",
              "      border: none;\n",
              "      border-radius: 50%;\n",
              "      cursor: pointer;\n",
              "      display: none;\n",
              "      fill: #1967D2;\n",
              "      height: 32px;\n",
              "      padding: 0 0 0 0;\n",
              "      width: 32px;\n",
              "    }\n",
              "\n",
              "    .colab-df-convert:hover {\n",
              "      background-color: #E2EBFA;\n",
              "      box-shadow: 0px 1px 2px rgba(60, 64, 67, 0.3), 0px 1px 3px 1px rgba(60, 64, 67, 0.15);\n",
              "      fill: #174EA6;\n",
              "    }\n",
              "\n",
              "    .colab-df-buttons div {\n",
              "      margin-bottom: 4px;\n",
              "    }\n",
              "\n",
              "    [theme=dark] .colab-df-convert {\n",
              "      background-color: #3B4455;\n",
              "      fill: #D2E3FC;\n",
              "    }\n",
              "\n",
              "    [theme=dark] .colab-df-convert:hover {\n",
              "      background-color: #434B5C;\n",
              "      box-shadow: 0px 1px 3px 1px rgba(0, 0, 0, 0.15);\n",
              "      filter: drop-shadow(0px 1px 2px rgba(0, 0, 0, 0.3));\n",
              "      fill: #FFFFFF;\n",
              "    }\n",
              "  </style>\n",
              "\n",
              "    <script>\n",
              "      const buttonEl =\n",
              "        document.querySelector('#df-4cc0f858-dbe1-4977-8448-9a84ab5d916d button.colab-df-convert');\n",
              "      buttonEl.style.display =\n",
              "        google.colab.kernel.accessAllowed ? 'block' : 'none';\n",
              "\n",
              "      async function convertToInteractive(key) {\n",
              "        const element = document.querySelector('#df-4cc0f858-dbe1-4977-8448-9a84ab5d916d');\n",
              "        const dataTable =\n",
              "          await google.colab.kernel.invokeFunction('convertToInteractive',\n",
              "                                                    [key], {});\n",
              "        if (!dataTable) return;\n",
              "\n",
              "        const docLinkHtml = 'Like what you see? Visit the ' +\n",
              "          '<a target=\"_blank\" href=https://colab.research.google.com/notebooks/data_table.ipynb>data table notebook</a>'\n",
              "          + ' to learn more about interactive tables.';\n",
              "        element.innerHTML = '';\n",
              "        dataTable['output_type'] = 'display_data';\n",
              "        await google.colab.output.renderOutput(dataTable, element);\n",
              "        const docLink = document.createElement('div');\n",
              "        docLink.innerHTML = docLinkHtml;\n",
              "        element.appendChild(docLink);\n",
              "      }\n",
              "    </script>\n",
              "  </div>\n",
              "\n",
              "\n",
              "<div id=\"df-2bdea879-38c8-45b6-b06e-afeba7a16aef\">\n",
              "  <button class=\"colab-df-quickchart\" onclick=\"quickchart('df-2bdea879-38c8-45b6-b06e-afeba7a16aef')\"\n",
              "            title=\"Suggest charts\"\n",
              "            style=\"display:none;\">\n",
              "\n",
              "<svg xmlns=\"http://www.w3.org/2000/svg\" height=\"24px\"viewBox=\"0 0 24 24\"\n",
              "     width=\"24px\">\n",
              "    <g>\n",
              "        <path d=\"M19 3H5c-1.1 0-2 .9-2 2v14c0 1.1.9 2 2 2h14c1.1 0 2-.9 2-2V5c0-1.1-.9-2-2-2zM9 17H7v-7h2v7zm4 0h-2V7h2v10zm4 0h-2v-4h2v4z\"/>\n",
              "    </g>\n",
              "</svg>\n",
              "  </button>\n",
              "\n",
              "<style>\n",
              "  .colab-df-quickchart {\n",
              "      --bg-color: #E8F0FE;\n",
              "      --fill-color: #1967D2;\n",
              "      --hover-bg-color: #E2EBFA;\n",
              "      --hover-fill-color: #174EA6;\n",
              "      --disabled-fill-color: #AAA;\n",
              "      --disabled-bg-color: #DDD;\n",
              "  }\n",
              "\n",
              "  [theme=dark] .colab-df-quickchart {\n",
              "      --bg-color: #3B4455;\n",
              "      --fill-color: #D2E3FC;\n",
              "      --hover-bg-color: #434B5C;\n",
              "      --hover-fill-color: #FFFFFF;\n",
              "      --disabled-bg-color: #3B4455;\n",
              "      --disabled-fill-color: #666;\n",
              "  }\n",
              "\n",
              "  .colab-df-quickchart {\n",
              "    background-color: var(--bg-color);\n",
              "    border: none;\n",
              "    border-radius: 50%;\n",
              "    cursor: pointer;\n",
              "    display: none;\n",
              "    fill: var(--fill-color);\n",
              "    height: 32px;\n",
              "    padding: 0;\n",
              "    width: 32px;\n",
              "  }\n",
              "\n",
              "  .colab-df-quickchart:hover {\n",
              "    background-color: var(--hover-bg-color);\n",
              "    box-shadow: 0 1px 2px rgba(60, 64, 67, 0.3), 0 1px 3px 1px rgba(60, 64, 67, 0.15);\n",
              "    fill: var(--button-hover-fill-color);\n",
              "  }\n",
              "\n",
              "  .colab-df-quickchart-complete:disabled,\n",
              "  .colab-df-quickchart-complete:disabled:hover {\n",
              "    background-color: var(--disabled-bg-color);\n",
              "    fill: var(--disabled-fill-color);\n",
              "    box-shadow: none;\n",
              "  }\n",
              "\n",
              "  .colab-df-spinner {\n",
              "    border: 2px solid var(--fill-color);\n",
              "    border-color: transparent;\n",
              "    border-bottom-color: var(--fill-color);\n",
              "    animation:\n",
              "      spin 1s steps(1) infinite;\n",
              "  }\n",
              "\n",
              "  @keyframes spin {\n",
              "    0% {\n",
              "      border-color: transparent;\n",
              "      border-bottom-color: var(--fill-color);\n",
              "      border-left-color: var(--fill-color);\n",
              "    }\n",
              "    20% {\n",
              "      border-color: transparent;\n",
              "      border-left-color: var(--fill-color);\n",
              "      border-top-color: var(--fill-color);\n",
              "    }\n",
              "    30% {\n",
              "      border-color: transparent;\n",
              "      border-left-color: var(--fill-color);\n",
              "      border-top-color: var(--fill-color);\n",
              "      border-right-color: var(--fill-color);\n",
              "    }\n",
              "    40% {\n",
              "      border-color: transparent;\n",
              "      border-right-color: var(--fill-color);\n",
              "      border-top-color: var(--fill-color);\n",
              "    }\n",
              "    60% {\n",
              "      border-color: transparent;\n",
              "      border-right-color: var(--fill-color);\n",
              "    }\n",
              "    80% {\n",
              "      border-color: transparent;\n",
              "      border-right-color: var(--fill-color);\n",
              "      border-bottom-color: var(--fill-color);\n",
              "    }\n",
              "    90% {\n",
              "      border-color: transparent;\n",
              "      border-bottom-color: var(--fill-color);\n",
              "    }\n",
              "  }\n",
              "</style>\n",
              "\n",
              "  <script>\n",
              "    async function quickchart(key) {\n",
              "      const quickchartButtonEl =\n",
              "        document.querySelector('#' + key + ' button');\n",
              "      quickchartButtonEl.disabled = true;  // To prevent multiple clicks.\n",
              "      quickchartButtonEl.classList.add('colab-df-spinner');\n",
              "      try {\n",
              "        const charts = await google.colab.kernel.invokeFunction(\n",
              "            'suggestCharts', [key], {});\n",
              "      } catch (error) {\n",
              "        console.error('Error during call to suggestCharts:', error);\n",
              "      }\n",
              "      quickchartButtonEl.classList.remove('colab-df-spinner');\n",
              "      quickchartButtonEl.classList.add('colab-df-quickchart-complete');\n",
              "    }\n",
              "    (() => {\n",
              "      let quickchartButtonEl =\n",
              "        document.querySelector('#df-2bdea879-38c8-45b6-b06e-afeba7a16aef button');\n",
              "      quickchartButtonEl.style.display =\n",
              "        google.colab.kernel.accessAllowed ? 'block' : 'none';\n",
              "    })();\n",
              "  </script>\n",
              "</div>\n",
              "    </div>\n",
              "  </div>\n"
            ]
          },
          "metadata": {},
          "execution_count": 253
        }
      ]
    },
    {
      "cell_type": "code",
      "source": [
        "columns_to_drop = ['Luas Line']"
      ],
      "metadata": {
        "id": "R-MiWMkvNL9K"
      },
      "execution_count": 254,
      "outputs": []
    },
    {
      "cell_type": "code",
      "source": [
        "# Drop the columns that are not needed\n",
        "df = df.drop(columns=columns_to_drop, axis=1)"
      ],
      "metadata": {
        "id": "qmCD8a4zNOvR"
      },
      "execution_count": 255,
      "outputs": []
    },
    {
      "cell_type": "code",
      "source": [
        "df.head(20)"
      ],
      "metadata": {
        "colab": {
          "base_uri": "https://localhost:8080/",
          "height": 677
        },
        "id": "W1OTCYxfXFzO",
        "outputId": "544e7093-a0b0-47e6-86a0-4cfe417f36b0"
      },
      "execution_count": 256,
      "outputs": [
        {
          "output_type": "execute_result",
          "data": {
            "text/plain": [
              "    Year      VALUE  Numerical_Week  Luas Line Encoded\n",
              "0   2019   549533.0               1                  0\n",
              "1   2019   839022.0               2                  0\n",
              "2   2019   819359.0               3                  0\n",
              "3   2019   860745.0               4                  0\n",
              "4   2019   912795.0               5                  0\n",
              "5   2019   912612.0               6                  0\n",
              "6   2019   940476.0               7                  0\n",
              "7   2019   952291.0               8                  0\n",
              "8   2019   929391.0               9                  0\n",
              "9   2019   941919.0              10                  0\n",
              "10  2019   924998.0              11                  0\n",
              "11  2019   868205.0              12                  0\n",
              "12  2019  1003871.0              13                  0\n",
              "13  2019   933575.0              14                  0\n",
              "14  2019   945662.0              15                  0\n",
              "15  2019   842186.0              16                  0\n",
              "16  2019   801296.0              17                  0\n",
              "17  2019   919255.0              18                  0\n",
              "18  2019   817933.0              19                  0\n",
              "19  2019   904983.0              20                  0"
            ],
            "text/html": [
              "\n",
              "  <div id=\"df-46e86d74-f60e-40fa-884b-0591a7c86446\" class=\"colab-df-container\">\n",
              "    <div>\n",
              "<style scoped>\n",
              "    .dataframe tbody tr th:only-of-type {\n",
              "        vertical-align: middle;\n",
              "    }\n",
              "\n",
              "    .dataframe tbody tr th {\n",
              "        vertical-align: top;\n",
              "    }\n",
              "\n",
              "    .dataframe thead th {\n",
              "        text-align: right;\n",
              "    }\n",
              "</style>\n",
              "<table border=\"1\" class=\"dataframe\">\n",
              "  <thead>\n",
              "    <tr style=\"text-align: right;\">\n",
              "      <th></th>\n",
              "      <th>Year</th>\n",
              "      <th>VALUE</th>\n",
              "      <th>Numerical_Week</th>\n",
              "      <th>Luas Line Encoded</th>\n",
              "    </tr>\n",
              "  </thead>\n",
              "  <tbody>\n",
              "    <tr>\n",
              "      <th>0</th>\n",
              "      <td>2019</td>\n",
              "      <td>549533.0</td>\n",
              "      <td>1</td>\n",
              "      <td>0</td>\n",
              "    </tr>\n",
              "    <tr>\n",
              "      <th>1</th>\n",
              "      <td>2019</td>\n",
              "      <td>839022.0</td>\n",
              "      <td>2</td>\n",
              "      <td>0</td>\n",
              "    </tr>\n",
              "    <tr>\n",
              "      <th>2</th>\n",
              "      <td>2019</td>\n",
              "      <td>819359.0</td>\n",
              "      <td>3</td>\n",
              "      <td>0</td>\n",
              "    </tr>\n",
              "    <tr>\n",
              "      <th>3</th>\n",
              "      <td>2019</td>\n",
              "      <td>860745.0</td>\n",
              "      <td>4</td>\n",
              "      <td>0</td>\n",
              "    </tr>\n",
              "    <tr>\n",
              "      <th>4</th>\n",
              "      <td>2019</td>\n",
              "      <td>912795.0</td>\n",
              "      <td>5</td>\n",
              "      <td>0</td>\n",
              "    </tr>\n",
              "    <tr>\n",
              "      <th>5</th>\n",
              "      <td>2019</td>\n",
              "      <td>912612.0</td>\n",
              "      <td>6</td>\n",
              "      <td>0</td>\n",
              "    </tr>\n",
              "    <tr>\n",
              "      <th>6</th>\n",
              "      <td>2019</td>\n",
              "      <td>940476.0</td>\n",
              "      <td>7</td>\n",
              "      <td>0</td>\n",
              "    </tr>\n",
              "    <tr>\n",
              "      <th>7</th>\n",
              "      <td>2019</td>\n",
              "      <td>952291.0</td>\n",
              "      <td>8</td>\n",
              "      <td>0</td>\n",
              "    </tr>\n",
              "    <tr>\n",
              "      <th>8</th>\n",
              "      <td>2019</td>\n",
              "      <td>929391.0</td>\n",
              "      <td>9</td>\n",
              "      <td>0</td>\n",
              "    </tr>\n",
              "    <tr>\n",
              "      <th>9</th>\n",
              "      <td>2019</td>\n",
              "      <td>941919.0</td>\n",
              "      <td>10</td>\n",
              "      <td>0</td>\n",
              "    </tr>\n",
              "    <tr>\n",
              "      <th>10</th>\n",
              "      <td>2019</td>\n",
              "      <td>924998.0</td>\n",
              "      <td>11</td>\n",
              "      <td>0</td>\n",
              "    </tr>\n",
              "    <tr>\n",
              "      <th>11</th>\n",
              "      <td>2019</td>\n",
              "      <td>868205.0</td>\n",
              "      <td>12</td>\n",
              "      <td>0</td>\n",
              "    </tr>\n",
              "    <tr>\n",
              "      <th>12</th>\n",
              "      <td>2019</td>\n",
              "      <td>1003871.0</td>\n",
              "      <td>13</td>\n",
              "      <td>0</td>\n",
              "    </tr>\n",
              "    <tr>\n",
              "      <th>13</th>\n",
              "      <td>2019</td>\n",
              "      <td>933575.0</td>\n",
              "      <td>14</td>\n",
              "      <td>0</td>\n",
              "    </tr>\n",
              "    <tr>\n",
              "      <th>14</th>\n",
              "      <td>2019</td>\n",
              "      <td>945662.0</td>\n",
              "      <td>15</td>\n",
              "      <td>0</td>\n",
              "    </tr>\n",
              "    <tr>\n",
              "      <th>15</th>\n",
              "      <td>2019</td>\n",
              "      <td>842186.0</td>\n",
              "      <td>16</td>\n",
              "      <td>0</td>\n",
              "    </tr>\n",
              "    <tr>\n",
              "      <th>16</th>\n",
              "      <td>2019</td>\n",
              "      <td>801296.0</td>\n",
              "      <td>17</td>\n",
              "      <td>0</td>\n",
              "    </tr>\n",
              "    <tr>\n",
              "      <th>17</th>\n",
              "      <td>2019</td>\n",
              "      <td>919255.0</td>\n",
              "      <td>18</td>\n",
              "      <td>0</td>\n",
              "    </tr>\n",
              "    <tr>\n",
              "      <th>18</th>\n",
              "      <td>2019</td>\n",
              "      <td>817933.0</td>\n",
              "      <td>19</td>\n",
              "      <td>0</td>\n",
              "    </tr>\n",
              "    <tr>\n",
              "      <th>19</th>\n",
              "      <td>2019</td>\n",
              "      <td>904983.0</td>\n",
              "      <td>20</td>\n",
              "      <td>0</td>\n",
              "    </tr>\n",
              "  </tbody>\n",
              "</table>\n",
              "</div>\n",
              "    <div class=\"colab-df-buttons\">\n",
              "\n",
              "  <div class=\"colab-df-container\">\n",
              "    <button class=\"colab-df-convert\" onclick=\"convertToInteractive('df-46e86d74-f60e-40fa-884b-0591a7c86446')\"\n",
              "            title=\"Convert this dataframe to an interactive table.\"\n",
              "            style=\"display:none;\">\n",
              "\n",
              "  <svg xmlns=\"http://www.w3.org/2000/svg\" height=\"24px\" viewBox=\"0 -960 960 960\">\n",
              "    <path d=\"M120-120v-720h720v720H120Zm60-500h600v-160H180v160Zm220 220h160v-160H400v160Zm0 220h160v-160H400v160ZM180-400h160v-160H180v160Zm440 0h160v-160H620v160ZM180-180h160v-160H180v160Zm440 0h160v-160H620v160Z\"/>\n",
              "  </svg>\n",
              "    </button>\n",
              "\n",
              "  <style>\n",
              "    .colab-df-container {\n",
              "      display:flex;\n",
              "      gap: 12px;\n",
              "    }\n",
              "\n",
              "    .colab-df-convert {\n",
              "      background-color: #E8F0FE;\n",
              "      border: none;\n",
              "      border-radius: 50%;\n",
              "      cursor: pointer;\n",
              "      display: none;\n",
              "      fill: #1967D2;\n",
              "      height: 32px;\n",
              "      padding: 0 0 0 0;\n",
              "      width: 32px;\n",
              "    }\n",
              "\n",
              "    .colab-df-convert:hover {\n",
              "      background-color: #E2EBFA;\n",
              "      box-shadow: 0px 1px 2px rgba(60, 64, 67, 0.3), 0px 1px 3px 1px rgba(60, 64, 67, 0.15);\n",
              "      fill: #174EA6;\n",
              "    }\n",
              "\n",
              "    .colab-df-buttons div {\n",
              "      margin-bottom: 4px;\n",
              "    }\n",
              "\n",
              "    [theme=dark] .colab-df-convert {\n",
              "      background-color: #3B4455;\n",
              "      fill: #D2E3FC;\n",
              "    }\n",
              "\n",
              "    [theme=dark] .colab-df-convert:hover {\n",
              "      background-color: #434B5C;\n",
              "      box-shadow: 0px 1px 3px 1px rgba(0, 0, 0, 0.15);\n",
              "      filter: drop-shadow(0px 1px 2px rgba(0, 0, 0, 0.3));\n",
              "      fill: #FFFFFF;\n",
              "    }\n",
              "  </style>\n",
              "\n",
              "    <script>\n",
              "      const buttonEl =\n",
              "        document.querySelector('#df-46e86d74-f60e-40fa-884b-0591a7c86446 button.colab-df-convert');\n",
              "      buttonEl.style.display =\n",
              "        google.colab.kernel.accessAllowed ? 'block' : 'none';\n",
              "\n",
              "      async function convertToInteractive(key) {\n",
              "        const element = document.querySelector('#df-46e86d74-f60e-40fa-884b-0591a7c86446');\n",
              "        const dataTable =\n",
              "          await google.colab.kernel.invokeFunction('convertToInteractive',\n",
              "                                                    [key], {});\n",
              "        if (!dataTable) return;\n",
              "\n",
              "        const docLinkHtml = 'Like what you see? Visit the ' +\n",
              "          '<a target=\"_blank\" href=https://colab.research.google.com/notebooks/data_table.ipynb>data table notebook</a>'\n",
              "          + ' to learn more about interactive tables.';\n",
              "        element.innerHTML = '';\n",
              "        dataTable['output_type'] = 'display_data';\n",
              "        await google.colab.output.renderOutput(dataTable, element);\n",
              "        const docLink = document.createElement('div');\n",
              "        docLink.innerHTML = docLinkHtml;\n",
              "        element.appendChild(docLink);\n",
              "      }\n",
              "    </script>\n",
              "  </div>\n",
              "\n",
              "\n",
              "<div id=\"df-d6c805d0-2c53-4c85-8fd0-7ed651b9cbca\">\n",
              "  <button class=\"colab-df-quickchart\" onclick=\"quickchart('df-d6c805d0-2c53-4c85-8fd0-7ed651b9cbca')\"\n",
              "            title=\"Suggest charts\"\n",
              "            style=\"display:none;\">\n",
              "\n",
              "<svg xmlns=\"http://www.w3.org/2000/svg\" height=\"24px\"viewBox=\"0 0 24 24\"\n",
              "     width=\"24px\">\n",
              "    <g>\n",
              "        <path d=\"M19 3H5c-1.1 0-2 .9-2 2v14c0 1.1.9 2 2 2h14c1.1 0 2-.9 2-2V5c0-1.1-.9-2-2-2zM9 17H7v-7h2v7zm4 0h-2V7h2v10zm4 0h-2v-4h2v4z\"/>\n",
              "    </g>\n",
              "</svg>\n",
              "  </button>\n",
              "\n",
              "<style>\n",
              "  .colab-df-quickchart {\n",
              "      --bg-color: #E8F0FE;\n",
              "      --fill-color: #1967D2;\n",
              "      --hover-bg-color: #E2EBFA;\n",
              "      --hover-fill-color: #174EA6;\n",
              "      --disabled-fill-color: #AAA;\n",
              "      --disabled-bg-color: #DDD;\n",
              "  }\n",
              "\n",
              "  [theme=dark] .colab-df-quickchart {\n",
              "      --bg-color: #3B4455;\n",
              "      --fill-color: #D2E3FC;\n",
              "      --hover-bg-color: #434B5C;\n",
              "      --hover-fill-color: #FFFFFF;\n",
              "      --disabled-bg-color: #3B4455;\n",
              "      --disabled-fill-color: #666;\n",
              "  }\n",
              "\n",
              "  .colab-df-quickchart {\n",
              "    background-color: var(--bg-color);\n",
              "    border: none;\n",
              "    border-radius: 50%;\n",
              "    cursor: pointer;\n",
              "    display: none;\n",
              "    fill: var(--fill-color);\n",
              "    height: 32px;\n",
              "    padding: 0;\n",
              "    width: 32px;\n",
              "  }\n",
              "\n",
              "  .colab-df-quickchart:hover {\n",
              "    background-color: var(--hover-bg-color);\n",
              "    box-shadow: 0 1px 2px rgba(60, 64, 67, 0.3), 0 1px 3px 1px rgba(60, 64, 67, 0.15);\n",
              "    fill: var(--button-hover-fill-color);\n",
              "  }\n",
              "\n",
              "  .colab-df-quickchart-complete:disabled,\n",
              "  .colab-df-quickchart-complete:disabled:hover {\n",
              "    background-color: var(--disabled-bg-color);\n",
              "    fill: var(--disabled-fill-color);\n",
              "    box-shadow: none;\n",
              "  }\n",
              "\n",
              "  .colab-df-spinner {\n",
              "    border: 2px solid var(--fill-color);\n",
              "    border-color: transparent;\n",
              "    border-bottom-color: var(--fill-color);\n",
              "    animation:\n",
              "      spin 1s steps(1) infinite;\n",
              "  }\n",
              "\n",
              "  @keyframes spin {\n",
              "    0% {\n",
              "      border-color: transparent;\n",
              "      border-bottom-color: var(--fill-color);\n",
              "      border-left-color: var(--fill-color);\n",
              "    }\n",
              "    20% {\n",
              "      border-color: transparent;\n",
              "      border-left-color: var(--fill-color);\n",
              "      border-top-color: var(--fill-color);\n",
              "    }\n",
              "    30% {\n",
              "      border-color: transparent;\n",
              "      border-left-color: var(--fill-color);\n",
              "      border-top-color: var(--fill-color);\n",
              "      border-right-color: var(--fill-color);\n",
              "    }\n",
              "    40% {\n",
              "      border-color: transparent;\n",
              "      border-right-color: var(--fill-color);\n",
              "      border-top-color: var(--fill-color);\n",
              "    }\n",
              "    60% {\n",
              "      border-color: transparent;\n",
              "      border-right-color: var(--fill-color);\n",
              "    }\n",
              "    80% {\n",
              "      border-color: transparent;\n",
              "      border-right-color: var(--fill-color);\n",
              "      border-bottom-color: var(--fill-color);\n",
              "    }\n",
              "    90% {\n",
              "      border-color: transparent;\n",
              "      border-bottom-color: var(--fill-color);\n",
              "    }\n",
              "  }\n",
              "</style>\n",
              "\n",
              "  <script>\n",
              "    async function quickchart(key) {\n",
              "      const quickchartButtonEl =\n",
              "        document.querySelector('#' + key + ' button');\n",
              "      quickchartButtonEl.disabled = true;  // To prevent multiple clicks.\n",
              "      quickchartButtonEl.classList.add('colab-df-spinner');\n",
              "      try {\n",
              "        const charts = await google.colab.kernel.invokeFunction(\n",
              "            'suggestCharts', [key], {});\n",
              "      } catch (error) {\n",
              "        console.error('Error during call to suggestCharts:', error);\n",
              "      }\n",
              "      quickchartButtonEl.classList.remove('colab-df-spinner');\n",
              "      quickchartButtonEl.classList.add('colab-df-quickchart-complete');\n",
              "    }\n",
              "    (() => {\n",
              "      let quickchartButtonEl =\n",
              "        document.querySelector('#df-d6c805d0-2c53-4c85-8fd0-7ed651b9cbca button');\n",
              "      quickchartButtonEl.style.display =\n",
              "        google.colab.kernel.accessAllowed ? 'block' : 'none';\n",
              "    })();\n",
              "  </script>\n",
              "</div>\n",
              "    </div>\n",
              "  </div>\n"
            ]
          },
          "metadata": {},
          "execution_count": 256
        }
      ]
    },
    {
      "cell_type": "code",
      "source": [
        "pip install statsmodels"
      ],
      "metadata": {
        "colab": {
          "base_uri": "https://localhost:8080/"
        },
        "id": "ZXdLViVzncs3",
        "outputId": "1b00921b-2ea6-4ae4-af0d-09d927cc54bd"
      },
      "execution_count": 257,
      "outputs": [
        {
          "output_type": "stream",
          "name": "stdout",
          "text": [
            "Requirement already satisfied: statsmodels in /usr/local/lib/python3.10/dist-packages (0.14.1)\n",
            "Requirement already satisfied: numpy<2,>=1.18 in /usr/local/lib/python3.10/dist-packages (from statsmodels) (1.23.5)\n",
            "Requirement already satisfied: scipy!=1.9.2,>=1.4 in /usr/local/lib/python3.10/dist-packages (from statsmodels) (1.11.4)\n",
            "Requirement already satisfied: pandas!=2.1.0,>=1.0 in /usr/local/lib/python3.10/dist-packages (from statsmodels) (1.5.3)\n",
            "Requirement already satisfied: patsy>=0.5.4 in /usr/local/lib/python3.10/dist-packages (from statsmodels) (0.5.4)\n",
            "Requirement already satisfied: packaging>=21.3 in /usr/local/lib/python3.10/dist-packages (from statsmodels) (23.2)\n",
            "Requirement already satisfied: python-dateutil>=2.8.1 in /usr/local/lib/python3.10/dist-packages (from pandas!=2.1.0,>=1.0->statsmodels) (2.8.2)\n",
            "Requirement already satisfied: pytz>=2020.1 in /usr/local/lib/python3.10/dist-packages (from pandas!=2.1.0,>=1.0->statsmodels) (2023.3.post1)\n",
            "Requirement already satisfied: six in /usr/local/lib/python3.10/dist-packages (from patsy>=0.5.4->statsmodels) (1.16.0)\n"
          ]
        }
      ]
    },
    {
      "cell_type": "code",
      "source": [
        "\n",
        "from statsmodels.tsa.arima.model import ARIMA\n",
        "\n",
        "# Considering 'VALUE' as the column you want to forecast\n",
        "ts = df['VALUE']\n",
        "\n",
        "# Fit an ARIMA model\n",
        "model = ARIMA(ts, order=(5, 1, 0))  # Adjust order as needed\n",
        "model_fit = model.fit()\n",
        "\n",
        "# Forecast future values - Increase the number of future steps\n",
        "future_steps = 100  # Number of future steps to forecast\n",
        "forecast = model_fit.forecast(steps=future_steps)\n",
        "\n",
        "# Visualize the original time series data\n",
        "plt.figure(figsize=(10, 6))\n",
        "plt.plot(ts, label='Original Data')\n",
        "plt.title('Original Time Series Data')\n",
        "plt.xlabel('Index')\n",
        "plt.ylabel('Value')\n",
        "plt.legend()\n",
        "plt.show()\n",
        "\n",
        "# Visualize the forecasted values\n",
        "plt.figure(figsize=(10, 6))\n",
        "plt.plot(range(len(ts)), ts, label='Original Data')\n",
        "plt.plot(range(len(ts), len(ts) + future_steps), forecast, label='Forecast', color='red')\n",
        "plt.title('Forecasted Values with ARIMA')\n",
        "plt.xlabel('Index')\n",
        "plt.ylabel('Value')\n",
        "plt.legend()\n",
        "plt.show()"
      ],
      "metadata": {
        "id": "7pJagY5S9c2w",
        "outputId": "f51bc565-f643-44ce-cb9a-a135d2aee2a8",
        "colab": {
          "base_uri": "https://localhost:8080/",
          "height": 1000
        }
      },
      "execution_count": 258,
      "outputs": [
        {
          "output_type": "display_data",
          "data": {
            "text/plain": [
              "<Figure size 1000x600 with 1 Axes>"
            ],
            "image/png": "[encoded data removed]"
          },
          "metadata": {}
        },
        {
          "output_type": "display_data",
          "data": {
            "text/plain": [
              "<Figure size 1000x600 with 1 Axes>"
            ],
            "image/png": "[encoded data removed]"
          },
          "metadata": {}
        }
      ]
    },
    {
      "cell_type": "code",
      "source": [
        "from statsmodels.tsa.statespace.sarimax import SARIMAX\n",
        "import matplotlib.pyplot as plt\n",
        "\n",
        "\n",
        "# Considering 'VALUE' as the column you want to forecast\n",
        "ts = df['VALUE']\n",
        "\n",
        "# Fit a SARIMA model\n",
        "order = (1, 1, 1)  # Specify the (p, d, q) parameters\n",
        "seasonal_order = (1, 1, 1, 12)  # Specify the seasonal (P, D, Q, S) parameters\n",
        "model = SARIMAX(ts, order=order, seasonal_order=seasonal_order)\n",
        "model_fit = model.fit()\n",
        "\n",
        "# Forecast future values\n",
        "future_steps = 50  # Number of future steps to forecast\n",
        "forecast = model_fit.get_forecast(steps=future_steps)\n",
        "\n",
        "# Get forecasted values and confidence intervals\n",
        "forecast_values = forecast.predicted_mean\n",
        "confidence_intervals = forecast.conf_int()\n",
        "\n",
        "# Visualize the original time series data\n",
        "plt.figure(figsize=(10, 6))\n",
        "plt.plot(ts, label='Original Data')\n",
        "plt.title('Original Time Series Data')\n",
        "plt.xlabel('Index')\n",
        "plt.ylabel('Value')\n",
        "plt.legend()\n",
        "plt.show()\n",
        "\n",
        "# Visualize the forecasted values and confidence intervals\n",
        "plt.figure(figsize=(10, 6))\n",
        "plt.plot(range(len(ts)), ts, label='Original Data')\n",
        "plt.plot(range(len(ts), len(ts) + future_steps), forecast_values, label='Forecast', color='red')\n",
        "plt.fill_between(range(len(ts), len(ts) + future_steps),\n",
        "                 confidence_intervals.iloc[:, 0],\n",
        "                 confidence_intervals.iloc[:, 1], color='pink', alpha=0.3, label='Confidence Intervals')\n",
        "plt.title('Forecasted Values with SARIMA')\n",
        "plt.xlabel('Index')\n",
        "plt.ylabel('Value')\n",
        "plt.legend()\n",
        "plt.show()"
      ],
      "metadata": {
        "colab": {
          "base_uri": "https://localhost:8080/",
          "height": 1000
        },
        "id": "sBcLe49JncwF",
        "outputId": "f177890e-aaf9-409c-f609-a7d5715d7120"
      },
      "execution_count": 259,
      "outputs": [
        {
          "output_type": "display_data",
          "data": {
            "text/plain": [
              "<Figure size 1000x600 with 1 Axes>"
            ],
            "image/png": "[encoded data removed]"
          },
          "metadata": {}
        },
        {
          "output_type": "display_data",
          "data": {
            "text/plain": [
              "<Figure size 1000x600 with 1 Axes>"
            ],
            "image/png": "[encoded data removed]"
          },
          "metadata": {}
        }
      ]
    },
    {
      "cell_type": "code",
      "source": [
        "\n",
        "from statsmodels.tsa.arima.model import ARIMA\n",
        "from statsmodels.tsa.statespace.sarimax import SARIMAX\n",
        "import matplotlib.pyplot as plt\n",
        "\n",
        "\n",
        "ts = df['VALUE']\n",
        "\n",
        "# Fit an ARIMA model\n",
        "arima_model = ARIMA(ts, order=(5, 1, 0))  # ARIMA(p, d, q) - Adjust order as needed\n",
        "arima_model_fit = arima_model.fit()\n",
        "\n",
        "# Forecast with ARIMA\n",
        "future_steps = 50  # Number of future steps to forecast\n",
        "arima_forecast = arima_model_fit.forecast(steps=future_steps)\n",
        "\n",
        "# Fit a SARIMA model\n",
        "order = (1, 1, 1)  # Specify the (p, d, q) parameters\n",
        "seasonal_order = (1, 1, 1, 12)  # Specify the seasonal (P, D, Q, S) parameters\n",
        "sarima_model = SARIMAX(ts, order=order, seasonal_order=seasonal_order)\n",
        "sarima_model_fit = sarima_model.fit()\n",
        "\n",
        "# Forecast with SARIMA\n",
        "sarima_forecast = sarima_model_fit.get_forecast(steps=future_steps).predicted_mean\n",
        "\n",
        "# Visualize the forecasts\n",
        "plt.figure(figsize=(10, 6))\n",
        "plt.plot(ts, label='Original Data')\n",
        "plt.plot(range(len(ts), len(ts) + future_steps), arima_forecast, label='ARIMA Forecast', color='red')\n",
        "plt.plot(range(len(ts), len(ts) + future_steps), sarima_forecast, label='SARIMA Forecast', color='green')\n",
        "plt.title('ARIMA vs SARIMA Forecast Comparison')\n",
        "plt.xlabel('Index')\n",
        "plt.ylabel('Value')\n",
        "plt.legend()\n",
        "plt.show()"
      ],
      "metadata": {
        "colab": {
          "base_uri": "https://localhost:8080/",
          "height": 564
        },
        "id": "xgsfh4oqnczJ",
        "outputId": "e07f5538-218c-4b18-edfe-e96b8c91b9d2"
      },
      "execution_count": 260,
      "outputs": [
        {
          "output_type": "display_data",
          "data": {
            "text/plain": [
              "<Figure size 1000x600 with 1 Axes>"
            ],
            "image/png": "[encoded data removed]"
          },
          "metadata": {}
        }
      ]
    },
    {
      "cell_type": "code",
      "source": [
        "# Display the column names in your DataFrame\n",
        "print(df.columns)"
      ],
      "metadata": {
        "colab": {
          "base_uri": "https://localhost:8080/"
        },
        "id": "zGWbBNvChtUZ",
        "outputId": "4110b353-fd4d-47d1-f011-0761dbfbe707"
      },
      "execution_count": 261,
      "outputs": [
        {
          "output_type": "stream",
          "name": "stdout",
          "text": [
            "Index(['Year', 'VALUE', 'Numerical_Week', 'Luas Line Encoded'], dtype='object')\n"
          ]
        }
      ]
    },
    {
      "cell_type": "code",
      "source": [
        "from sklearn.cluster import KMeans\n",
        "import matplotlib.pyplot as plt\n",
        "# Selecting numerical columns for clustering\n",
        "numerical_cols = ['Year', 'VALUE', 'Numerical_Week', 'Luas Line Encoded']\n",
        "\n",
        "# Initialize KMeans with the desired number of clusters\n",
        "num_clusters = 3  # You can change the number of clusters as needed\n",
        "kmeans = KMeans(n_clusters=num_clusters, random_state=42)\n",
        "\n",
        "# Fit KMeans to the selected columns\n",
        "df['Cluster'] = kmeans.fit_predict(df[numerical_cols])\n",
        "\n",
        "# Visualizing the clusters (for two features at a time, e.g., 'VALUE' and 'Numerical_Week')\n",
        "plt.scatter(df['VALUE'], df['Numerical_Week'], c=df['Cluster'], cmap='viridis')\n",
        "plt.title('K-Means Clustering')\n",
        "plt.xlabel('VALUE')\n",
        "plt.ylabel('Numerical_Week')\n",
        "plt.colorbar(label='Cluster')\n",
        "plt.show()\n",
        "\n",
        "# Displaying modified DataFrame with the 'Cluster' column\n",
        "print(df.head())"
      ],
      "metadata": {
        "colab": {
          "base_uri": "https://localhost:8080/",
          "height": 576
        },
        "id": "4n_EUQZig3HF",
        "outputId": "1fae7f5a-2453-4000-dd04-6cacb418e25b"
      },
      "execution_count": 262,
      "outputs": [
        {
          "output_type": "display_data",
          "data": {
            "text/plain": [
              "<Figure size 640x480 with 2 Axes>"
            ],
            "image/png": "[encoded data removed]"
          },
          "metadata": {}
        },
        {
          "output_type": "stream",
          "name": "stdout",
          "text": [
            "   Year     VALUE  Numerical_Week  Luas Line Encoded  Cluster\n",
            "0  2019  549533.0               1                  0        0\n",
            "1  2019  839022.0               2                  0        2\n",
            "2  2019  819359.0               3                  0        2\n",
            "3  2019  860745.0               4                  0        2\n",
            "4  2019  912795.0               5                  0        2\n"
          ]
        }
      ]
    },
    {
      "cell_type": "code",
      "source": [
        "from sklearn.decomposition import PCA\n",
        "# Selecting numerical columns for PCA\n",
        "numerical_cols = ['Year', 'VALUE', 'Numerical_Week', 'Luas Line Encoded']\n",
        "# Initialize PCA with the number of components\n",
        "num_components = 2  # You can change the number of components as needed\n",
        "pca = PCA(n_components=num_components)\n",
        "# Fit PCA to the selected columns\n",
        "pca_result = pca.fit_transform(df[numerical_cols])\n",
        "\n",
        "# Create a DataFrame for the PCA components\n",
        "pca_df = pd.DataFrame(data=pca_result, columns=['PCA_Component_1', 'PCA_Component_2'])\n",
        "\n",
        "# Concatenate the PCA components with the original DataFrame\n",
        "df = pd.concat([df, pca_df], axis=1)\n",
        "# Visualize PCA components\n",
        "plt.scatter(df['PCA_Component_1'], df['PCA_Component_2'])\n",
        "plt.title('Principal Component Analysis (PCA)')\n",
        "plt.xlabel('PCA Component 1')\n",
        "plt.ylabel('PCA Component 2')\n",
        "plt.show()\n",
        "# Displaying modified DataFrame with PCA components\n",
        "print(df.head())"
      ],
      "metadata": {
        "colab": {
          "base_uri": "https://localhost:8080/",
          "height": 698
        },
        "id": "jxW-R2meg3Mv",
        "outputId": "178a1cff-0ed4-42fc-857f-76455e86a230"
      },
      "execution_count": 263,
      "outputs": [
        {
          "output_type": "display_data",
          "data": {
            "text/plain": [
              "<Figure size 640x480 with 1 Axes>"
            ],
            "image/png": "[encoded data removed]"
          },
          "metadata": {}
        },
        {
          "output_type": "stream",
          "name": "stdout",
          "text": [
            "     Year     VALUE  Numerical_Week  Luas Line Encoded  Cluster  \\\n",
            "0  2019.0  549533.0             1.0                0.0      0.0   \n",
            "1  2019.0  839022.0             2.0                0.0      2.0   \n",
            "2  2019.0  819359.0             3.0                0.0      2.0   \n",
            "3  2019.0  860745.0             4.0                0.0      2.0   \n",
            "4  2019.0  912795.0             5.0                0.0      2.0   \n",
            "\n",
            "   PCA_Component_1  PCA_Component_2  \n",
            "0    116928.432696       -25.035101  \n",
            "1    406417.432697       -25.200949  \n",
            "2    386754.432702       -24.121828  \n",
            "3    428140.432705       -23.288554  \n",
            "4    480190.432709       -22.498225  \n"
          ]
        }
      ]
    },
    {
      "cell_type": "code",
      "source": [
        "from sklearn.impute import SimpleImputer\n",
        "from sklearn.cluster import DBSCAN\n",
        "\n",
        "# Selecting numerical columns for clustering\n",
        "numerical_cols = ['Year', 'VALUE', 'Numerical_Week', 'Luas Line Encoded']\n",
        "\n",
        "# Extracting the numerical data for clustering\n",
        "data_for_clustering = df[numerical_cols]\n",
        "\n",
        "# Handling missing values by imputing with the mean value\n",
        "imputer = SimpleImputer(strategy='mean')\n",
        "data_for_clustering_imputed = imputer.fit_transform(data_for_clustering)\n",
        "\n",
        "# Initializing DBSCAN with appropriate parameters (eps and min_samples)\n",
        "eps_val = 0.5  # Adjust this value based on the density of your data\n",
        "min_samples_val = 5  # Adjust the minimum number of samples based on your data size\n",
        "\n",
        "dbscan = DBSCAN(eps=eps_val, min_samples=min_samples_val)\n",
        "\n",
        "# Fit DBSCAN to the imputed data\n",
        "cluster_labels = dbscan.fit_predict(data_for_clustering_imputed)\n",
        "\n",
        "# Adding cluster labels to the DataFrame\n",
        "df['DBSCAN_Cluster'] = cluster_labels\n",
        "\n",
        "# Visualizing the clusters (for two features at a time, e.g., 'VALUE' and 'Numerical_Week')\n",
        "plt.scatter(df['VALUE'], df['Numerical_Week'], c=df['DBSCAN_Cluster'], cmap='viridis')\n",
        "plt.title('DBSCAN Clustering')\n",
        "plt.xlabel('VALUE')\n",
        "plt.ylabel('Numerical_Week')\n",
        "plt.colorbar(label='Cluster')\n",
        "plt.show()\n",
        "\n",
        "# Displaying modified DataFrame with 'DBSCAN_Cluster' column\n",
        "print(df.head())"
      ],
      "metadata": {
        "colab": {
          "base_uri": "https://localhost:8080/",
          "height": 698
        },
        "id": "Gf00N6vyg3Q3",
        "outputId": "d09ceb33-92b4-4c84-c7e6-bd4fbc00f64a"
      },
      "execution_count": 264,
      "outputs": [
        {
          "output_type": "display_data",
          "data": {
            "text/plain": [
              "<Figure size 640x480 with 2 Axes>"
            ],
            "image/png": "[encoded data removed]"
          },
          "metadata": {}
        },
        {
          "output_type": "stream",
          "name": "stdout",
          "text": [
            "     Year     VALUE  Numerical_Week  Luas Line Encoded  Cluster  \\\n",
            "0  2019.0  549533.0             1.0                0.0      0.0   \n",
            "1  2019.0  839022.0             2.0                0.0      2.0   \n",
            "2  2019.0  819359.0             3.0                0.0      2.0   \n",
            "3  2019.0  860745.0             4.0                0.0      2.0   \n",
            "4  2019.0  912795.0             5.0                0.0      2.0   \n",
            "\n",
            "   PCA_Component_1  PCA_Component_2  DBSCAN_Cluster  \n",
            "0    116928.432696       -25.035101              -1  \n",
            "1    406417.432697       -25.200949              -1  \n",
            "2    386754.432702       -24.121828              -1  \n",
            "3    428140.432705       -23.288554              -1  \n",
            "4    480190.432709       -22.498225              -1  \n"
          ]
        }
      ]
    },
    {
      "cell_type": "code",
      "source": [
        "import pandas as pd\n",
        "import matplotlib.pyplot as plt\n",
        "from sklearn.cluster import KMeans\n",
        "from sklearn.decomposition import PCA\n",
        "from sklearn.impute import SimpleImputer\n",
        "from sklearn.cluster import DBSCAN\n",
        "\n",
        "\n",
        "# Handling missing values in the dataset\n",
        "imputer = SimpleImputer(strategy='mean')\n",
        "df[numerical_cols] = imputer.fit_transform(df[numerical_cols])"
      ],
      "metadata": {
        "id": "-dHptnkHkIcP"
      },
      "execution_count": 265,
      "outputs": []
    },
    {
      "cell_type": "code",
      "source": [
        "\n",
        "from sklearn.cluster import KMeans\n",
        "from sklearn.decomposition import PCA\n",
        "from sklearn.impute import SimpleImputer\n",
        "from sklearn.cluster import DBSCAN\n",
        "\n",
        "\n",
        "# Selecting numerical columns for clustering and PCA\n",
        "numerical_cols = ['Year', 'VALUE', 'Numerical_Week', 'Luas Line Encoded']\n",
        "\n",
        "# ----- K-Means Clustering -----\n",
        "kmeans = KMeans(n_clusters=3, random_state=42)\n",
        "df['KMeans_Cluster'] = kmeans.fit_predict(df[numerical_cols])\n",
        "\n",
        "# ----- PCA -----\n",
        "pca = PCA(n_components=2)\n",
        "pca_result = pca.fit_transform(df[numerical_cols])\n",
        "df['PCA_Component_1'] = pca_result[:, 0]\n",
        "df['PCA_Component_2'] = pca_result[:, 1]\n",
        "\n",
        "# ----- DBSCAN -----\n",
        "imputer = SimpleImputer(strategy='mean')\n",
        "data_for_clustering = imputer.fit_transform(df[numerical_cols])\n",
        "dbscan = DBSCAN(eps=0.5, min_samples=5)\n",
        "df['DBSCAN_Cluster'] = dbscan.fit_predict(data_for_clustering)\n",
        "\n",
        "# Plotting the clusters/components\n",
        "plt.figure(figsize=(15, 5))\n",
        "\n",
        "# K-Means Clustering plot\n",
        "plt.subplot(1, 3, 1)\n",
        "plt.scatter(df['VALUE'], df['Numerical_Week'], c=df['KMeans_Cluster'], cmap='viridis')\n",
        "plt.title('K-Means Clustering')\n",
        "plt.xlabel('VALUE')\n",
        "plt.ylabel('Numerical_Week')\n",
        "\n",
        "# PCA plot\n",
        "plt.subplot(1, 3, 2)\n",
        "plt.scatter(df['PCA_Component_1'], df['PCA_Component_2'])\n",
        "plt.title('Principal Component Analysis (PCA)')\n",
        "plt.xlabel('PCA Component 1')\n",
        "plt.ylabel('PCA Component 2')\n",
        "\n",
        "# DBSCAN Clustering plot\n",
        "plt.subplot(1, 3, 3)\n",
        "plt.scatter(df['VALUE'], df['Numerical_Week'], c=df['DBSCAN_Cluster'], cmap='viridis')\n",
        "plt.title('DBSCAN Clustering')\n",
        "plt.xlabel('VALUE')\n",
        "plt.ylabel('Numerical_Week')\n",
        "\n",
        "plt.tight_layout()\n",
        "plt.show()"
      ],
      "metadata": {
        "id": "95qJAXKlg3TP"
      },
      "execution_count": null,
      "outputs": []
    },
    {
      "cell_type": "code",
      "source": [
        "df"
      ],
      "metadata": {
        "id": "e7c_elCdlMBU"
      },
      "execution_count": null,
      "outputs": []
    },
    {
      "cell_type": "code",
      "source": [
        "# Feature selection\n",
        "X = df[['Year', 'Numerical_Week', 'Luas Line Encoded']]\n",
        "y = df['VALUE']"
      ],
      "metadata": {
        "id": "xxKuKhs1R8rf"
      },
      "execution_count": null,
      "outputs": []
    },
    {
      "cell_type": "code",
      "source": [
        "# Splitting the data into training and testing sets\n",
        "X_train, X_test, y_train, y_test = train_test_split(X, y, test_size=0.2, random_state=42)"
      ],
      "metadata": {
        "id": "P1iYUMS-NpPf"
      },
      "execution_count": null,
      "outputs": []
    },
    {
      "cell_type": "code",
      "source": [
        "from sklearn.model_selection import GridSearchCV\n",
        "from sklearn.ensemble import RandomForestRegressor\n",
        "from sklearn.metrics import mean_squared_error\n",
        "from sklearn.model_selection import train_test_split"
      ],
      "metadata": {
        "id": "81dyDEjqTnng"
      },
      "execution_count": null,
      "outputs": []
    },
    {
      "cell_type": "code",
      "source": [
        "# Choosing the model and defining hyperparameters grid\n",
        "param_grid = {\n",
        "    'n_estimators': [100, 300, 500],\n",
        "    'max_depth': [None, 5, 10, 20],\n",
        "    # Add more hyperparameters as needed for tuning\n",
        "}"
      ],
      "metadata": {
        "id": "WWM90AvcTnvT"
      },
      "execution_count": null,
      "outputs": []
    },
    {
      "cell_type": "code",
      "source": [
        "# Initialize the model\n",
        "rf = RandomForestRegressor()"
      ],
      "metadata": {
        "id": "XO2ySNcHTnyN"
      },
      "execution_count": null,
      "outputs": []
    },
    {
      "cell_type": "code",
      "source": [
        "# Grid search cross-validation for hyperparameter tuning\n",
        "grid_search = GridSearchCV(estimator=rf, param_grid=param_grid, cv=5, scoring='neg_mean_squared_error')\n",
        "grid_search.fit(X_train, y_train)"
      ],
      "metadata": {
        "id": "MIMWElXHTn3N"
      },
      "execution_count": null,
      "outputs": []
    },
    {
      "cell_type": "code",
      "source": [
        "# Best parameters and model\n",
        "best_params = grid_search.best_params_\n",
        "best_model = grid_search.best_estimator_"
      ],
      "metadata": {
        "id": "QNaO7GSWTn_L"
      },
      "execution_count": null,
      "outputs": []
    },
    {
      "cell_type": "code",
      "source": [
        "# Evaluate the model\n",
        "y_pred = best_model.predict(X_test)\n",
        "mse = mean_squared_error(y_test, y_pred)\n",
        "rmse = mse ** 0.5\n",
        "\n",
        "print(f\"Root Mean Squared Error: {rmse}\")"
      ],
      "metadata": {
        "id": "rENCRRkIToDp"
      },
      "execution_count": null,
      "outputs": []
    },
    {
      "cell_type": "code",
      "source": [
        "# Calculate RMSE for the training set\n",
        "train_pred = best_model.predict(X_train)\n",
        "train_rmse = mean_squared_error(y_train, train_pred, squared=False)\n",
        "print(f\"Training RMSE: {train_rmse}\")"
      ],
      "metadata": {
        "id": "ztHy4TMgqhJS"
      },
      "execution_count": null,
      "outputs": []
    },
    {
      "cell_type": "code",
      "source": [
        "from sklearn.metrics import r2_score\n",
        "\n",
        "# Calculate R² for training and test sets\n",
        "train_r2 = r2_score(y_train, train_pred)\n",
        "test_r2 = r2_score(y_test, y_pred)\n",
        "print(f\"Training R²: {train_r2}\")\n",
        "print(f\"Test R²: {test_r2}\")"
      ],
      "metadata": {
        "id": "PQl4ONHCqhMO"
      },
      "execution_count": null,
      "outputs": []
    },
    {
      "cell_type": "code",
      "source": [
        "from sklearn.metrics import mean_absolute_error\n",
        "\n",
        "# Calculate MAE for training and test sets\n",
        "train_mae = mean_absolute_error(y_train, train_pred)\n",
        "test_mae = mean_absolute_error(y_test, y_pred)\n",
        "print(f\"Training MAE: {train_mae}\")\n",
        "print(f\"Test MAE: {test_mae}\")"
      ],
      "metadata": {
        "id": "0XTEaMDbqhO_"
      },
      "execution_count": null,
      "outputs": []
    },
    {
      "cell_type": "code",
      "source": [
        "from sklearn.model_selection import learning_curve\n",
        "# Use best_model or the model you want to evaluate\n",
        "train_sizes, train_scores, test_scores = learning_curve(best_model, X, y, cv=5, scoring='neg_mean_squared_error')\n",
        "\n",
        "train_scores_mean = -train_scores.mean(axis=1)\n",
        "test_scores_mean = -test_scores.mean(axis=1)\n",
        "\n",
        "plt.figure(figsize=(8, 6))\n",
        "plt.title('Learning Curves')\n",
        "plt.xlabel('Training Examples')\n",
        "plt.ylabel('Neg Mean Squared Error')\n",
        "\n",
        "plt.plot(train_sizes, train_scores_mean, label='Training Error')\n",
        "plt.plot(train_sizes, test_scores_mean, label='Cross-validation Error')\n",
        "\n",
        "plt.legend()\n",
        "plt.show()"
      ],
      "metadata": {
        "id": "w6k1Uv1hqhRV"
      },
      "execution_count": null,
      "outputs": []
    },
    {
      "cell_type": "code",
      "source": [
        "from sklearn.model_selection import cross_val_score"
      ],
      "metadata": {
        "id": "Nk62Hv9MW52C"
      },
      "execution_count": null,
      "outputs": []
    },
    {
      "cell_type": "code",
      "source": [
        "rf = RandomForestRegressor(n_estimators=100, max_depth=None)  # Use the best hyperparameters here"
      ],
      "metadata": {
        "id": "zKRTRExpW6XY"
      },
      "execution_count": null,
      "outputs": []
    },
    {
      "cell_type": "code",
      "source": [
        "# Performing cross-validation\n",
        "cv_scores = cross_val_score(rf, X_train, y_train, cv=5, scoring='neg_mean_squared_error')\n"
      ],
      "metadata": {
        "id": "3nCbNgxwW6m4"
      },
      "execution_count": null,
      "outputs": []
    },
    {
      "cell_type": "code",
      "source": [
        "# Calculating root mean squared error (RMSE) for cross-validation scores\n",
        "rmse_scores = np.sqrt(-cv_scores)  # Calculate RMSE scores"
      ],
      "metadata": {
        "id": "u_pnL6E6XDEw"
      },
      "execution_count": null,
      "outputs": []
    },
    {
      "cell_type": "code",
      "source": [
        "# Print the RMSE scores for each fold\n",
        "print(\"RMSE scores for each fold:\", rmse_scores)"
      ],
      "metadata": {
        "id": "pPVu6QliXDHz"
      },
      "execution_count": null,
      "outputs": []
    },
    {
      "cell_type": "code",
      "source": [
        "# Print the average RMSE score and its standard deviation\n",
        "print(f\"Average RMSE: {np.mean(rmse_scores):.4f} (+/- {np.std(rmse_scores):.4f})\")"
      ],
      "metadata": {
        "id": "XVlMw2KaXDKj"
      },
      "execution_count": null,
      "outputs": []
    },
    {
      "cell_type": "code",
      "source": [
        "\n",
        "# Assuming y_test contains the actual target values from the test set\n",
        "plt.figure(figsize=(8, 6))\n",
        "plt.scatter(y_test, y_pred, alpha=0.5)\n",
        "plt.title('RandomForestRegressor: Actual vs Predicted')\n",
        "plt.xlabel('Actual values')\n",
        "plt.ylabel('Predicted values')\n",
        "plt.show()"
      ],
      "metadata": {
        "id": "sylyBD7eUFiG"
      },
      "execution_count": null,
      "outputs": []
    },
    {
      "cell_type": "code",
      "source": [
        "from sklearn.ensemble import GradientBoostingRegressor\n",
        "from sklearn.svm import SVR\n",
        "import numpy as np"
      ],
      "metadata": {
        "id": "-FPyHutsUFq8"
      },
      "execution_count": null,
      "outputs": []
    },
    {
      "cell_type": "code",
      "source": [
        "# Initialize Gradient Boosting Regressor\n",
        "gradient_boosting = GradientBoostingRegressor()"
      ],
      "metadata": {
        "id": "KrkjwDsUUFt-"
      },
      "execution_count": null,
      "outputs": []
    },
    {
      "cell_type": "code",
      "source": [
        "# Fit the Gradient Boosting Regressor\n",
        "gradient_boosting.fit(X_train, y_train)"
      ],
      "metadata": {
        "id": "zFDTBQ2CUFwl"
      },
      "execution_count": null,
      "outputs": []
    },
    {
      "cell_type": "code",
      "source": [
        "# Predict using Gradient Boosting Regressor\n",
        "y_pred_gb = gradient_boosting.predict(X_test)"
      ],
      "metadata": {
        "id": "Ip-lqI7SUFzo"
      },
      "execution_count": null,
      "outputs": []
    },
    {
      "cell_type": "code",
      "source": [
        "# Calculate RMSE for Gradient Boosting Regressor\n",
        "mse_gb = mean_squared_error(y_test, y_pred_gb)\n",
        "rmse_gb = np.sqrt(mse_gb)\n",
        "print(f\"Gradient Boosting Regressor RMSE: {rmse_gb}\")"
      ],
      "metadata": {
        "id": "l8IIiWznUZg0"
      },
      "execution_count": null,
      "outputs": []
    },
    {
      "cell_type": "code",
      "source": [
        "# Predict on the training set\n",
        "y_train_pred = gradient_boosting.predict(X_train)\n",
        "\n",
        "# Predict on the test set\n",
        "y_test_pred = gradient_boosting.predict(X_test)"
      ],
      "metadata": {
        "id": "FosoyjvptsJ7"
      },
      "execution_count": null,
      "outputs": []
    },
    {
      "cell_type": "code",
      "source": [
        "# Calculate RMSE for training and test sets\n",
        "rmse_train = np.sqrt(mean_squared_error(y_train, y_train_pred))\n",
        "rmse_test = np.sqrt(mean_squared_error(y_test, y_test_pred))\n",
        "print(f\"Training RMSE: {rmse_train}\")\n",
        "print(f\"Test RMSE: {rmse_test}\")\n",
        "\n",
        "# Calculate R² for training and test sets\n",
        "r2_train = r2_score(y_train, y_train_pred)\n",
        "r2_test = r2_score(y_test, y_test_pred)\n",
        "print(f\"Training R²: {r2_train}\")\n",
        "print(f\"Test R²: {r2_test}\")\n",
        "\n",
        "# Calculate MAE for training and test sets\n",
        "mae_train = mean_absolute_error(y_train, y_train_pred)\n",
        "mae_test = mean_absolute_error(y_test, y_test_pred)\n",
        "print(f\"Training MAE: {mae_train}\")\n",
        "print(f\"Test MAE: {mae_test}\")"
      ],
      "metadata": {
        "id": "uR_B54G_tsUr"
      },
      "execution_count": null,
      "outputs": []
    },
    {
      "cell_type": "code",
      "source": [
        "\n",
        "from sklearn.model_selection import learning_curve\n",
        "\n",
        "train_sizes, train_scores, test_scores = learning_curve(\n",
        "    GradientBoostingRegressor(), X, y, cv=5, scoring='neg_mean_squared_error')\n",
        "\n",
        "train_scores_mean = -train_scores.mean(axis=1)\n",
        "test_scores_mean = -test_scores.mean(axis=1)\n",
        "\n",
        "plt.figure(figsize=(8, 6))\n",
        "plt.title('Learning Curves')\n",
        "plt.xlabel('Training Examples')\n",
        "plt.ylabel('Neg Mean Squared Error')\n",
        "\n",
        "plt.plot(train_sizes, train_scores_mean, label='Training Error')\n",
        "plt.plot(train_sizes, test_scores_mean, label='Cross-validation Error')\n",
        "\n",
        "plt.legend()\n",
        "plt.show()"
      ],
      "metadata": {
        "id": "SWudTqXxtsXx"
      },
      "execution_count": null,
      "outputs": []
    },
    {
      "cell_type": "code",
      "source": [
        "# Performing cross-validation\n",
        "cv_scores_gb = cross_val_score(gradient_boosting, X_train, y_train, cv=5, scoring='neg_mean_squared_error')"
      ],
      "metadata": {
        "id": "4yWQ9Uc5YbLL"
      },
      "execution_count": null,
      "outputs": []
    },
    {
      "cell_type": "code",
      "source": [
        "# Calculating RMSE for cross-validation scores\n",
        "rmse_scores_gb = np.sqrt(-cv_scores_gb)  # Calculate RMSE scores"
      ],
      "metadata": {
        "id": "Isi42zRjYbPh"
      },
      "execution_count": null,
      "outputs": []
    },
    {
      "cell_type": "code",
      "source": [
        "# Print the RMSE scores for each fold\n",
        "print(\"RMSE scores for each fold:\", rmse_scores_gb)\n"
      ],
      "metadata": {
        "id": "FDgWHXQmYeey"
      },
      "execution_count": null,
      "outputs": []
    },
    {
      "cell_type": "code",
      "source": [
        "# Print the average RMSE score and its standard deviation\n",
        "print(f\"Average RMSE: {np.mean(rmse_scores_gb):.4f} (+/- {np.std(rmse_scores_gb):.4f})\")"
      ],
      "metadata": {
        "id": "YWKmqW__Yehp"
      },
      "execution_count": null,
      "outputs": []
    },
    {
      "cell_type": "code",
      "source": [
        "# Visualize Gradient Boosting Regressor predictions\n",
        "plt.figure(figsize=(8, 6))\n",
        "plt.scatter(y_test, y_pred_gb, alpha=0.5)\n",
        "plt.title('Gradient Boosting Regressor: Actual vs Predicted')\n",
        "plt.xlabel('Actual values')\n",
        "plt.ylabel('Predicted values')\n",
        "plt.show()"
      ],
      "metadata": {
        "id": "kHSMYjgUUZjl"
      },
      "execution_count": null,
      "outputs": []
    },
    {
      "cell_type": "code",
      "source": [
        "# Initialize Support Vector Regressor (SVR)\n",
        "svr = SVR()"
      ],
      "metadata": {
        "id": "FMut8N0zUZmV"
      },
      "execution_count": null,
      "outputs": []
    },
    {
      "cell_type": "code",
      "source": [
        "# Fit the SVR\n",
        "svr.fit(X_train, y_train)\n",
        "\n",
        "# Predict using SVR\n",
        "y_pred_svr = svr.predict(X_test)"
      ],
      "metadata": {
        "id": "x0hBXoWRUZo1"
      },
      "execution_count": null,
      "outputs": []
    },
    {
      "cell_type": "code",
      "source": [
        "# Calculate RMSE for SVR\n",
        "mse_svr = mean_squared_error(y_test, y_pred_svr)\n",
        "rmse_svr = np.sqrt(mse_svr)\n",
        "print(f\"Support Vector Regressor RMSE: {rmse_svr}\")"
      ],
      "metadata": {
        "id": "mB9eiHzVUZrC"
      },
      "execution_count": null,
      "outputs": []
    },
    {
      "cell_type": "code",
      "source": [
        "# Performing cross-validation\n",
        "cv_scores_svr = cross_val_score(svr, X_train, y_train, cv=5, scoring='neg_mean_squared_error')"
      ],
      "metadata": {
        "id": "DdNu-B7OZAiJ"
      },
      "execution_count": null,
      "outputs": []
    },
    {
      "cell_type": "code",
      "source": [
        "# Calculating RMSE for cross-validation scores\n",
        "rmse_scores_svr = np.sqrt(-cv_scores_svr)  # Calculate RMSE scores\n"
      ],
      "metadata": {
        "id": "Z0U1JTqQZAm0"
      },
      "execution_count": null,
      "outputs": []
    },
    {
      "cell_type": "code",
      "source": [
        "# Print the RMSE scores for each fold\n",
        "print(\"RMSE scores for each fold:\", rmse_scores_svr)\n"
      ],
      "metadata": {
        "id": "1lFNzeKGZAqo"
      },
      "execution_count": null,
      "outputs": []
    },
    {
      "cell_type": "code",
      "source": [
        "# Print the average RMSE score and its standard deviation\n",
        "print(f\"Average RMSE: {np.mean(rmse_scores_svr):.4f} (+/- {np.std(rmse_scores_svr):.4f})\")"
      ],
      "metadata": {
        "id": "wSLpiz-4ZG1u"
      },
      "execution_count": null,
      "outputs": []
    },
    {
      "cell_type": "code",
      "source": [
        "# Visualize SVR predictions\n",
        "plt.figure(figsize=(8, 6))\n",
        "plt.scatter(y_test, y_pred_svr, alpha=0.5)\n",
        "plt.title('Support Vector Regressor: Actual vs Predicted')\n",
        "plt.xlabel('Actual values')\n",
        "plt.ylabel('Predicted values')\n",
        "plt.show()"
      ],
      "metadata": {
        "id": "oAADVtYbUkI9"
      },
      "execution_count": null,
      "outputs": []
    },
    {
      "cell_type": "code",
      "source": [
        "y_train_pred_svr = svr.predict(X_train)\n",
        "y_test_pred_svr = svr.predict(X_test)"
      ],
      "metadata": {
        "id": "xvrrWjVkv3HC"
      },
      "execution_count": null,
      "outputs": []
    },
    {
      "cell_type": "code",
      "source": [
        "# Calculate MAE for SVR model predictions on the training set\n",
        "mae_train_svr = mean_absolute_error(y_train, y_train_pred_svr)\n",
        "\n",
        "# Calculate MAE for SVR model predictions on the test set\n",
        "mae_test_svr = mean_absolute_error(y_test, y_test_pred_svr)\n",
        "\n",
        "print(f\"SVR Training MAE: {mae_train_svr}\")\n",
        "print(f\"SVR Test MAE: {mae_test_svr}\")"
      ],
      "metadata": {
        "id": "pvNZNFT-74hZ"
      },
      "execution_count": null,
      "outputs": []
    },
    {
      "cell_type": "code",
      "source": [
        "# Plotting learning curve for SVR without cross-validation\n",
        "train_sizes_svr, train_scores_svr, test_scores_svr = learning_curve(\n",
        "    SVR(), X, y, train_sizes=np.linspace(0.1, 1.0, 10), shuffle=True,\n",
        "    scoring='neg_mean_squared_error', cv=None)\n",
        "\n",
        "train_scores_mean_svr = -train_scores_svr.mean(axis=1)\n",
        "test_scores_mean_svr = -test_scores_svr.mean(axis=1)\n",
        "\n",
        "plt.figure(figsize=(8, 6))\n",
        "plt.title('SVR Learning Curve (No Cross-Validation)')\n",
        "plt.xlabel('Training Examples')\n",
        "plt.ylabel('Neg Mean Squared Error')\n",
        "\n",
        "plt.plot(train_sizes_svr, train_scores_mean_svr, label='Training Error')\n",
        "plt.plot(train_sizes_svr, test_scores_mean_svr, label='Test Error')\n",
        "\n",
        "plt.legend()\n",
        "plt.show()"
      ],
      "metadata": {
        "id": "VzOZ2Efiv3OW"
      },
      "execution_count": null,
      "outputs": []
    },
    {
      "cell_type": "code",
      "source": [
        "\n",
        "from sklearn.ensemble import GradientBoostingRegressor, RandomForestRegressor\n",
        "from sklearn.svm import SVR\n",
        "from sklearn.metrics import mean_squared_error"
      ],
      "metadata": {
        "id": "DtjuadpPUkOK"
      },
      "execution_count": null,
      "outputs": []
    },
    {
      "cell_type": "code",
      "source": [
        "# Initialize Gradient Boosting Regressor\n",
        "gradient_boosting = GradientBoostingRegressor()\n",
        "gradient_boosting.fit(X_train, y_train)\n",
        "y_pred_gb = gradient_boosting.predict(X_test)\n",
        "rmse_gb = mean_squared_error(y_test, y_pred_gb, squared=False)"
      ],
      "metadata": {
        "id": "oi5iqaRkUmoa"
      },
      "execution_count": null,
      "outputs": []
    },
    {
      "cell_type": "code",
      "source": [
        "# Initialize Support Vector Regressor (SVR)\n",
        "svr = SVR()\n",
        "svr.fit(X_train, y_train)\n",
        "y_pred_svr = svr.predict(X_test)\n",
        "rmse_svr = mean_squared_error(y_test, y_pred_svr, squared=False)"
      ],
      "metadata": {
        "id": "iob15lfTUmrt"
      },
      "execution_count": null,
      "outputs": []
    },
    {
      "cell_type": "code",
      "source": [
        "# RandomForestRegressor predictions (already trained)\n",
        "y_pred_rf = best_model.predict(X_test)\n",
        "rmse_rf = mean_squared_error(y_test, y_pred_rf, squared=False)"
      ],
      "metadata": {
        "id": "q2kNrnEvUmwM"
      },
      "execution_count": null,
      "outputs": []
    },
    {
      "cell_type": "code",
      "source": [
        "# Create a bar plot\n",
        "models = ['RandomForestRegressor', 'GradientBoostingRegressor', 'SupportVectorRegressor']\n",
        "rmse_values = [rmse_rf, rmse_gb, rmse_svr]"
      ],
      "metadata": {
        "id": "IoDjoyRxUm17"
      },
      "execution_count": null,
      "outputs": []
    },
    {
      "cell_type": "code",
      "source": [
        "plt.figure(figsize=(8, 6))\n",
        "plt.bar(models, rmse_values, color=['blue', 'orange', 'green'])\n",
        "plt.title('Comparison of RMSE values')\n",
        "plt.xlabel('Models')\n",
        "plt.ylabel('RMSE')\n",
        "plt.ylim(0, max(rmse_values) * 1.2)  # Set ylim for better visualization\n",
        "plt.show()"
      ],
      "metadata": {
        "id": "rMaHYpNoUkQ9"
      },
      "execution_count": null,
      "outputs": []
    },
    {
      "cell_type": "code",
      "source": [
        "#warnings\n",
        "import warnings\n",
        "warnings.filterwarnings('ignore')\n",
        "\n",
        "import os\n",
        "#dir_Path ='F:\\\\'\n",
        "#os.chdir(dir_Path)"
      ],
      "metadata": {
        "id": "KQgx9jirvpI7"
      },
      "execution_count": null,
      "outputs": []
    },
    {
      "cell_type": "code",
      "source": [
        "pip install praw"
      ],
      "metadata": {
        "id": "IhLvdUsPp9FP"
      },
      "execution_count": null,
      "outputs": []
    },
    {
      "cell_type": "code",
      "source": [
        "import praw\n",
        "\n",
        "# Reddit API credentials (you need to create an app in Reddit to obtain these)\n",
        "client_id = 'grPUEiWuAjhA3Et8c6Pn_Q'\n",
        "client_secret = '62H9rNmzcWVjann8ZH3BCz2xYf-9mQ'\n",
        "user_agent = 'CASalah'\n",
        "\n",
        "# Initialize PRAW with your credentials\n",
        "reddit = praw.Reddit(client_id=client_id, client_secret=client_secret, user_agent=user_agent)\n",
        "\n",
        "# URL of the Reddit post\n",
        "post_url = 'https://www.reddit.com/r/Dublin/comments/12mbt0g/another_day_on_the_red_line_luas/'\n",
        "\n",
        "# Fetch Reddit post data\n",
        "try:\n",
        "    submission = reddit.submission(url=post_url)\n",
        "\n",
        "    # Print post title and content\n",
        "    print(f\"Post Title: {submission.title}\\n\")\n",
        "    print(f\"Post Content: {submission.selftext}\\n\")\n",
        "\n",
        "    # Print comments\n",
        "    print(\"Comments:\")\n",
        "    submission.comments.replace_more(limit=None)  # Retrieve all comments\n",
        "    for comment in submission.comments.list():\n",
        "        print(f\"- {comment.body}\\n\")\n",
        "except Exception as e:\n",
        "    print(f\"Error fetching Reddit post: {e}\")"
      ],
      "metadata": {
        "id": "Ci1PyPFHp9ID"
      },
      "execution_count": null,
      "outputs": []
    },
    {
      "cell_type": "code",
      "source": [
        "import praw\n",
        "from textblob import TextBlob\n",
        "\n",
        "# Reddit API credentials\n",
        "client_id = 'grPUEiWuAjhA3Et8c6Pn_Q'\n",
        "client_secret = '62H9rNmzcWVjann8ZH3BCz2xYf-9mQ'\n",
        "user_agent = 'CASalah'\n",
        "\n",
        "# Initialize PRAW with your credentials\n",
        "reddit = praw.Reddit(\n",
        "    client_id=client_id,\n",
        "    client_secret=client_secret,\n",
        "    user_agent=user_agent,\n",
        ")\n",
        "\n",
        "# URL of the Reddit post\n",
        "post_url = 'https://www.reddit.com/r/Dublin/comments/12mbt0g/another_day_on_the_red_line_luas/'\n",
        "\n",
        "# Create empty lists to store data\n",
        "comments_list = []\n",
        "sentiment_polarity = []\n",
        "sentiment_subjectivity = []\n",
        "\n",
        "# Fetch Reddit post data\n",
        "try:\n",
        "    submission = reddit.submission(url=post_url)\n",
        "\n",
        "    # Perform sentiment analysis on post content\n",
        "    post_blob = TextBlob(submission.selftext)\n",
        "    post_sentiment = post_blob.sentiment\n",
        "    print(f\"Post Title: {submission.title}\")\n",
        "    print(f\"Post Sentiment - Polarity: {post_sentiment.polarity}, Subjectivity: {post_sentiment.subjectivity}\\n\")\n",
        "\n",
        "    # Append post sentiment to lists\n",
        "    comments_list.append(\"Post\")\n",
        "    sentiment_polarity.append(post_sentiment.polarity)\n",
        "    sentiment_subjectivity.append(post_sentiment.subjectivity)\n",
        "\n",
        "    # Fetch comments and perform sentiment analysis\n",
        "    submission.comments.replace_more(limit=None)  # Retrieve all comments\n",
        "    for comment in submission.comments.list():\n",
        "        comment_blob = TextBlob(comment.body)\n",
        "        comment_sentiment = comment_blob.sentiment\n",
        "\n",
        "        # Append comment sentiment to lists\n",
        "        comments_list.append(comment.body)\n",
        "        sentiment_polarity.append(comment_sentiment.polarity)\n",
        "        sentiment_subjectivity.append(comment_sentiment.subjectivity)\n",
        "\n",
        "except Exception as e:\n",
        "    print(f\"Error fetching Reddit post: {e}\")\n",
        "\n",
        "# Create a pandas DataFrame with sentiment analysis results\n",
        "data = {\n",
        "    'Text': comments_list,\n",
        "    'Polarity': sentiment_polarity,\n",
        "    'Subjectivity': sentiment_subjectivity\n",
        "}\n",
        "\n",
        "df = pd.DataFrame(data)\n",
        "\n",
        "# Display sentiment analysis results in tabular format\n",
        "print(df)"
      ],
      "metadata": {
        "id": "pe7LFXleYoTn"
      },
      "execution_count": null,
      "outputs": []
    },
    {
      "cell_type": "markdown",
      "source": [
        "The sentiment analysis findings for the Reddit post and comments are arranged neatly in a table. Each row in the table represents either the post or a comment. It shows the text, polarity score, and subjectivity score. The polarity score tells us how positive or negative the sentiment is, ranging from -1 (very negative) to 1 (very positive). Meanwhile, the subjectivity score indicates how much opinions or feelings are present in the text, from 0 (factual) to 1 (opinionated)."
      ],
      "metadata": {
        "id": "uaXsdZrgZLW0"
      }
    },
    {
      "cell_type": "code",
      "source": [
        "df.head()"
      ],
      "metadata": {
        "id": "DSr-e5LuW87p"
      },
      "execution_count": null,
      "outputs": []
    },
    {
      "cell_type": "markdown",
      "source": [
        "The Polarity is our target in this data.\n",
        "We will train the model which can tell us from the the text wheter negative or positive revew"
      ],
      "metadata": {
        "id": "Fuj5ZhrfazTz"
      }
    },
    {
      "cell_type": "code",
      "source": [
        "df.shape"
      ],
      "metadata": {
        "id": "KYzu0Ow4aWaN"
      },
      "execution_count": null,
      "outputs": []
    },
    {
      "cell_type": "code",
      "source": [
        "df.info()"
      ],
      "metadata": {
        "id": "c8YvQIYdagDc"
      },
      "execution_count": null,
      "outputs": []
    },
    {
      "cell_type": "markdown",
      "source": [
        "Data Cleaning/EDA"
      ],
      "metadata": {
        "id": "XWPWOqs0xMj6"
      }
    },
    {
      "cell_type": "code",
      "source": [
        "# Calculate the percentage of missing values in each column\n",
        "missing_percentage = (df.isnull().sum() / len(df)) * 100\n",
        "\n",
        "print(\"Percentage of missing values in each column:\")\n",
        "print(missing_percentage)"
      ],
      "metadata": {
        "id": "F2tJnfLFuZ-x"
      },
      "execution_count": null,
      "outputs": []
    },
    {
      "cell_type": "markdown",
      "source": [
        "There are no missing values"
      ],
      "metadata": {
        "id": "pQT2Zf6iY56H"
      }
    },
    {
      "cell_type": "code",
      "source": [
        "#Apply first level cleaning\n",
        "import re\n",
        "import string\n",
        "\n",
        "#This function conver to lower-case, removes square brackets, romoves numbers and punctiuation\n",
        "def text_clean_1(text):\n",
        "  text = text.lower()\n",
        "  text = re.sub('\\[.*?\\]', '', text)\n",
        "  text = re.sub('[%s]' % re.escape(string.punctuation), '', text)\n",
        "  text = re.sub('\\w*\\d\\w*', '', text)\n",
        "  return text\n",
        "\n",
        "cleaned1 = lambda x: text_clean_1(x)"
      ],
      "metadata": {
        "id": "ER9SfNAwuaEH"
      },
      "execution_count": null,
      "outputs": []
    },
    {
      "cell_type": "markdown",
      "source": [
        "Clean and standardize text data for better analysis or natural language processing tasks."
      ],
      "metadata": {
        "id": "hrHswJWUk5eh"
      }
    },
    {
      "cell_type": "code",
      "source": [
        "#\n",
        "df['cleaned_text']= pd.DataFrame(df.Text.apply(cleaned1))\n",
        "df.head(10)"
      ],
      "metadata": {
        "id": "dRwxMCiPuaL9"
      },
      "execution_count": null,
      "outputs": []
    },
    {
      "cell_type": "markdown",
      "source": [
        "Creat new colums called cleaned_text generated by the fonction"
      ],
      "metadata": {
        "id": "AHh6haA-lb7I"
      }
    },
    {
      "cell_type": "code",
      "source": [
        "import re\n",
        "\n",
        "def text_clean_2(text):\n",
        "    text = re.sub('[\"“”...]', '', text)  # Remove quotes, ellipses, and other specified characters\n",
        "    text = re.sub('\\n', '', text)       # Remove newline characters\n",
        "    return text\n",
        "\n",
        "cleaned2 = lambda x: text_clean_2(x)"
      ],
      "metadata": {
        "id": "8Z_GyO_VKd1o"
      },
      "execution_count": null,
      "outputs": []
    },
    {
      "cell_type": "code",
      "source": [
        "df['cleaned_text_new'] = pd.DataFrame(df['cleaned_text'].apply(cleaned2))\n",
        "df.head(6)"
      ],
      "metadata": {
        "id": "UVP-pNku9a8n"
      },
      "execution_count": null,
      "outputs": []
    },
    {
      "cell_type": "markdown",
      "source": [
        "Creat new colums cleaned_text_new with deep clean, we have better vlean text  "
      ],
      "metadata": {
        "id": "48LVno9Nmmgv"
      }
    },
    {
      "cell_type": "code",
      "source": [
        "# Adding a new column based on Polarity\n",
        "df['Sentiment'] = df['Polarity'].apply(lambda x: 'positive' if x > 0 else 'negative' if x < 0 else 'neutral')\n",
        "\n",
        "df.head()"
      ],
      "metadata": {
        "id": "G12QBDfSfDmS"
      },
      "execution_count": null,
      "outputs": []
    },
    {
      "cell_type": "code",
      "source": [
        "from ast import increment_lineno\n",
        "%matplotlib inline\n",
        "print('Percentage for default\\n')\n",
        "print(round(df.Sentiment.value_counts(normalize=True)*100,2))\n",
        "round(df.Sentiment.value_counts(normalize=True)*100,2).plot(kind='bar')\n",
        "plt.title('Percentage Distributions by review type')\n",
        "plt.show()"
      ],
      "metadata": {
        "id": "nUmVgWSkFH10"
      },
      "execution_count": null,
      "outputs": []
    },
    {
      "cell_type": "markdown",
      "source": [
        "The percentages of positive and negative sentiments are equal.\n",
        "positive    38.46\n",
        "negative    38.46"
      ],
      "metadata": {
        "id": "zVcwu-s_by8i"
      }
    },
    {
      "cell_type": "markdown",
      "source": [
        "Model training"
      ],
      "metadata": {
        "id": "gY8Hxdo7-cU5"
      }
    },
    {
      "cell_type": "code",
      "source": [
        "from sklearn.model_selection import train_test_split\n",
        "\n",
        "# Assuming 'new' is the independent variable and 'Text' is the dependent variable\n",
        "independent_var = df['cleaned_text_new']\n",
        "dependent_var = df['Sentiment']\n",
        "\n",
        "IV_train, IV_test, DV_train, DV_test = train_test_split(independent_var, dependent_var, test_size=0.1, random_state=225)\n",
        "\n",
        "print('IV_train:', len(IV_train))\n",
        "print('IV_test:', len(IV_test))\n",
        "print('DV_train:', len(DV_train))\n",
        "print('DV_test:', len(DV_test))"
      ],
      "metadata": {
        "id": "KVb-ChWrKluQ"
      },
      "execution_count": null,
      "outputs": []
    },
    {
      "cell_type": "markdown",
      "source": [
        "The code uses train_test_split to divide the dataset into training and testing sets for independent and dependent variables. It allocates 90% of the data for training (IV_train and DV_train) and 10% for testing (IV_test and DV_test). The printed outputs display the lengths of these training and testing sets for verification purposes."
      ],
      "metadata": {
        "id": "X-KV9enBoJrh"
      }
    },
    {
      "cell_type": "code",
      "source": [
        "from sklearn.feature_extraction.text import TfidfVectorizer\n",
        "from sklearn.linear_model import LogisticRegression\n",
        "\n",
        "tvec = TfidfVectorizer()\n",
        "clf2 = LogisticRegression(solver = \"lbfgs\")\n",
        "\n",
        "from sklearn.pipeline import Pipeline\n"
      ],
      "metadata": {
        "id": "kNvMYTC89bC4"
      },
      "execution_count": null,
      "outputs": []
    },
    {
      "cell_type": "markdown",
      "source": [
        "The code snippet imports modules for text vectorization (TfidfVectorizer), logistic regression modeling (LogisticRegression), and the Pipeline class from Scikit-learn. Although it creates instances for vectorization and logistic regression, it hasn't yet constructed a pipeline to combine these processes for sequential application."
      ],
      "metadata": {
        "id": "OdGrePlJoc2H"
      }
    },
    {
      "cell_type": "code",
      "source": [
        "from sklearn.feature_extraction.text import TfidfVectorizer\n",
        "from sklearn.linear_model import LogisticRegression\n",
        "from sklearn.pipeline import Pipeline\n",
        "\n",
        "# Creating a pipeline with TfidfVectorizer and LogisticRegression\n",
        "pipeline = Pipeline([\n",
        "    ('tfidf', TfidfVectorizer()),  # Using TfidfVectorizer for feature extraction\n",
        "    ('clf', LogisticRegression(solver='lbfgs'))  # Logistic Regression classifier\n",
        "])"
      ],
      "metadata": {
        "id": "4JFrw2iRKr_k"
      },
      "execution_count": null,
      "outputs": []
    },
    {
      "cell_type": "markdown",
      "source": [
        "The code snippet constructs a Scikit-learn pipeline by combining text vectorization (`TfidfVectorizer`) and logistic regression (`LogisticRegression`). This pipeline streamlines the process of converting text data to numerical features and applying logistic regression for classification in a sequential manner."
      ],
      "metadata": {
        "id": "OVsSYHoOopSs"
      }
    },
    {
      "cell_type": "code",
      "source": [
        "model = Pipeline([('vectorizer' , tvec),('classifier',clf2)])\n",
        "\n",
        "model.fit(IV_train, DV_train)\n",
        "\n",
        "from sklearn.metrics import confusion_matrix\n",
        "predictions = model.predict(IV_test)\n",
        "confusion_matrix(predictions, DV_test)"
      ],
      "metadata": {
        "id": "u7ktDeP1CiNO"
      },
      "execution_count": null,
      "outputs": []
    },
    {
      "cell_type": "markdown",
      "source": [
        "The confusion matrix output shows the model's classification performance. It indicates that the model correctly predicted 2 instances as positive sentiment but misclassified 4 instances as negative sentiment. There were no correct predictions for negative sentiment, and no instances were predicted as positive sentiment."
      ],
      "metadata": {
        "id": "8jhUZuR1FpWt"
      }
    },
    {
      "cell_type": "code",
      "source": [
        "from sklearn.metrics import accuracy_score, precision_score, recall_score\n",
        "print(\"Accuracy :\", accuracy_score(predictions, DV_test))\n",
        "print(\"Precision :\", precision_score(predictions, DV_test, average = 'weighted'))\n",
        "print(\"Recall :\", recall_score(predictions, DV_test, average = 'weighted'))"
      ],
      "metadata": {
        "id": "ET7ejlyWCiZq"
      },
      "execution_count": null,
      "outputs": []
    },
    {
      "cell_type": "markdown",
      "source": [
        "The reported accuracy is 33.33%, indicating that the model correctly predicted 33.33% of the instances. The precision score of 100% implies that all positive predictions made by the model were accurate. However, the recall score of 33.33% suggests that the model identified only one-third of the actual positive instances present in the dataset. Overall, the model shows limited performance in correctly identifying positive sentiments."
      ],
      "metadata": {
        "id": "MOGEIFRqpJP7"
      }
    },
    {
      "cell_type": "code",
      "source": [
        "example = ['good']\n",
        "result = model.predict(example)\n",
        "\n",
        "print(result)"
      ],
      "metadata": {
        "id": "a330t5OlHsHP"
      },
      "execution_count": null,
      "outputs": []
    },
    {
      "cell_type": "code",
      "source": [
        "example = ['bad']\n",
        "result = model.predict(example)\n",
        "\n",
        "print(result)"
      ],
      "metadata": {
        "id": "hK2BE74RfoDZ"
      },
      "execution_count": null,
      "outputs": []
    },
    {
      "cell_type": "code",
      "source": [
        "example = ['ever']\n",
        "result = model.predict(example)\n",
        "\n",
        "print(result)"
      ],
      "metadata": {
        "id": "ZiqpMW7SAI06"
      },
      "execution_count": null,
      "outputs": []
    },
    {
      "cell_type": "code",
      "source": [],
      "metadata": {
        "id": "ZzkDlSS3AKkV"
      },
      "execution_count": null,
      "outputs": []
    }
  ]
}